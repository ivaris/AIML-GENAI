{
  "cells": [
    {
      "cell_type": "markdown",
      "metadata": {
        "id": "UmKLmjqmHMQM"
      },
      "source": [
        "<center><p float=\"center\">\n",
        "  <img src=\"https://upload.wikimedia.org/wikipedia/commons/e/e9/4_RGB_McCombs_School_Brand_Branded.png\" width=\"300\" height=\"100\"/>\n",
        "  <img src=\"https://mma.prnewswire.com/media/1458111/Great_Learning_Logo.jpg?p=facebook\" width=\"200\" height=\"100\"/>\n",
        "</p></center>\n",
        "\n",
        "<center><font size=10>Generative AI for Business Applications</center></font>\n",
        "<center><font size=6>Agentic AI Workflows - Week 2</center></font>"
      ]
    },
    {
      "cell_type": "markdown",
      "metadata": {
        "id": "azxWym9-HMpz"
      },
      "source": [
        "<center><p float=\"center\">\n",
        "  <img src=\"https://images.pexels.com/photos/33910465/pexels-photo-33910465.jpeg\" width=720></a>\n",
        "<center><font size=6>Greatglobe Logistics Assistant: Automating Product Compliance and Customs Guidance</center></font>"
      ]
    },
    {
      "cell_type": "markdown",
      "source": [
        "#**Problem Statement**"
      ],
      "metadata": {
        "id": "keS00aIfPsKA"
      }
    },
    {
      "cell_type": "markdown",
      "metadata": {
        "id": "vSy2Fcr4CGwQ"
      },
      "source": [
        "## Business Context"
      ]
    },
    {
      "cell_type": "markdown",
      "metadata": {
        "id": "tblxSSyiCGwQ"
      },
      "source": [
        "Greatglobe Logistics is a global supply chain company that manages the shipment of more than 500 products for 20-30 client companies across multiple domains. Each shipment may require compliance with international trade regulations, including import/export documentation, customs duties, and payment procedures. For logistics managers and supply chain teams, gathering accurate documentation and understanding payment obligations for each shipment is time-consuming and prone to errors. Automating this process using data and intelligent agents can greatly improve operational efficiency."
      ]
    },
    {
      "cell_type": "markdown",
      "metadata": {
        "id": "OzNRW3RuCGwS"
      },
      "source": [
        "Currently, retrieving product details and corresponding trade compliance requirements is a manual, fragmented process:\n",
        "\n",
        "- Product information is stored in internal databases (Product_ID, category, cost, etc.).\n",
        "- Compliance information such as required import/export documents, duty payment methods, and obligations must be researched online, which is slow and inconsistent.\n",
        "\n",
        "This makes it difficult for logistics teams to quickly verify shipments, especially when handling multiple clients across different countries."
      ]
    },
    {
      "cell_type": "markdown",
      "metadata": {
        "id": "-MjoqrkPCGwT"
      },
      "source": [
        "##  Objective"
      ]
    },
    {
      "cell_type": "markdown",
      "metadata": {
        "id": "ETPuZvM2CGwU"
      },
      "source": [
        "The goal of this project is to build an interactive logistics assistant that:\n",
        "\n",
        "- Retrieves product details from a SQL database based on a user-provided Product_ID.\n",
        "- Uses a web agent to fetch up-to-date import/export documents and payment methods for the product’s HS/HSN code, based on source and destination countries.\n",
        "- Presents the information in a structured format, highlighting both required documentation and any additional compliance information if available."
      ]
    },
    {
      "cell_type": "markdown",
      "metadata": {
        "id": "7a_DZ5yJCGwV"
      },
      "source": [
        "## Data Description"
      ]
    },
    {
      "cell_type": "markdown",
      "metadata": {
        "id": "GEzFA3SWCGwW"
      },
      "source": [
        "The database contains product-level information that includes:\n",
        "\n",
        "- Product_ID - Unique identifier for each product.\n",
        "- Product_Name - Name of the product.\n",
        "- Category - Broad classification of the product (e.g., Electronics, Textiles, Pharmaceuticals).\n",
        "- HSN_Code - Harmonized System of Nomenclature code for customs classification.\n"
      ]
    },
    {
      "cell_type": "markdown",
      "source": [
        "#**Installing and Importing Necessary Libraries**"
      ],
      "metadata": {
        "id": "oyAYFkGZM2bV"
      }
    },
    {
      "cell_type": "code",
      "metadata": {
        "id": "548b20a8",
        "colab": {
          "base_uri": "https://localhost:8080/"
        },
        "outputId": "aad3c756-3fd4-448e-fae3-ad2f67d8fb66"
      },
      "source": [
        "!pip install -q tavily-python==0.7.12 \\\n",
        "                langchain-community==0.3.29"
      ],
      "execution_count": null,
      "outputs": [
        {
          "output_type": "stream",
          "name": "stdout",
          "text": [
            "\u001b[2K   \u001b[90m━━━━━━━━━━━━━━━━━━━━━━━━━━━━━━━━━━━━━━━━\u001b[0m \u001b[32m2.5/2.5 MB\u001b[0m \u001b[31m17.6 MB/s\u001b[0m eta \u001b[36m0:00:00\u001b[0m\n",
            "\u001b[2K   \u001b[90m━━━━━━━━━━━━━━━━━━━━━━━━━━━━━━━━━━━━━━━━\u001b[0m \u001b[32m64.7/64.7 kB\u001b[0m \u001b[31m3.1 MB/s\u001b[0m eta \u001b[36m0:00:00\u001b[0m\n",
            "\u001b[2K   \u001b[90m━━━━━━━━━━━━━━━━━━━━━━━━━━━━━━━━━━━━━━━━\u001b[0m \u001b[32m50.9/50.9 kB\u001b[0m \u001b[31m1.7 MB/s\u001b[0m eta \u001b[36m0:00:00\u001b[0m\n",
            "\u001b[?25h\u001b[31mERROR: pip's dependency resolver does not currently take into account all the packages that are installed. This behaviour is the source of the following dependency conflicts.\n",
            "google-colab 1.0.0 requires requests==2.32.4, but you have requests 2.32.5 which is incompatible.\u001b[0m\u001b[31m\n",
            "\u001b[0m"
          ]
        }
      ]
    },
    {
      "cell_type": "markdown",
      "source": [
        "**Note:**\n",
        "\n",
        "- After running the above cell, kindly restart the runtime (for Google Colab) or notebook kernel (for Jupyter Notebook), and run all cells sequentially from the next cell.\n",
        "- On executing the above line of code, you might see a warning regarding package dependencies. This error message can be ignored as the above code ensures that all necessary libraries and their dependencies are maintained to successfully execute the code in this notebook."
      ],
      "metadata": {
        "id": "sXmpt2EluGxV"
      }
    },
    {
      "cell_type": "code",
      "execution_count": null,
      "metadata": {
        "id": "Fu8MNH13CGwX"
      },
      "outputs": [],
      "source": [
        "import sqlite3                                                       #Imports Python’s built-in SQLite library to create and interact with SQLite databases.\n",
        "import pandas as pd                                                  #Imports Pandas for data manipulation and reading CSV files.\n",
        "from openai import OpenAI                                            #Imports OpenAI for parsing search results (Optional)\n",
        "import json                                                          #Imports Json for handling search results\n",
        "import os\n",
        "from langchain.agents import create_sql_agent\n",
        "from langchain.chat_models import ChatOpenAI\n",
        "from langchain.utilities import SQLDatabase\n",
        "from langchain.agents import initialize_agent, AgentType\n",
        "from langchain.tools import Tool\n",
        "import json\n",
        "from tavily import TavilyClient                                      #Tavily Search API, which performs real-time web searches."
      ]
    },
    {
      "cell_type": "code",
      "source": [
        "# Load the JSON file and extract values\n",
        "file_name = 'config.json'\n",
        "with open(file_name, 'r') as file:\n",
        "    config = json.load(file)\n",
        "    OPENAI_API_KEY = config.get(\"OPENAI_API_KEY\") # Loading the API Key\n",
        "    OPENAI_API_BASE = config.get(\"OPENAI_API_BASE\") # Loading the API Base Url\n",
        "\n",
        "\n",
        "# Storing API credentials in environment variables\n",
        "os.environ['OPENAI_API_KEY'] = OPENAI_API_KEY\n",
        "os.environ[\"OPENAI_BASE_URL\"] = OPENAI_API_BASE"
      ],
      "metadata": {
        "id": "fUZrhkJIGsnu"
      },
      "execution_count": null,
      "outputs": []
    },
    {
      "cell_type": "markdown",
      "source": [
        "#**SQL Agent**"
      ],
      "metadata": {
        "id": "Seuxx10BPYOc"
      }
    },
    {
      "cell_type": "markdown",
      "source": [
        "SQL agents help retrieve the product category based on the given product ID."
      ],
      "metadata": {
        "id": "dW9Oeguy0rcw"
      }
    },
    {
      "cell_type": "code",
      "metadata": {
        "id": "9182bfa7",
        "colab": {
          "base_uri": "https://localhost:8080/"
        },
        "outputId": "94f53f37-41f1-4082-a6cc-b9e8ed27c11c"
      },
      "source": [
        "# Initialize the SQLDatabase object\n",
        "db = SQLDatabase.from_uri(\"sqlite://///content/greatglobe.db\")\n",
        "\n",
        "# Initialize the ChatOpenAI model\n",
        "llm = ChatOpenAI(model_name=\"gpt-3.5-turbo\", temperature=0) # You might need to set your OpenAI API key\n",
        "\n",
        "# Initialize a SQL agent to interact with the database using the LLM\n",
        "sql_agent = create_sql_agent(\n",
        "    llm,\n",
        "    db=db,\n",
        "    agent_type=\"openai-tools\",\n",
        "    verbose=False\n",
        ")"
      ],
      "execution_count": null,
      "outputs": [
        {
          "output_type": "stream",
          "name": "stderr",
          "text": [
            "/tmp/ipython-input-294495338.py:5: LangChainDeprecationWarning: The class `ChatOpenAI` was deprecated in LangChain 0.0.10 and will be removed in 1.0. An updated version of the class exists in the :class:`~langchain-openai package and should be used instead. To use it run `pip install -U :class:`~langchain-openai` and import as `from :class:`~langchain_openai import ChatOpenAI``.\n",
            "  llm = ChatOpenAI(model_name=\"gpt-3.5-turbo\", temperature=0) # You might need to set your OpenAI API key\n"
          ]
        }
      ]
    },
    {
      "cell_type": "code",
      "source": [
        "query = f\"Fetch the category with product_id P1016\"\n",
        "\n",
        "\n",
        "# Execute the query using the SQL agent and store the output\n",
        "output = sql_agent.invoke(query)\n",
        "\n",
        "# Display the retrieved records\n",
        "output['output']"
      ],
      "metadata": {
        "colab": {
          "base_uri": "https://localhost:8080/",
          "height": 36
        },
        "id": "kyC_TyYUHXuZ",
        "outputId": "406ed3b9-81d1-4d74-9561-0b985a2381c8"
      },
      "execution_count": null,
      "outputs": [
        {
          "output_type": "execute_result",
          "data": {
            "text/plain": [
              "'The category for the product with product_id P1016 is \"Pharmaceuticals\".'"
            ],
            "application/vnd.google.colaboratory.intrinsic+json": {
              "type": "string"
            }
          },
          "metadata": {},
          "execution_count": 4
        }
      ]
    },
    {
      "cell_type": "markdown",
      "source": [
        "#**Tavily Client**"
      ],
      "metadata": {
        "id": "rru8oL0ePbAA"
      }
    },
    {
      "cell_type": "markdown",
      "source": [
        "**Instruction:**\n",
        "To create a Tavily API key, please follow these steps:\n",
        "\n",
        "1. Click the link provided to go to the [Tavily](https://app.tavily.com/home) website.\n",
        "2. Sign in to the Tavily website.\n",
        "3. Generate a new API key for your use.\n",
        "4. Copy the API key and store it securely for use in your project."
      ],
      "metadata": {
        "id": "8gVinKaXVq99"
      }
    },
    {
      "cell_type": "code",
      "execution_count": null,
      "metadata": {
        "id": "wF-mgroFCGwd",
        "outputId": "5f7e5ba0-b185-4834-aefe-85e53ffa946b",
        "colab": {
          "base_uri": "https://localhost:8080/"
        }
      },
      "outputs": [
        {
          "output_type": "stream",
          "name": "stdout",
          "text": [
            "=== Tavily Response ===\n",
            "{'query': 'List required import/export documents and accepted payment methods for customs clearance (e.g., cash, cheque, online, duty payment portal) for goods of FMCG category shipping from USA to India', 'follow_up_questions': None, 'answer': None, 'images': [], 'results': [{'url': 'https://artemusgroupusa.com/custom-clearance-documents/', 'title': 'Custom Clearance Documents Required In USA, India, & Japan', 'content': 'The mandatory documents for import typically include a commercial invoice, bill of lading or airway bill, packing list, import license or permit', 'score': 0.65966886, 'raw_content': None}, {'url': 'https://abhyanshshipping.com/step-by-step-guide-to-customs-clearance-in-india-what-every-importer-should-know/', 'title': 'Custom Clearance in India: Step-by-Step Import Guide for 2025', 'content': '**Importing goods into India for the first time can feel overwhelming.** The customs clearance process involves multiple steps, paperwork, and compliance checks with regulations. In essence, customs clearance ensures that **all duties, taxes, and import regulations are properly followed** before you take delivery of your goods. ## **Step-by-Step Process for Import Customs Clearance in India** Below is a list of **key documents required** for import customs clearance in India, along with their purpose: Many importers engage customs brokers or clearance services to handle documentation. At **Abhyansh Shipping**, our **Custom Clearance Services in India** ensure that all paperwork and compliance requirements are handled accurately, reducing the chances of rejection or delay.', 'score': 0.6155738, 'raw_content': None}, {'url': 'https://www.credlix.com/blogs/documents-required-for-import-export-customs-clearance', 'title': 'Documents Required for Import-Export Customs Clearance - Credlix', 'content': '* Documents Required for Import-Export Customs Clearance # Documents Required for Import-Export Customs Clearance Customs clearance is an essential step for businesses involved in importing or exporting goods. Let’s understand each and every document required for import-export customs clearance below: To obtain a shipping bill, exporters typically require several documents, including GR Forms for shipments to all countries, a Packing List detailing content specifics, an Export License, Indent, Acceptance of Contract, Invoices containing comprehensive information such as package numbers, quantities, prices, and correct goods specifications, a Purchase Order, Letter of Credit, AR4 and Invoice, Examination or Quality Control Certificate, and Port Trust documents. Ensuring proper documentation is crucial for smooth import-export customs clearance.', 'score': 0.58721006, 'raw_content': None}, {'url': 'https://www.dhl.com/discover/en-global/ship-with-dhl/documents-and-customs-advice/customs-clearance-and-restrictions', 'title': 'Documents Needed for Customs Clearance & Temporary Admission', 'content': \"When you import or export goods, it's important that you provide a complete and accurate Commercial Invoice, along with the additional\", 'score': 0.5125224, 'raw_content': None}, {'url': 'https://www.fedex.com/en-in/customer-support/faq/customs/customs-documents/customs-clearance-documents.html', 'title': 'What documents are required for customs clearance? - FedEx', 'content': 'Image 1: FedEx India Homepage Tracking Track  FedEx Insight FedEx Import Tool (FiT)\") Customs Tools Find FedEx Locations Customer Support FedEx Rate Sheet Manage My FedEx Rewards Sign Up/Log In Image 2: India Image 3: India) Image 4: India) Image 5: India) 2.   Customer Support 4.   Customs 5.   Customs documents ### Customs documents *   I need assistance with KYC (Know Your Customer) related documents submission. *   About customs *   Customs documents Visit our Customs Clearance page for more information about what kind of documents you need. Please refresh this page and try again or contact us on the customer support page. About FedEx New Customer  Customer Support  Contact FedEx More From FedEx  FedEx Locations Follow FedEx ', 'score': 0.4689128, 'raw_content': None}], 'response_time': 1.97, 'request_id': '39bdcc1d-4b1f-43c3-8301-80c42a3200c8'}\n"
          ]
        }
      ],
      "source": [
        "# Replace with your Tavily API Key\n",
        "TAVILY_API_KEY = \"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\"\n",
        "\n",
        "# Initialize Tavily client\n",
        "tavily_client = TavilyClient(api_key=TAVILY_API_KEY)\n",
        "\n",
        "# Build your query dynamically based on product and route\n",
        "query = f\"List required import/export documents and accepted payment methods for customs clearance (e.g., cash, cheque, online, duty payment portal) for goods of FMCG category shipping from USA to India\"\n",
        "\n",
        "# Call Tavily API\n",
        "try:\n",
        "    response = tavily_client.search(query)\n",
        "    print(\"=== Tavily Response ===\")\n",
        "    print(response)\n",
        "except Exception as e:\n",
        "    print(\"Error fetching data from Tavily API:\", e)\n"
      ]
    },
    {
      "cell_type": "markdown",
      "source": [
        "#**Logistic Assistant Agent**"
      ],
      "metadata": {
        "id": "F7tArt29TNNw"
      }
    },
    {
      "cell_type": "markdown",
      "source": [
        "## Search Compliance Info"
      ],
      "metadata": {
        "id": "EXEUYoROTZSJ"
      }
    },
    {
      "cell_type": "code",
      "source": [
        "def search_compliance_info(shipment_details: str):\n",
        "    \"\"\"\n",
        "    Uses Tavily API to search for required import/export documents and payment methods.\n",
        "    \"\"\"\n",
        "    # Build the query for Tavily based on category, source, and destination\n",
        "    tavily_query = f\"required import/export documents and accepted payment methods for customs clearance for goods of following category and shipping source and dest{shipment_details}\"\n",
        "    tavily_response = tavily_client.search(tavily_query)\n",
        "    return tavily_response[\"results\"]"
      ],
      "metadata": {
        "id": "SYTAEwNsPuXJ"
      },
      "execution_count": null,
      "outputs": []
    },
    {
      "cell_type": "markdown",
      "source": [
        "## Format Compliance Info"
      ],
      "metadata": {
        "id": "yK2DeF3UY5qU"
      }
    },
    {
      "cell_type": "code",
      "source": [
        "def format_compliance_info(tavily_response: str):\n",
        "\n",
        "    prompt = f\"\"\"\n",
        "    You are a logistics assistant. Read the response throughly before generating a response. understand which countries are being refered to in the response.\n",
        "    Extract structured information from the following Tavily API response.\n",
        "\n",
        "    Requirements:\n",
        "    1. List all required import/export documents clearly under \"required_documents\". Please ensure that the documents in the list are not repeated.\n",
        "    2. If there is other important information (e.g., payment modes, duty rates, obligations, restrictions, licenses, etc.),\n",
        "       list it under \"additional_information\".\n",
        "    3. If no additional information is available, do not include the field.\n",
        "\n",
        "    Tavily response:\n",
        "    {tavily_response}\n",
        "    \"\"\"\n",
        "\n",
        "    client = OpenAI()\n",
        "\n",
        "    # Assuming client (OpenAI client) is initialized elsewhere\n",
        "    completion = client.chat.completions.create(\n",
        "        model=\"gpt-3.5-turbo\",\n",
        "        messages=[{\"role\": \"user\", \"content\": prompt}]\n",
        "    )\n",
        "\n",
        "    return completion.choices[0].message.content"
      ],
      "metadata": {
        "id": "uyQnUlCKPwkx"
      },
      "execution_count": null,
      "outputs": []
    },
    {
      "cell_type": "markdown",
      "source": [
        "## Create Agent"
      ],
      "metadata": {
        "id": "W7oVRRhlZAMV"
      }
    },
    {
      "cell_type": "code",
      "source": [
        "# Define tools for the agent\n",
        "tools = [\n",
        "    Tool(\n",
        "        name=\"Search Compliance Info\",\n",
        "        func=search_compliance_info,\n",
        "        description=\"Use this tool to search for import/export compliance information using Tavily.\",\n",
        "    ),\n",
        "\n",
        "     Tool(\n",
        "        name=\"Format Compliance Info\",\n",
        "        func=format_compliance_info,\n",
        "        description=\"Use this tool to format the raw Tavily search results into a structured output. Input should be the string output from the 'Search Compliance Info' tool.\"\n",
        "    )\n",
        "]\n",
        "\n",
        "# Initialize the agent\n",
        "agent = initialize_agent(\n",
        "    tools,\n",
        "    llm,\n",
        "    agent=AgentType.ZERO_SHOT_REACT_DESCRIPTION,\n",
        "    verbose=False\n",
        ")"
      ],
      "metadata": {
        "id": "J2vyXcO-P0xA"
      },
      "execution_count": null,
      "outputs": []
    },
    {
      "cell_type": "code",
      "source": [
        "def Logistic_Assistant_Agent():\n",
        "    source = input(\"Enter Source Country: \")\n",
        "    destination = input(\"Enter Destination Country: \")\n",
        "    product_id = input(\"Enter Product ID: \")\n",
        "\n",
        "    sql_query = f\"Fetch the category for product id '{product_id}'\"\n",
        "    category_result = sql_agent.invoke(sql_query)\n",
        "    category = category_result['output']\n",
        "    category = category.replace(\"\", \"\")\n",
        "\n",
        "    # Pass structured input to the agent\n",
        "    agent_input = f\"Below are the details for the query Category: {category},Source: {source},Destination: {destination}\"\n",
        "    response = agent.invoke(agent_input)\n",
        "\n",
        "    print(\"Compliance Info:\")\n",
        "    print(response['output'])\n"
      ],
      "metadata": {
        "id": "63hf1MEQgxGB"
      },
      "execution_count": null,
      "outputs": []
    },
    {
      "cell_type": "markdown",
      "source": [
        "#**Sample Test Case**"
      ],
      "metadata": {
        "id": "1hVwbHU9ZIWj"
      }
    },
    {
      "cell_type": "markdown",
      "source": [
        "## Test Case 1"
      ],
      "metadata": {
        "id": "_MFud2mHVOhK"
      }
    },
    {
      "cell_type": "markdown",
      "source": [
        "- Origin : USA\n",
        "- Destinantion : Germany\n",
        "- Product ID : P1016"
      ],
      "metadata": {
        "id": "xgVnyJvnDWip"
      }
    },
    {
      "cell_type": "code",
      "source": [
        "Logistic_Assistant_Agent()"
      ],
      "metadata": {
        "id": "viXhKr4rMr0S",
        "colab": {
          "base_uri": "https://localhost:8080/"
        },
        "outputId": "a7975b54-4eef-4ca8-fbb4-ba14455400e9"
      },
      "execution_count": null,
      "outputs": [
        {
          "output_type": "stream",
          "name": "stdout",
          "text": [
            "Enter Source Country: USA\n",
            "Enter Destination Country: Germany\n",
            "Enter Product ID: P1016\n",
            "Compliance Info:\n",
            "The import/export compliance information for pharmaceutical products from the USA to Germany includes required documents such as Entry Manifest, Application and Special Permit for Immediate Delivery, Entry summary for consumption, Estimated duties deposit, and Entry summary documentation. Additionally, compliance with U.S. regulations and requirements of the destination country is necessary, along with disclosure of basic information and updates in regulations for pharma and biotech companies in 2025.\n"
          ]
        }
      ]
    },
    {
      "cell_type": "markdown",
      "source": [
        "## Test Case 2"
      ],
      "metadata": {
        "id": "OdiWtzDMVnwH"
      }
    },
    {
      "cell_type": "markdown",
      "source": [
        "- Origin : United Kingdom\n",
        "- Destinantion : France\n",
        "- Product ID : P1001"
      ],
      "metadata": {
        "id": "LdDtBiKZDYni"
      }
    },
    {
      "cell_type": "code",
      "source": [
        "Logistic_Assistant_Agent()"
      ],
      "metadata": {
        "id": "Hnvngb_RVi5x",
        "colab": {
          "base_uri": "https://localhost:8080/"
        },
        "outputId": "631f6940-55cb-4099-9cc5-b33c2db15939"
      },
      "execution_count": null,
      "outputs": [
        {
          "output_type": "stream",
          "name": "stdout",
          "text": [
            "Enter Source Country: United Kingdom\n",
            "Enter Destination Country: France\n",
            "Enter Product ID: P1001\n",
            "Compliance Info:\n",
            "The required documents for shipping the product category \"Automobile\" from the United Kingdom to France include a Commercial Invoice, Road Waybill, and TIR Carnets. Additional information includes specific procedures for travellers entering or leaving France, availability of information in English for handling formalities, and guidelines provided by French Customs for Brexit preparations and successful imports.\n"
          ]
        }
      ]
    },
    {
      "cell_type": "markdown",
      "source": [
        "# Conclusion"
      ],
      "metadata": {
        "id": "hJ7hTs3QVxyf"
      }
    },
    {
      "cell_type": "markdown",
      "source": [
        "The proposed **Logistics Assistant Agent** offers a step forward in automating compliance checks and streamlining shipment verification for Greatglobe Logistics. By integrating structured product information from the internal SQL database with real-time compliance intelligence from external sources (via Tavily and OpenAI), the system reduces dependency on manual research and fragmented processes.\n",
        "\n",
        "From a **business impact perspective**, this solution addresses three key challenges:\n",
        "\n",
        "1. **Operational Efficiency** - Logistics managers and supply chain teams no longer need to manually search for country-specific compliance documents or duty payment methods. The assistant delivers structured, accurate, and timely information, accelerating decision-making and reducing turnaround time per shipment.\n",
        "\n",
        "2. **Error Reduction and Compliance Assurance** - Trade compliance errors can be costly, leading to shipment delays, penalties, or reputational risks. Automating document retrieval and payment obligation identification minimizes human oversight and ensures that shipments meet international regulatory requirements consistently.\n",
        "\n",
        "3. **Scalability Across Clients and Regions** - With Greatglobe handling 20–30 clients and over 500 products across multiple domains, the assistant is designed to scale. It adapts to different product categories and trade routes, making it a versatile tool that supports growth without proportional increases in compliance workload.\n",
        "\n",
        "Overall, the solution enables efficient management of multiple products and clients across countries, streamlining global trade operations.\n"
      ],
      "metadata": {
        "id": "U1O9NGAIefcC"
      }
    },
    {
      "cell_type": "markdown",
      "metadata": {
        "id": "mQvaNDqQ3BJa"
      },
      "source": [
        "<font size = 6 color=\"#4682B4\"><b> Power Ahead </font>\n",
        "___"
      ]
    }
  ],
  "metadata": {
    "kernelspec": {
      "display_name": "Python 3 (ipykernel)",
      "language": "python",
      "name": "python3"
    },
    "language_info": {
      "codemirror_mode": {
        "name": "ipython",
        "version": 3
      },
      "file_extension": ".py",
      "mimetype": "text/x-python",
      "name": "python",
      "nbconvert_exporter": "python",
      "pygments_lexer": "ipython3",
      "version": "3.12.7"
    },
    "colab": {
      "provenance": []
    }
  },
  "nbformat": 4,
  "nbformat_minor": 0
}