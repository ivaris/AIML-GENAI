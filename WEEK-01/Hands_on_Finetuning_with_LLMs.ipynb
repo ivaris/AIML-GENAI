{
  "nbformat": 4,
  "nbformat_minor": 0,
  "metadata": {
    "colab": {
      "provenance": [],
      "gpuType": "T4",
      "collapsed_sections": [
        "Aa1yXUesL7Zy",
        "zFN8LrodMR7w",
        "qDG_248npouB",
        "IGxmR0XVwcAi",
        "Vp4LNGG30e8w",
        "mHaWozqI0hmW",
        "Km_LXL5DaGBO",
        "U6GqVK_ShZ2m",
        "n6rSZF3Qhdb2",
        "NIqdC93Rhi0g",
        "IwO05JGo3Egh",
        "qGV4lcz8FHa1",
        "Fb0DfllzFFmx",
        "3WvP1kbtFIcF",
        "E_vdbuZ781RI"
      ]
    },
    "kernelspec": {
      "name": "python3",
      "display_name": "Python 3"
    },
    "language_info": {
      "name": "python"
    },
    "accelerator": "GPU",
    "widgets": {
      "application/vnd.jupyter.widget-state+json": {
        "f483532192744e2c9a4eefb2567b02b6": {
          "model_module": "@jupyter-widgets/controls",
          "model_name": "HBoxModel",
          "model_module_version": "1.5.0",
          "state": {
            "_dom_classes": [],
            "_model_module": "@jupyter-widgets/controls",
            "_model_module_version": "1.5.0",
            "_model_name": "HBoxModel",
            "_view_count": null,
            "_view_module": "@jupyter-widgets/controls",
            "_view_module_version": "1.5.0",
            "_view_name": "HBoxView",
            "box_style": "",
            "children": [
              "IPY_MODEL_82ed1f8f01ba41d58e60732f502e2606",
              "IPY_MODEL_703d0fe63c26440b9f251f760c9ef4ab",
              "IPY_MODEL_f0af8c1d89704bd28d739a274869ad65"
            ],
            "layout": "IPY_MODEL_03aedb3387ef4182a7eaab849fc21123"
          }
        },
        "82ed1f8f01ba41d58e60732f502e2606": {
          "model_module": "@jupyter-widgets/controls",
          "model_name": "HTMLModel",
          "model_module_version": "1.5.0",
          "state": {
            "_dom_classes": [],
            "_model_module": "@jupyter-widgets/controls",
            "_model_module_version": "1.5.0",
            "_model_name": "HTMLModel",
            "_view_count": null,
            "_view_module": "@jupyter-widgets/controls",
            "_view_module_version": "1.5.0",
            "_view_name": "HTMLView",
            "description": "",
            "description_tooltip": null,
            "layout": "IPY_MODEL_ab6b2c906ff94da5a94201f409434574",
            "placeholder": "​",
            "style": "IPY_MODEL_6424175902e045d1b30d3fa12ff73f32",
            "value": "tokenizer.json: 100%"
          }
        },
        "703d0fe63c26440b9f251f760c9ef4ab": {
          "model_module": "@jupyter-widgets/controls",
          "model_name": "FloatProgressModel",
          "model_module_version": "1.5.0",
          "state": {
            "_dom_classes": [],
            "_model_module": "@jupyter-widgets/controls",
            "_model_module_version": "1.5.0",
            "_model_name": "FloatProgressModel",
            "_view_count": null,
            "_view_module": "@jupyter-widgets/controls",
            "_view_module_version": "1.5.0",
            "_view_name": "ProgressView",
            "bar_style": "success",
            "description": "",
            "description_tooltip": null,
            "layout": "IPY_MODEL_6fb638164b754e538e38492a9aa08204",
            "max": 1355863,
            "min": 0,
            "orientation": "horizontal",
            "style": "IPY_MODEL_fc394f734d584b7d9315560b21640e5d",
            "value": 1355863
          }
        },
        "f0af8c1d89704bd28d739a274869ad65": {
          "model_module": "@jupyter-widgets/controls",
          "model_name": "HTMLModel",
          "model_module_version": "1.5.0",
          "state": {
            "_dom_classes": [],
            "_model_module": "@jupyter-widgets/controls",
            "_model_module_version": "1.5.0",
            "_model_name": "HTMLModel",
            "_view_count": null,
            "_view_module": "@jupyter-widgets/controls",
            "_view_module_version": "1.5.0",
            "_view_name": "HTMLView",
            "description": "",
            "description_tooltip": null,
            "layout": "IPY_MODEL_5566162bc00d430b878336c23d24bdbf",
            "placeholder": "​",
            "style": "IPY_MODEL_a547d8c63bb44f88a6522c7186b5e268",
            "value": " 1.36M/1.36M [00:00&lt;00:00, 11.0MB/s]"
          }
        },
        "03aedb3387ef4182a7eaab849fc21123": {
          "model_module": "@jupyter-widgets/base",
          "model_name": "LayoutModel",
          "model_module_version": "1.2.0",
          "state": {
            "_model_module": "@jupyter-widgets/base",
            "_model_module_version": "1.2.0",
            "_model_name": "LayoutModel",
            "_view_count": null,
            "_view_module": "@jupyter-widgets/base",
            "_view_module_version": "1.2.0",
            "_view_name": "LayoutView",
            "align_content": null,
            "align_items": null,
            "align_self": null,
            "border": null,
            "bottom": null,
            "display": null,
            "flex": null,
            "flex_flow": null,
            "grid_area": null,
            "grid_auto_columns": null,
            "grid_auto_flow": null,
            "grid_auto_rows": null,
            "grid_column": null,
            "grid_gap": null,
            "grid_row": null,
            "grid_template_areas": null,
            "grid_template_columns": null,
            "grid_template_rows": null,
            "height": null,
            "justify_content": null,
            "justify_items": null,
            "left": null,
            "margin": null,
            "max_height": null,
            "max_width": null,
            "min_height": null,
            "min_width": null,
            "object_fit": null,
            "object_position": null,
            "order": null,
            "overflow": null,
            "overflow_x": null,
            "overflow_y": null,
            "padding": null,
            "right": null,
            "top": null,
            "visibility": null,
            "width": null
          }
        },
        "ab6b2c906ff94da5a94201f409434574": {
          "model_module": "@jupyter-widgets/base",
          "model_name": "LayoutModel",
          "model_module_version": "1.2.0",
          "state": {
            "_model_module": "@jupyter-widgets/base",
            "_model_module_version": "1.2.0",
            "_model_name": "LayoutModel",
            "_view_count": null,
            "_view_module": "@jupyter-widgets/base",
            "_view_module_version": "1.2.0",
            "_view_name": "LayoutView",
            "align_content": null,
            "align_items": null,
            "align_self": null,
            "border": null,
            "bottom": null,
            "display": null,
            "flex": null,
            "flex_flow": null,
            "grid_area": null,
            "grid_auto_columns": null,
            "grid_auto_flow": null,
            "grid_auto_rows": null,
            "grid_column": null,
            "grid_gap": null,
            "grid_row": null,
            "grid_template_areas": null,
            "grid_template_columns": null,
            "grid_template_rows": null,
            "height": null,
            "justify_content": null,
            "justify_items": null,
            "left": null,
            "margin": null,
            "max_height": null,
            "max_width": null,
            "min_height": null,
            "min_width": null,
            "object_fit": null,
            "object_position": null,
            "order": null,
            "overflow": null,
            "overflow_x": null,
            "overflow_y": null,
            "padding": null,
            "right": null,
            "top": null,
            "visibility": null,
            "width": null
          }
        },
        "6424175902e045d1b30d3fa12ff73f32": {
          "model_module": "@jupyter-widgets/controls",
          "model_name": "DescriptionStyleModel",
          "model_module_version": "1.5.0",
          "state": {
            "_model_module": "@jupyter-widgets/controls",
            "_model_module_version": "1.5.0",
            "_model_name": "DescriptionStyleModel",
            "_view_count": null,
            "_view_module": "@jupyter-widgets/base",
            "_view_module_version": "1.2.0",
            "_view_name": "StyleView",
            "description_width": ""
          }
        },
        "6fb638164b754e538e38492a9aa08204": {
          "model_module": "@jupyter-widgets/base",
          "model_name": "LayoutModel",
          "model_module_version": "1.2.0",
          "state": {
            "_model_module": "@jupyter-widgets/base",
            "_model_module_version": "1.2.0",
            "_model_name": "LayoutModel",
            "_view_count": null,
            "_view_module": "@jupyter-widgets/base",
            "_view_module_version": "1.2.0",
            "_view_name": "LayoutView",
            "align_content": null,
            "align_items": null,
            "align_self": null,
            "border": null,
            "bottom": null,
            "display": null,
            "flex": null,
            "flex_flow": null,
            "grid_area": null,
            "grid_auto_columns": null,
            "grid_auto_flow": null,
            "grid_auto_rows": null,
            "grid_column": null,
            "grid_gap": null,
            "grid_row": null,
            "grid_template_areas": null,
            "grid_template_columns": null,
            "grid_template_rows": null,
            "height": null,
            "justify_content": null,
            "justify_items": null,
            "left": null,
            "margin": null,
            "max_height": null,
            "max_width": null,
            "min_height": null,
            "min_width": null,
            "object_fit": null,
            "object_position": null,
            "order": null,
            "overflow": null,
            "overflow_x": null,
            "overflow_y": null,
            "padding": null,
            "right": null,
            "top": null,
            "visibility": null,
            "width": null
          }
        },
        "fc394f734d584b7d9315560b21640e5d": {
          "model_module": "@jupyter-widgets/controls",
          "model_name": "ProgressStyleModel",
          "model_module_version": "1.5.0",
          "state": {
            "_model_module": "@jupyter-widgets/controls",
            "_model_module_version": "1.5.0",
            "_model_name": "ProgressStyleModel",
            "_view_count": null,
            "_view_module": "@jupyter-widgets/base",
            "_view_module_version": "1.2.0",
            "_view_name": "StyleView",
            "bar_color": null,
            "description_width": ""
          }
        },
        "5566162bc00d430b878336c23d24bdbf": {
          "model_module": "@jupyter-widgets/base",
          "model_name": "LayoutModel",
          "model_module_version": "1.2.0",
          "state": {
            "_model_module": "@jupyter-widgets/base",
            "_model_module_version": "1.2.0",
            "_model_name": "LayoutModel",
            "_view_count": null,
            "_view_module": "@jupyter-widgets/base",
            "_view_module_version": "1.2.0",
            "_view_name": "LayoutView",
            "align_content": null,
            "align_items": null,
            "align_self": null,
            "border": null,
            "bottom": null,
            "display": null,
            "flex": null,
            "flex_flow": null,
            "grid_area": null,
            "grid_auto_columns": null,
            "grid_auto_flow": null,
            "grid_auto_rows": null,
            "grid_column": null,
            "grid_gap": null,
            "grid_row": null,
            "grid_template_areas": null,
            "grid_template_columns": null,
            "grid_template_rows": null,
            "height": null,
            "justify_content": null,
            "justify_items": null,
            "left": null,
            "margin": null,
            "max_height": null,
            "max_width": null,
            "min_height": null,
            "min_width": null,
            "object_fit": null,
            "object_position": null,
            "order": null,
            "overflow": null,
            "overflow_x": null,
            "overflow_y": null,
            "padding": null,
            "right": null,
            "top": null,
            "visibility": null,
            "width": null
          }
        },
        "a547d8c63bb44f88a6522c7186b5e268": {
          "model_module": "@jupyter-widgets/controls",
          "model_name": "DescriptionStyleModel",
          "model_module_version": "1.5.0",
          "state": {
            "_model_module": "@jupyter-widgets/controls",
            "_model_module_version": "1.5.0",
            "_model_name": "DescriptionStyleModel",
            "_view_count": null,
            "_view_module": "@jupyter-widgets/base",
            "_view_module_version": "1.2.0",
            "_view_name": "StyleView",
            "description_width": ""
          }
        },
        "553208bce9ea4ef69921389d09f807c5": {
          "model_module": "@jupyter-widgets/controls",
          "model_name": "HBoxModel",
          "model_module_version": "1.5.0",
          "state": {
            "_dom_classes": [],
            "_model_module": "@jupyter-widgets/controls",
            "_model_module_version": "1.5.0",
            "_model_name": "HBoxModel",
            "_view_count": null,
            "_view_module": "@jupyter-widgets/controls",
            "_view_module_version": "1.5.0",
            "_view_name": "HBoxView",
            "box_style": "",
            "children": [
              "IPY_MODEL_8afa630e5bc342e59807f0ea8c493f95",
              "IPY_MODEL_80da8e51ccf64550ba5be2f58b28ac98",
              "IPY_MODEL_c6a40368c70c427da29a8f56181ed5fa"
            ],
            "layout": "IPY_MODEL_862b87382adf4c39b93e8f31e0ee6813"
          }
        },
        "8afa630e5bc342e59807f0ea8c493f95": {
          "model_module": "@jupyter-widgets/controls",
          "model_name": "HTMLModel",
          "model_module_version": "1.5.0",
          "state": {
            "_dom_classes": [],
            "_model_module": "@jupyter-widgets/controls",
            "_model_module_version": "1.5.0",
            "_model_name": "HTMLModel",
            "_view_count": null,
            "_view_module": "@jupyter-widgets/controls",
            "_view_module_version": "1.5.0",
            "_view_name": "HTMLView",
            "description": "",
            "description_tooltip": null,
            "layout": "IPY_MODEL_a9925280086c420a89726da2b0a3b6d4",
            "placeholder": "​",
            "style": "IPY_MODEL_e45a8ce6c93e4c069050076cfee78f09",
            "value": "model.safetensors: 100%"
          }
        },
        "80da8e51ccf64550ba5be2f58b28ac98": {
          "model_module": "@jupyter-widgets/controls",
          "model_name": "FloatProgressModel",
          "model_module_version": "1.5.0",
          "state": {
            "_dom_classes": [],
            "_model_module": "@jupyter-widgets/controls",
            "_model_module_version": "1.5.0",
            "_model_name": "FloatProgressModel",
            "_view_count": null,
            "_view_module": "@jupyter-widgets/controls",
            "_view_module_version": "1.5.0",
            "_view_name": "ProgressView",
            "bar_style": "success",
            "description": "",
            "description_tooltip": null,
            "layout": "IPY_MODEL_f329740b7b6441519c5dea729dd7d1ab",
            "max": 1421700479,
            "min": 0,
            "orientation": "horizontal",
            "style": "IPY_MODEL_22b6ba504e194e1183c963417f128677",
            "value": 1421700479
          }
        },
        "c6a40368c70c427da29a8f56181ed5fa": {
          "model_module": "@jupyter-widgets/controls",
          "model_name": "HTMLModel",
          "model_module_version": "1.5.0",
          "state": {
            "_dom_classes": [],
            "_model_module": "@jupyter-widgets/controls",
            "_model_module_version": "1.5.0",
            "_model_name": "HTMLModel",
            "_view_count": null,
            "_view_module": "@jupyter-widgets/controls",
            "_view_module_version": "1.5.0",
            "_view_name": "HTMLView",
            "description": "",
            "description_tooltip": null,
            "layout": "IPY_MODEL_fe29dde9a1674024bd7a7fb46f1359f8",
            "placeholder": "​",
            "style": "IPY_MODEL_fe5f10d9bd4d4db18c91be1612d7c4a8",
            "value": " 1.42G/1.42G [00:17&lt;00:00, 152MB/s]"
          }
        },
        "862b87382adf4c39b93e8f31e0ee6813": {
          "model_module": "@jupyter-widgets/base",
          "model_name": "LayoutModel",
          "model_module_version": "1.2.0",
          "state": {
            "_model_module": "@jupyter-widgets/base",
            "_model_module_version": "1.2.0",
            "_model_name": "LayoutModel",
            "_view_count": null,
            "_view_module": "@jupyter-widgets/base",
            "_view_module_version": "1.2.0",
            "_view_name": "LayoutView",
            "align_content": null,
            "align_items": null,
            "align_self": null,
            "border": null,
            "bottom": null,
            "display": null,
            "flex": null,
            "flex_flow": null,
            "grid_area": null,
            "grid_auto_columns": null,
            "grid_auto_flow": null,
            "grid_auto_rows": null,
            "grid_column": null,
            "grid_gap": null,
            "grid_row": null,
            "grid_template_areas": null,
            "grid_template_columns": null,
            "grid_template_rows": null,
            "height": null,
            "justify_content": null,
            "justify_items": null,
            "left": null,
            "margin": null,
            "max_height": null,
            "max_width": null,
            "min_height": null,
            "min_width": null,
            "object_fit": null,
            "object_position": null,
            "order": null,
            "overflow": null,
            "overflow_x": null,
            "overflow_y": null,
            "padding": null,
            "right": null,
            "top": null,
            "visibility": null,
            "width": null
          }
        },
        "a9925280086c420a89726da2b0a3b6d4": {
          "model_module": "@jupyter-widgets/base",
          "model_name": "LayoutModel",
          "model_module_version": "1.2.0",
          "state": {
            "_model_module": "@jupyter-widgets/base",
            "_model_module_version": "1.2.0",
            "_model_name": "LayoutModel",
            "_view_count": null,
            "_view_module": "@jupyter-widgets/base",
            "_view_module_version": "1.2.0",
            "_view_name": "LayoutView",
            "align_content": null,
            "align_items": null,
            "align_self": null,
            "border": null,
            "bottom": null,
            "display": null,
            "flex": null,
            "flex_flow": null,
            "grid_area": null,
            "grid_auto_columns": null,
            "grid_auto_flow": null,
            "grid_auto_rows": null,
            "grid_column": null,
            "grid_gap": null,
            "grid_row": null,
            "grid_template_areas": null,
            "grid_template_columns": null,
            "grid_template_rows": null,
            "height": null,
            "justify_content": null,
            "justify_items": null,
            "left": null,
            "margin": null,
            "max_height": null,
            "max_width": null,
            "min_height": null,
            "min_width": null,
            "object_fit": null,
            "object_position": null,
            "order": null,
            "overflow": null,
            "overflow_x": null,
            "overflow_y": null,
            "padding": null,
            "right": null,
            "top": null,
            "visibility": null,
            "width": null
          }
        },
        "e45a8ce6c93e4c069050076cfee78f09": {
          "model_module": "@jupyter-widgets/controls",
          "model_name": "DescriptionStyleModel",
          "model_module_version": "1.5.0",
          "state": {
            "_model_module": "@jupyter-widgets/controls",
            "_model_module_version": "1.5.0",
            "_model_name": "DescriptionStyleModel",
            "_view_count": null,
            "_view_module": "@jupyter-widgets/base",
            "_view_module_version": "1.2.0",
            "_view_name": "StyleView",
            "description_width": ""
          }
        },
        "f329740b7b6441519c5dea729dd7d1ab": {
          "model_module": "@jupyter-widgets/base",
          "model_name": "LayoutModel",
          "model_module_version": "1.2.0",
          "state": {
            "_model_module": "@jupyter-widgets/base",
            "_model_module_version": "1.2.0",
            "_model_name": "LayoutModel",
            "_view_count": null,
            "_view_module": "@jupyter-widgets/base",
            "_view_module_version": "1.2.0",
            "_view_name": "LayoutView",
            "align_content": null,
            "align_items": null,
            "align_self": null,
            "border": null,
            "bottom": null,
            "display": null,
            "flex": null,
            "flex_flow": null,
            "grid_area": null,
            "grid_auto_columns": null,
            "grid_auto_flow": null,
            "grid_auto_rows": null,
            "grid_column": null,
            "grid_gap": null,
            "grid_row": null,
            "grid_template_areas": null,
            "grid_template_columns": null,
            "grid_template_rows": null,
            "height": null,
            "justify_content": null,
            "justify_items": null,
            "left": null,
            "margin": null,
            "max_height": null,
            "max_width": null,
            "min_height": null,
            "min_width": null,
            "object_fit": null,
            "object_position": null,
            "order": null,
            "overflow": null,
            "overflow_x": null,
            "overflow_y": null,
            "padding": null,
            "right": null,
            "top": null,
            "visibility": null,
            "width": null
          }
        },
        "22b6ba504e194e1183c963417f128677": {
          "model_module": "@jupyter-widgets/controls",
          "model_name": "ProgressStyleModel",
          "model_module_version": "1.5.0",
          "state": {
            "_model_module": "@jupyter-widgets/controls",
            "_model_module_version": "1.5.0",
            "_model_name": "ProgressStyleModel",
            "_view_count": null,
            "_view_module": "@jupyter-widgets/base",
            "_view_module_version": "1.2.0",
            "_view_name": "StyleView",
            "bar_color": null,
            "description_width": ""
          }
        },
        "fe29dde9a1674024bd7a7fb46f1359f8": {
          "model_module": "@jupyter-widgets/base",
          "model_name": "LayoutModel",
          "model_module_version": "1.2.0",
          "state": {
            "_model_module": "@jupyter-widgets/base",
            "_model_module_version": "1.2.0",
            "_model_name": "LayoutModel",
            "_view_count": null,
            "_view_module": "@jupyter-widgets/base",
            "_view_module_version": "1.2.0",
            "_view_name": "LayoutView",
            "align_content": null,
            "align_items": null,
            "align_self": null,
            "border": null,
            "bottom": null,
            "display": null,
            "flex": null,
            "flex_flow": null,
            "grid_area": null,
            "grid_auto_columns": null,
            "grid_auto_flow": null,
            "grid_auto_rows": null,
            "grid_column": null,
            "grid_gap": null,
            "grid_row": null,
            "grid_template_areas": null,
            "grid_template_columns": null,
            "grid_template_rows": null,
            "height": null,
            "justify_content": null,
            "justify_items": null,
            "left": null,
            "margin": null,
            "max_height": null,
            "max_width": null,
            "min_height": null,
            "min_width": null,
            "object_fit": null,
            "object_position": null,
            "order": null,
            "overflow": null,
            "overflow_x": null,
            "overflow_y": null,
            "padding": null,
            "right": null,
            "top": null,
            "visibility": null,
            "width": null
          }
        },
        "fe5f10d9bd4d4db18c91be1612d7c4a8": {
          "model_module": "@jupyter-widgets/controls",
          "model_name": "DescriptionStyleModel",
          "model_module_version": "1.5.0",
          "state": {
            "_model_module": "@jupyter-widgets/controls",
            "_model_module_version": "1.5.0",
            "_model_name": "DescriptionStyleModel",
            "_view_count": null,
            "_view_module": "@jupyter-widgets/base",
            "_view_module_version": "1.2.0",
            "_view_name": "StyleView",
            "description_width": ""
          }
        },
        "e2021eea82144517b2a89d67402f6296": {
          "model_module": "@jupyter-widgets/controls",
          "model_name": "HBoxModel",
          "model_module_version": "1.5.0",
          "state": {
            "_dom_classes": [],
            "_model_module": "@jupyter-widgets/controls",
            "_model_module_version": "1.5.0",
            "_model_name": "HBoxModel",
            "_view_count": null,
            "_view_module": "@jupyter-widgets/controls",
            "_view_module_version": "1.5.0",
            "_view_name": "HBoxView",
            "box_style": "",
            "children": [
              "IPY_MODEL_73726c48f256499daf6a7e5ff7c8d05d",
              "IPY_MODEL_8595e39cc76842029c15847345922cdc",
              "IPY_MODEL_70af7c7881c445d79d4ac28cf196c379"
            ],
            "layout": "IPY_MODEL_bf846beed3634db78681d05271da7c01"
          }
        },
        "73726c48f256499daf6a7e5ff7c8d05d": {
          "model_module": "@jupyter-widgets/controls",
          "model_name": "HTMLModel",
          "model_module_version": "1.5.0",
          "state": {
            "_dom_classes": [],
            "_model_module": "@jupyter-widgets/controls",
            "_model_module_version": "1.5.0",
            "_model_name": "HTMLModel",
            "_view_count": null,
            "_view_module": "@jupyter-widgets/controls",
            "_view_module_version": "1.5.0",
            "_view_name": "HTMLView",
            "description": "",
            "description_tooltip": null,
            "layout": "IPY_MODEL_df5637d8d8e64c418e906500c4a925e6",
            "placeholder": "​",
            "style": "IPY_MODEL_f2ead2bea789443692b70420e747fab4",
            "value": "Map: 100%"
          }
        },
        "8595e39cc76842029c15847345922cdc": {
          "model_module": "@jupyter-widgets/controls",
          "model_name": "FloatProgressModel",
          "model_module_version": "1.5.0",
          "state": {
            "_dom_classes": [],
            "_model_module": "@jupyter-widgets/controls",
            "_model_module_version": "1.5.0",
            "_model_name": "FloatProgressModel",
            "_view_count": null,
            "_view_module": "@jupyter-widgets/controls",
            "_view_module_version": "1.5.0",
            "_view_name": "ProgressView",
            "bar_style": "success",
            "description": "",
            "description_tooltip": null,
            "layout": "IPY_MODEL_182044c6a2574c4cbf97810a098484c9",
            "max": 50,
            "min": 0,
            "orientation": "horizontal",
            "style": "IPY_MODEL_e196b6f6012c4591bec9956bd1b5607b",
            "value": 50
          }
        },
        "70af7c7881c445d79d4ac28cf196c379": {
          "model_module": "@jupyter-widgets/controls",
          "model_name": "HTMLModel",
          "model_module_version": "1.5.0",
          "state": {
            "_dom_classes": [],
            "_model_module": "@jupyter-widgets/controls",
            "_model_module_version": "1.5.0",
            "_model_name": "HTMLModel",
            "_view_count": null,
            "_view_module": "@jupyter-widgets/controls",
            "_view_module_version": "1.5.0",
            "_view_name": "HTMLView",
            "description": "",
            "description_tooltip": null,
            "layout": "IPY_MODEL_a733c57b43c04e749f6cb10ab3c5c647",
            "placeholder": "​",
            "style": "IPY_MODEL_e452aa326751490485ba8437dadcc361",
            "value": " 50/50 [00:00&lt;00:00, 1186.51 examples/s]"
          }
        },
        "bf846beed3634db78681d05271da7c01": {
          "model_module": "@jupyter-widgets/base",
          "model_name": "LayoutModel",
          "model_module_version": "1.2.0",
          "state": {
            "_model_module": "@jupyter-widgets/base",
            "_model_module_version": "1.2.0",
            "_model_name": "LayoutModel",
            "_view_count": null,
            "_view_module": "@jupyter-widgets/base",
            "_view_module_version": "1.2.0",
            "_view_name": "LayoutView",
            "align_content": null,
            "align_items": null,
            "align_self": null,
            "border": null,
            "bottom": null,
            "display": null,
            "flex": null,
            "flex_flow": null,
            "grid_area": null,
            "grid_auto_columns": null,
            "grid_auto_flow": null,
            "grid_auto_rows": null,
            "grid_column": null,
            "grid_gap": null,
            "grid_row": null,
            "grid_template_areas": null,
            "grid_template_columns": null,
            "grid_template_rows": null,
            "height": null,
            "justify_content": null,
            "justify_items": null,
            "left": null,
            "margin": null,
            "max_height": null,
            "max_width": null,
            "min_height": null,
            "min_width": null,
            "object_fit": null,
            "object_position": null,
            "order": null,
            "overflow": null,
            "overflow_x": null,
            "overflow_y": null,
            "padding": null,
            "right": null,
            "top": null,
            "visibility": null,
            "width": null
          }
        },
        "df5637d8d8e64c418e906500c4a925e6": {
          "model_module": "@jupyter-widgets/base",
          "model_name": "LayoutModel",
          "model_module_version": "1.2.0",
          "state": {
            "_model_module": "@jupyter-widgets/base",
            "_model_module_version": "1.2.0",
            "_model_name": "LayoutModel",
            "_view_count": null,
            "_view_module": "@jupyter-widgets/base",
            "_view_module_version": "1.2.0",
            "_view_name": "LayoutView",
            "align_content": null,
            "align_items": null,
            "align_self": null,
            "border": null,
            "bottom": null,
            "display": null,
            "flex": null,
            "flex_flow": null,
            "grid_area": null,
            "grid_auto_columns": null,
            "grid_auto_flow": null,
            "grid_auto_rows": null,
            "grid_column": null,
            "grid_gap": null,
            "grid_row": null,
            "grid_template_areas": null,
            "grid_template_columns": null,
            "grid_template_rows": null,
            "height": null,
            "justify_content": null,
            "justify_items": null,
            "left": null,
            "margin": null,
            "max_height": null,
            "max_width": null,
            "min_height": null,
            "min_width": null,
            "object_fit": null,
            "object_position": null,
            "order": null,
            "overflow": null,
            "overflow_x": null,
            "overflow_y": null,
            "padding": null,
            "right": null,
            "top": null,
            "visibility": null,
            "width": null
          }
        },
        "f2ead2bea789443692b70420e747fab4": {
          "model_module": "@jupyter-widgets/controls",
          "model_name": "DescriptionStyleModel",
          "model_module_version": "1.5.0",
          "state": {
            "_model_module": "@jupyter-widgets/controls",
            "_model_module_version": "1.5.0",
            "_model_name": "DescriptionStyleModel",
            "_view_count": null,
            "_view_module": "@jupyter-widgets/base",
            "_view_module_version": "1.2.0",
            "_view_name": "StyleView",
            "description_width": ""
          }
        },
        "182044c6a2574c4cbf97810a098484c9": {
          "model_module": "@jupyter-widgets/base",
          "model_name": "LayoutModel",
          "model_module_version": "1.2.0",
          "state": {
            "_model_module": "@jupyter-widgets/base",
            "_model_module_version": "1.2.0",
            "_model_name": "LayoutModel",
            "_view_count": null,
            "_view_module": "@jupyter-widgets/base",
            "_view_module_version": "1.2.0",
            "_view_name": "LayoutView",
            "align_content": null,
            "align_items": null,
            "align_self": null,
            "border": null,
            "bottom": null,
            "display": null,
            "flex": null,
            "flex_flow": null,
            "grid_area": null,
            "grid_auto_columns": null,
            "grid_auto_flow": null,
            "grid_auto_rows": null,
            "grid_column": null,
            "grid_gap": null,
            "grid_row": null,
            "grid_template_areas": null,
            "grid_template_columns": null,
            "grid_template_rows": null,
            "height": null,
            "justify_content": null,
            "justify_items": null,
            "left": null,
            "margin": null,
            "max_height": null,
            "max_width": null,
            "min_height": null,
            "min_width": null,
            "object_fit": null,
            "object_position": null,
            "order": null,
            "overflow": null,
            "overflow_x": null,
            "overflow_y": null,
            "padding": null,
            "right": null,
            "top": null,
            "visibility": null,
            "width": null
          }
        },
        "e196b6f6012c4591bec9956bd1b5607b": {
          "model_module": "@jupyter-widgets/controls",
          "model_name": "ProgressStyleModel",
          "model_module_version": "1.5.0",
          "state": {
            "_model_module": "@jupyter-widgets/controls",
            "_model_module_version": "1.5.0",
            "_model_name": "ProgressStyleModel",
            "_view_count": null,
            "_view_module": "@jupyter-widgets/base",
            "_view_module_version": "1.2.0",
            "_view_name": "StyleView",
            "bar_color": null,
            "description_width": ""
          }
        },
        "a733c57b43c04e749f6cb10ab3c5c647": {
          "model_module": "@jupyter-widgets/base",
          "model_name": "LayoutModel",
          "model_module_version": "1.2.0",
          "state": {
            "_model_module": "@jupyter-widgets/base",
            "_model_module_version": "1.2.0",
            "_model_name": "LayoutModel",
            "_view_count": null,
            "_view_module": "@jupyter-widgets/base",
            "_view_module_version": "1.2.0",
            "_view_name": "LayoutView",
            "align_content": null,
            "align_items": null,
            "align_self": null,
            "border": null,
            "bottom": null,
            "display": null,
            "flex": null,
            "flex_flow": null,
            "grid_area": null,
            "grid_auto_columns": null,
            "grid_auto_flow": null,
            "grid_auto_rows": null,
            "grid_column": null,
            "grid_gap": null,
            "grid_row": null,
            "grid_template_areas": null,
            "grid_template_columns": null,
            "grid_template_rows": null,
            "height": null,
            "justify_content": null,
            "justify_items": null,
            "left": null,
            "margin": null,
            "max_height": null,
            "max_width": null,
            "min_height": null,
            "min_width": null,
            "object_fit": null,
            "object_position": null,
            "order": null,
            "overflow": null,
            "overflow_x": null,
            "overflow_y": null,
            "padding": null,
            "right": null,
            "top": null,
            "visibility": null,
            "width": null
          }
        },
        "e452aa326751490485ba8437dadcc361": {
          "model_module": "@jupyter-widgets/controls",
          "model_name": "DescriptionStyleModel",
          "model_module_version": "1.5.0",
          "state": {
            "_model_module": "@jupyter-widgets/controls",
            "_model_module_version": "1.5.0",
            "_model_name": "DescriptionStyleModel",
            "_view_count": null,
            "_view_module": "@jupyter-widgets/base",
            "_view_module_version": "1.2.0",
            "_view_name": "StyleView",
            "description_width": ""
          }
        },
        "d08975faef354735a691d3bc98894693": {
          "model_module": "@jupyter-widgets/controls",
          "model_name": "HBoxModel",
          "model_module_version": "1.5.0",
          "state": {
            "_dom_classes": [],
            "_model_module": "@jupyter-widgets/controls",
            "_model_module_version": "1.5.0",
            "_model_name": "HBoxModel",
            "_view_count": null,
            "_view_module": "@jupyter-widgets/controls",
            "_view_module_version": "1.5.0",
            "_view_name": "HBoxView",
            "box_style": "",
            "children": [
              "IPY_MODEL_9d50bfb3ceab4623875a8dc2045931f8",
              "IPY_MODEL_b3b3980bff4a47ecb25f6da45fbbf6fc",
              "IPY_MODEL_b00986e06e0e46e99419cc8db7de72e1"
            ],
            "layout": "IPY_MODEL_f2daf4a9808d4746a8c9fb774cf3baea"
          }
        },
        "9d50bfb3ceab4623875a8dc2045931f8": {
          "model_module": "@jupyter-widgets/controls",
          "model_name": "HTMLModel",
          "model_module_version": "1.5.0",
          "state": {
            "_dom_classes": [],
            "_model_module": "@jupyter-widgets/controls",
            "_model_module_version": "1.5.0",
            "_model_name": "HTMLModel",
            "_view_count": null,
            "_view_module": "@jupyter-widgets/controls",
            "_view_module_version": "1.5.0",
            "_view_name": "HTMLView",
            "description": "",
            "description_tooltip": null,
            "layout": "IPY_MODEL_bc9aae332bad47faae3947721f8120d2",
            "placeholder": "​",
            "style": "IPY_MODEL_cbf6ccaa7ed2469e92323f82ffed9af3",
            "value": "Map: 100%"
          }
        },
        "b3b3980bff4a47ecb25f6da45fbbf6fc": {
          "model_module": "@jupyter-widgets/controls",
          "model_name": "FloatProgressModel",
          "model_module_version": "1.5.0",
          "state": {
            "_dom_classes": [],
            "_model_module": "@jupyter-widgets/controls",
            "_model_module_version": "1.5.0",
            "_model_name": "FloatProgressModel",
            "_view_count": null,
            "_view_module": "@jupyter-widgets/controls",
            "_view_module_version": "1.5.0",
            "_view_name": "ProgressView",
            "bar_style": "success",
            "description": "",
            "description_tooltip": null,
            "layout": "IPY_MODEL_60a9f2753a4c447fa1cedc9d43ff5b90",
            "max": 10,
            "min": 0,
            "orientation": "horizontal",
            "style": "IPY_MODEL_c0337deda64f43eb9eef1c600a5e4270",
            "value": 10
          }
        },
        "b00986e06e0e46e99419cc8db7de72e1": {
          "model_module": "@jupyter-widgets/controls",
          "model_name": "HTMLModel",
          "model_module_version": "1.5.0",
          "state": {
            "_dom_classes": [],
            "_model_module": "@jupyter-widgets/controls",
            "_model_module_version": "1.5.0",
            "_model_name": "HTMLModel",
            "_view_count": null,
            "_view_module": "@jupyter-widgets/controls",
            "_view_module_version": "1.5.0",
            "_view_name": "HTMLView",
            "description": "",
            "description_tooltip": null,
            "layout": "IPY_MODEL_a28e4972fad143c09cc7618bc543f696",
            "placeholder": "​",
            "style": "IPY_MODEL_c7746273b7624ecf8a8782eaf21582b8",
            "value": " 10/10 [00:00&lt;00:00, 210.90 examples/s]"
          }
        },
        "f2daf4a9808d4746a8c9fb774cf3baea": {
          "model_module": "@jupyter-widgets/base",
          "model_name": "LayoutModel",
          "model_module_version": "1.2.0",
          "state": {
            "_model_module": "@jupyter-widgets/base",
            "_model_module_version": "1.2.0",
            "_model_name": "LayoutModel",
            "_view_count": null,
            "_view_module": "@jupyter-widgets/base",
            "_view_module_version": "1.2.0",
            "_view_name": "LayoutView",
            "align_content": null,
            "align_items": null,
            "align_self": null,
            "border": null,
            "bottom": null,
            "display": null,
            "flex": null,
            "flex_flow": null,
            "grid_area": null,
            "grid_auto_columns": null,
            "grid_auto_flow": null,
            "grid_auto_rows": null,
            "grid_column": null,
            "grid_gap": null,
            "grid_row": null,
            "grid_template_areas": null,
            "grid_template_columns": null,
            "grid_template_rows": null,
            "height": null,
            "justify_content": null,
            "justify_items": null,
            "left": null,
            "margin": null,
            "max_height": null,
            "max_width": null,
            "min_height": null,
            "min_width": null,
            "object_fit": null,
            "object_position": null,
            "order": null,
            "overflow": null,
            "overflow_x": null,
            "overflow_y": null,
            "padding": null,
            "right": null,
            "top": null,
            "visibility": null,
            "width": null
          }
        },
        "bc9aae332bad47faae3947721f8120d2": {
          "model_module": "@jupyter-widgets/base",
          "model_name": "LayoutModel",
          "model_module_version": "1.2.0",
          "state": {
            "_model_module": "@jupyter-widgets/base",
            "_model_module_version": "1.2.0",
            "_model_name": "LayoutModel",
            "_view_count": null,
            "_view_module": "@jupyter-widgets/base",
            "_view_module_version": "1.2.0",
            "_view_name": "LayoutView",
            "align_content": null,
            "align_items": null,
            "align_self": null,
            "border": null,
            "bottom": null,
            "display": null,
            "flex": null,
            "flex_flow": null,
            "grid_area": null,
            "grid_auto_columns": null,
            "grid_auto_flow": null,
            "grid_auto_rows": null,
            "grid_column": null,
            "grid_gap": null,
            "grid_row": null,
            "grid_template_areas": null,
            "grid_template_columns": null,
            "grid_template_rows": null,
            "height": null,
            "justify_content": null,
            "justify_items": null,
            "left": null,
            "margin": null,
            "max_height": null,
            "max_width": null,
            "min_height": null,
            "min_width": null,
            "object_fit": null,
            "object_position": null,
            "order": null,
            "overflow": null,
            "overflow_x": null,
            "overflow_y": null,
            "padding": null,
            "right": null,
            "top": null,
            "visibility": null,
            "width": null
          }
        },
        "cbf6ccaa7ed2469e92323f82ffed9af3": {
          "model_module": "@jupyter-widgets/controls",
          "model_name": "DescriptionStyleModel",
          "model_module_version": "1.5.0",
          "state": {
            "_model_module": "@jupyter-widgets/controls",
            "_model_module_version": "1.5.0",
            "_model_name": "DescriptionStyleModel",
            "_view_count": null,
            "_view_module": "@jupyter-widgets/base",
            "_view_module_version": "1.2.0",
            "_view_name": "StyleView",
            "description_width": ""
          }
        },
        "60a9f2753a4c447fa1cedc9d43ff5b90": {
          "model_module": "@jupyter-widgets/base",
          "model_name": "LayoutModel",
          "model_module_version": "1.2.0",
          "state": {
            "_model_module": "@jupyter-widgets/base",
            "_model_module_version": "1.2.0",
            "_model_name": "LayoutModel",
            "_view_count": null,
            "_view_module": "@jupyter-widgets/base",
            "_view_module_version": "1.2.0",
            "_view_name": "LayoutView",
            "align_content": null,
            "align_items": null,
            "align_self": null,
            "border": null,
            "bottom": null,
            "display": null,
            "flex": null,
            "flex_flow": null,
            "grid_area": null,
            "grid_auto_columns": null,
            "grid_auto_flow": null,
            "grid_auto_rows": null,
            "grid_column": null,
            "grid_gap": null,
            "grid_row": null,
            "grid_template_areas": null,
            "grid_template_columns": null,
            "grid_template_rows": null,
            "height": null,
            "justify_content": null,
            "justify_items": null,
            "left": null,
            "margin": null,
            "max_height": null,
            "max_width": null,
            "min_height": null,
            "min_width": null,
            "object_fit": null,
            "object_position": null,
            "order": null,
            "overflow": null,
            "overflow_x": null,
            "overflow_y": null,
            "padding": null,
            "right": null,
            "top": null,
            "visibility": null,
            "width": null
          }
        },
        "c0337deda64f43eb9eef1c600a5e4270": {
          "model_module": "@jupyter-widgets/controls",
          "model_name": "ProgressStyleModel",
          "model_module_version": "1.5.0",
          "state": {
            "_model_module": "@jupyter-widgets/controls",
            "_model_module_version": "1.5.0",
            "_model_name": "ProgressStyleModel",
            "_view_count": null,
            "_view_module": "@jupyter-widgets/base",
            "_view_module_version": "1.2.0",
            "_view_name": "StyleView",
            "bar_color": null,
            "description_width": ""
          }
        },
        "a28e4972fad143c09cc7618bc543f696": {
          "model_module": "@jupyter-widgets/base",
          "model_name": "LayoutModel",
          "model_module_version": "1.2.0",
          "state": {
            "_model_module": "@jupyter-widgets/base",
            "_model_module_version": "1.2.0",
            "_model_name": "LayoutModel",
            "_view_count": null,
            "_view_module": "@jupyter-widgets/base",
            "_view_module_version": "1.2.0",
            "_view_name": "LayoutView",
            "align_content": null,
            "align_items": null,
            "align_self": null,
            "border": null,
            "bottom": null,
            "display": null,
            "flex": null,
            "flex_flow": null,
            "grid_area": null,
            "grid_auto_columns": null,
            "grid_auto_flow": null,
            "grid_auto_rows": null,
            "grid_column": null,
            "grid_gap": null,
            "grid_row": null,
            "grid_template_areas": null,
            "grid_template_columns": null,
            "grid_template_rows": null,
            "height": null,
            "justify_content": null,
            "justify_items": null,
            "left": null,
            "margin": null,
            "max_height": null,
            "max_width": null,
            "min_height": null,
            "min_width": null,
            "object_fit": null,
            "object_position": null,
            "order": null,
            "overflow": null,
            "overflow_x": null,
            "overflow_y": null,
            "padding": null,
            "right": null,
            "top": null,
            "visibility": null,
            "width": null
          }
        },
        "c7746273b7624ecf8a8782eaf21582b8": {
          "model_module": "@jupyter-widgets/controls",
          "model_name": "DescriptionStyleModel",
          "model_module_version": "1.5.0",
          "state": {
            "_model_module": "@jupyter-widgets/controls",
            "_model_module_version": "1.5.0",
            "_model_name": "DescriptionStyleModel",
            "_view_count": null,
            "_view_module": "@jupyter-widgets/base",
            "_view_module_version": "1.2.0",
            "_view_name": "StyleView",
            "description_width": ""
          }
        }
      }
    }
  },
  "cells": [
    {
      "cell_type": "markdown",
      "metadata": {
        "id": "UmKLmjqmHMQM"
      },
      "source": [
        "<center><p float=\"center\">\n",
        "  <img src=\"https://upload.wikimedia.org/wikipedia/commons/e/e9/4_RGB_McCombs_School_Brand_Branded.png\" width=\"300\" height=\"100\"/>\n",
        "  <img src=\"https://mma.prnewswire.com/media/1458111/Great_Learning_Logo.jpg?p=facebook\" width=\"200\" height=\"100\"/>\n",
        "</p></center>\n",
        "\n",
        "<center><font size=10>Generative AI for Business Applications</center></font>\n",
        "<center><font size=6>Fine-Tunning LLMs - Week 1</center></font>"
      ]
    },
    {
      "cell_type": "markdown",
      "metadata": {
        "id": "azxWym9-HMpz"
      },
      "source": [
        "<center><p float=\"center\">\n",
        "  <img src=\"\" width=720></a>\n",
        "<center><font size=6>Fine-Tuned AI for Summarizing Insurance Sales Conversations</center></font>"
      ]
    },
    {
      "cell_type": "markdown",
      "metadata": {
        "id": "Aa1yXUesL7Zy"
      },
      "source": [
        "# Problem Statement"
      ]
    },
    {
      "cell_type": "markdown",
      "metadata": {
        "id": "zFN8LrodMR7w"
      },
      "source": [
        "## Business Context"
      ]
    },
    {
      "cell_type": "markdown",
      "source": [
        "An enterprise sales representative at a global insurance provider is preparing for a crucial renewal meeting with one of the largest clients. Over the past year, numerous emails have been exchanged, several calls conducted, and in-person meetings held. However, this valuable context is fragmented across the inbox, CRM records, and call notes.\n",
        "\n",
        "With limited time and growing pressure to personalize service and identify cross-sell opportunities, it is difficult to recall key details, such as the products the client was interested in, concerns raised in the last quarter, and commitments made during previous meetings.\n",
        "\n",
        "This challenge reflects a broader industry problem where client interactions are rich but scattered. Sales teams often face:\n",
        "\n",
        "* **Overload of unstructured data** from emails, calls, and notes.\n",
        "* **Lack of standardized, accurate summaries** to capture client context.\n",
        "* **Manual, error-prone preparation** that consumes significant time.\n",
        "* **Missed upsell and personalization opportunities**, weakening client trust.\n",
        "\n",
        "As a result, client engagement is inconsistent, preparation is inefficient, and revenue opportunities are lost.\n",
        "\n"
      ],
      "metadata": {
        "id": "CTLRzlos0ney"
      }
    },
    {
      "cell_type": "markdown",
      "source": [
        "##  Objective"
      ],
      "metadata": {
        "id": "qDG_248npouB"
      }
    },
    {
      "cell_type": "markdown",
      "source": [
        "The objective is to introduce a **smart assistant** capable of synthesizing multi-modal client interactions and generating precise, context-aware summaries.\n",
        "\n",
        "Such a solution would:\n",
        "\n",
        "* Consolidate insights from emails, CRM logs, call transcripts, and meeting notes.\n",
        "* Deliver concise, tailored client briefs before every touchpoint.\n",
        "* Help sales teams maintain continuity, honor past commitments, and personalize conversations.\n",
        "* Unlock new revenue by surfacing upsell and cross-sell opportunities at the right moment.\n",
        "\n",
        "By reducing preparation time and improving personalization, this assistant can transform client engagement in the insurance sector, strengthen relationships, and drive sustainable growth."
      ],
      "metadata": {
        "id": "gppGd2sN0s8A"
      }
    },
    {
      "cell_type": "markdown",
      "source": [
        "## Data Description"
      ],
      "metadata": {
        "id": "IGxmR0XVwcAi"
      }
    },
    {
      "cell_type": "markdown",
      "source": [
        "The dataset consists of two primary columns:\n",
        "\n",
        "Conversation - Contains the raw transcripts of client-sales representative interactions, which are often lengthy, multi-turn, and unstructured.\n",
        "\n",
        "Summary - Provides the corresponding concise, structured summaries of key discussion points, client interests, concerns, and commitments."
      ],
      "metadata": {
        "id": "CpQ6dfJa1Iwg"
      }
    },
    {
      "cell_type": "markdown",
      "source": [
        "# **Solution Approach**\n",
        "Provide a Custom Fine-Tuned AI Model for Sales Interaction Summarization\n",
        "\n",
        "To address this challenge, we propose training a domain-specific fine-tuned language model tailored for enterprise insurance communication.\n",
        "The model will:\n",
        "\n",
        "1. Ingest few multi-modal inputs (emails, transcripts, notes).\n",
        "2. Identify intent, extract key discussion points, client interests, pain points, and commitments.\n",
        "3. Generate concise, actionable summaries under 200 words, customized for enterprise insurance workflows.\n",
        "4. Be fine-tuned on real-world communication data to learn domain-specific vocabulary and interaction patterns.\n",
        "\n",
        "This AI-powered tool will augment sales productivity, enhance client engagement, and ensure consistent follow-ups, turning scattered conversations into strategic intelligence."
      ],
      "metadata": {
        "id": "oGUDO5qRb4oB"
      }
    },
    {
      "cell_type": "markdown",
      "metadata": {
        "id": "lnwETBOE6Bz5"
      },
      "source": [
        "# **Installing and Importing Necessary Libraries**"
      ]
    },
    {
      "cell_type": "code",
      "source": [
        "!pip install --no-deps bitsandbytes accelerate xformers==0.0.32.post2 peft trl==0.15.2 triton cut_cross_entropy unsloth_zoo\n",
        "!pip install sentencepiece protobuf huggingface_hub hf_transfer\n",
        "!pip install transformers==4.51.3\n",
        "!pip install --no-deps unsloth\n",
        "\n",
        "!pip install -q datasets evaluate bert-score"
      ],
      "metadata": {
        "id": "PfffBpmv6ciV",
        "colab": {
          "base_uri": "https://localhost:8080/"
        },
        "outputId": "d904bb1a-f329-4f31-fe27-87bd3e796772"
      },
      "execution_count": null,
      "outputs": [
        {
          "output_type": "stream",
          "name": "stdout",
          "text": [
            "Collecting bitsandbytes\n",
            "  Downloading bitsandbytes-0.47.0-py3-none-manylinux_2_24_x86_64.whl.metadata (11 kB)\n",
            "Requirement already satisfied: accelerate in /usr/local/lib/python3.12/dist-packages (1.10.0)\n",
            "Collecting xformers==0.0.32.post2\n",
            "  Downloading xformers-0.0.32.post2-cp39-abi3-manylinux_2_28_x86_64.whl.metadata (1.1 kB)\n",
            "Requirement already satisfied: peft in /usr/local/lib/python3.12/dist-packages (0.17.0)\n",
            "Collecting trl==0.15.2\n",
            "  Downloading trl-0.15.2-py3-none-any.whl.metadata (11 kB)\n",
            "Requirement already satisfied: triton in /usr/local/lib/python3.12/dist-packages (3.4.0)\n",
            "Collecting cut_cross_entropy\n",
            "  Downloading cut_cross_entropy-25.1.1-py3-none-any.whl.metadata (9.3 kB)\n",
            "Collecting unsloth_zoo\n",
            "  Downloading unsloth_zoo-2025.8.8-py3-none-any.whl.metadata (9.4 kB)\n",
            "Downloading xformers-0.0.32.post2-cp39-abi3-manylinux_2_28_x86_64.whl (117.2 MB)\n",
            "\u001b[2K   \u001b[90m━━━━━━━━━━━━━━━━━━━━━━━━━━━━━━━━━━━━━━━━\u001b[0m \u001b[32m117.2/117.2 MB\u001b[0m \u001b[31m5.8 MB/s\u001b[0m eta \u001b[36m0:00:00\u001b[0m\n",
            "\u001b[?25hDownloading trl-0.15.2-py3-none-any.whl (318 kB)\n",
            "\u001b[2K   \u001b[90m━━━━━━━━━━━━━━━━━━━━━━━━━━━━━━━━━━━━━━━━\u001b[0m \u001b[32m318.9/318.9 kB\u001b[0m \u001b[31m10.5 MB/s\u001b[0m eta \u001b[36m0:00:00\u001b[0m\n",
            "\u001b[?25hDownloading bitsandbytes-0.47.0-py3-none-manylinux_2_24_x86_64.whl (61.3 MB)\n",
            "\u001b[2K   \u001b[90m━━━━━━━━━━━━━━━━━━━━━━━━━━━━━━━━━━━━━━━━\u001b[0m \u001b[32m61.3/61.3 MB\u001b[0m \u001b[31m7.8 MB/s\u001b[0m eta \u001b[36m0:00:00\u001b[0m\n",
            "\u001b[?25hDownloading cut_cross_entropy-25.1.1-py3-none-any.whl (22 kB)\n",
            "Downloading unsloth_zoo-2025.8.8-py3-none-any.whl (184 kB)\n",
            "\u001b[2K   \u001b[90m━━━━━━━━━━━━━━━━━━━━━━━━━━━━━━━━━━━━━━━━\u001b[0m \u001b[32m184.8/184.8 kB\u001b[0m \u001b[31m12.3 MB/s\u001b[0m eta \u001b[36m0:00:00\u001b[0m\n",
            "\u001b[?25hInstalling collected packages: xformers, unsloth_zoo, trl, cut_cross_entropy, bitsandbytes\n",
            "Successfully installed bitsandbytes-0.47.0 cut_cross_entropy-25.1.1 trl-0.15.2 unsloth_zoo-2025.8.8 xformers-0.0.32.post2\n",
            "Requirement already satisfied: sentencepiece in /usr/local/lib/python3.12/dist-packages (0.2.1)\n",
            "Requirement already satisfied: protobuf in /usr/local/lib/python3.12/dist-packages (5.29.5)\n",
            "Requirement already satisfied: datasets>=3.4.1 in /usr/local/lib/python3.12/dist-packages (4.0.0)\n",
            "Requirement already satisfied: huggingface_hub in /usr/local/lib/python3.12/dist-packages (0.34.4)\n",
            "Requirement already satisfied: hf_transfer in /usr/local/lib/python3.12/dist-packages (0.1.9)\n",
            "Requirement already satisfied: filelock in /usr/local/lib/python3.12/dist-packages (from datasets>=3.4.1) (3.19.1)\n",
            "Requirement already satisfied: numpy>=1.17 in /usr/local/lib/python3.12/dist-packages (from datasets>=3.4.1) (2.0.2)\n",
            "Requirement already satisfied: pyarrow>=15.0.0 in /usr/local/lib/python3.12/dist-packages (from datasets>=3.4.1) (18.1.0)\n",
            "Requirement already satisfied: dill<0.3.9,>=0.3.0 in /usr/local/lib/python3.12/dist-packages (from datasets>=3.4.1) (0.3.8)\n",
            "Requirement already satisfied: pandas in /usr/local/lib/python3.12/dist-packages (from datasets>=3.4.1) (2.2.2)\n",
            "Requirement already satisfied: requests>=2.32.2 in /usr/local/lib/python3.12/dist-packages (from datasets>=3.4.1) (2.32.4)\n",
            "Requirement already satisfied: tqdm>=4.66.3 in /usr/local/lib/python3.12/dist-packages (from datasets>=3.4.1) (4.67.1)\n",
            "Requirement already satisfied: xxhash in /usr/local/lib/python3.12/dist-packages (from datasets>=3.4.1) (3.5.0)\n",
            "Requirement already satisfied: multiprocess<0.70.17 in /usr/local/lib/python3.12/dist-packages (from datasets>=3.4.1) (0.70.16)\n",
            "Requirement already satisfied: fsspec<=2025.3.0,>=2023.1.0 in /usr/local/lib/python3.12/dist-packages (from fsspec[http]<=2025.3.0,>=2023.1.0->datasets>=3.4.1) (2025.3.0)\n",
            "Requirement already satisfied: packaging in /usr/local/lib/python3.12/dist-packages (from datasets>=3.4.1) (25.0)\n",
            "Requirement already satisfied: pyyaml>=5.1 in /usr/local/lib/python3.12/dist-packages (from datasets>=3.4.1) (6.0.2)\n",
            "Requirement already satisfied: typing-extensions>=3.7.4.3 in /usr/local/lib/python3.12/dist-packages (from huggingface_hub) (4.14.1)\n",
            "Requirement already satisfied: hf-xet<2.0.0,>=1.1.3 in /usr/local/lib/python3.12/dist-packages (from huggingface_hub) (1.1.7)\n",
            "Requirement already satisfied: aiohttp!=4.0.0a0,!=4.0.0a1 in /usr/local/lib/python3.12/dist-packages (from fsspec[http]<=2025.3.0,>=2023.1.0->datasets>=3.4.1) (3.12.15)\n",
            "Requirement already satisfied: charset_normalizer<4,>=2 in /usr/local/lib/python3.12/dist-packages (from requests>=2.32.2->datasets>=3.4.1) (3.4.3)\n",
            "Requirement already satisfied: idna<4,>=2.5 in /usr/local/lib/python3.12/dist-packages (from requests>=2.32.2->datasets>=3.4.1) (3.10)\n",
            "Requirement already satisfied: urllib3<3,>=1.21.1 in /usr/local/lib/python3.12/dist-packages (from requests>=2.32.2->datasets>=3.4.1) (2.5.0)\n",
            "Requirement already satisfied: certifi>=2017.4.17 in /usr/local/lib/python3.12/dist-packages (from requests>=2.32.2->datasets>=3.4.1) (2025.8.3)\n",
            "Requirement already satisfied: python-dateutil>=2.8.2 in /usr/local/lib/python3.12/dist-packages (from pandas->datasets>=3.4.1) (2.9.0.post0)\n",
            "Requirement already satisfied: pytz>=2020.1 in /usr/local/lib/python3.12/dist-packages (from pandas->datasets>=3.4.1) (2025.2)\n",
            "Requirement already satisfied: tzdata>=2022.7 in /usr/local/lib/python3.12/dist-packages (from pandas->datasets>=3.4.1) (2025.2)\n",
            "Requirement already satisfied: aiohappyeyeballs>=2.5.0 in /usr/local/lib/python3.12/dist-packages (from aiohttp!=4.0.0a0,!=4.0.0a1->fsspec[http]<=2025.3.0,>=2023.1.0->datasets>=3.4.1) (2.6.1)\n",
            "Requirement already satisfied: aiosignal>=1.4.0 in /usr/local/lib/python3.12/dist-packages (from aiohttp!=4.0.0a0,!=4.0.0a1->fsspec[http]<=2025.3.0,>=2023.1.0->datasets>=3.4.1) (1.4.0)\n",
            "Requirement already satisfied: attrs>=17.3.0 in /usr/local/lib/python3.12/dist-packages (from aiohttp!=4.0.0a0,!=4.0.0a1->fsspec[http]<=2025.3.0,>=2023.1.0->datasets>=3.4.1) (25.3.0)\n",
            "Requirement already satisfied: frozenlist>=1.1.1 in /usr/local/lib/python3.12/dist-packages (from aiohttp!=4.0.0a0,!=4.0.0a1->fsspec[http]<=2025.3.0,>=2023.1.0->datasets>=3.4.1) (1.7.0)\n",
            "Requirement already satisfied: multidict<7.0,>=4.5 in /usr/local/lib/python3.12/dist-packages (from aiohttp!=4.0.0a0,!=4.0.0a1->fsspec[http]<=2025.3.0,>=2023.1.0->datasets>=3.4.1) (6.6.4)\n",
            "Requirement already satisfied: propcache>=0.2.0 in /usr/local/lib/python3.12/dist-packages (from aiohttp!=4.0.0a0,!=4.0.0a1->fsspec[http]<=2025.3.0,>=2023.1.0->datasets>=3.4.1) (0.3.2)\n",
            "Requirement already satisfied: yarl<2.0,>=1.17.0 in /usr/local/lib/python3.12/dist-packages (from aiohttp!=4.0.0a0,!=4.0.0a1->fsspec[http]<=2025.3.0,>=2023.1.0->datasets>=3.4.1) (1.20.1)\n",
            "Requirement already satisfied: six>=1.5 in /usr/local/lib/python3.12/dist-packages (from python-dateutil>=2.8.2->pandas->datasets>=3.4.1) (1.17.0)\n",
            "Collecting transformers==4.51.3\n",
            "  Downloading transformers-4.51.3-py3-none-any.whl.metadata (38 kB)\n",
            "Requirement already satisfied: filelock in /usr/local/lib/python3.12/dist-packages (from transformers==4.51.3) (3.19.1)\n",
            "Requirement already satisfied: huggingface-hub<1.0,>=0.30.0 in /usr/local/lib/python3.12/dist-packages (from transformers==4.51.3) (0.34.4)\n",
            "Requirement already satisfied: numpy>=1.17 in /usr/local/lib/python3.12/dist-packages (from transformers==4.51.3) (2.0.2)\n",
            "Requirement already satisfied: packaging>=20.0 in /usr/local/lib/python3.12/dist-packages (from transformers==4.51.3) (25.0)\n",
            "Requirement already satisfied: pyyaml>=5.1 in /usr/local/lib/python3.12/dist-packages (from transformers==4.51.3) (6.0.2)\n",
            "Requirement already satisfied: regex!=2019.12.17 in /usr/local/lib/python3.12/dist-packages (from transformers==4.51.3) (2024.11.6)\n",
            "Requirement already satisfied: requests in /usr/local/lib/python3.12/dist-packages (from transformers==4.51.3) (2.32.4)\n",
            "Requirement already satisfied: tokenizers<0.22,>=0.21 in /usr/local/lib/python3.12/dist-packages (from transformers==4.51.3) (0.21.4)\n",
            "Requirement already satisfied: safetensors>=0.4.3 in /usr/local/lib/python3.12/dist-packages (from transformers==4.51.3) (0.6.2)\n",
            "Requirement already satisfied: tqdm>=4.27 in /usr/local/lib/python3.12/dist-packages (from transformers==4.51.3) (4.67.1)\n",
            "Requirement already satisfied: fsspec>=2023.5.0 in /usr/local/lib/python3.12/dist-packages (from huggingface-hub<1.0,>=0.30.0->transformers==4.51.3) (2025.3.0)\n",
            "Requirement already satisfied: typing-extensions>=3.7.4.3 in /usr/local/lib/python3.12/dist-packages (from huggingface-hub<1.0,>=0.30.0->transformers==4.51.3) (4.14.1)\n",
            "Requirement already satisfied: hf-xet<2.0.0,>=1.1.3 in /usr/local/lib/python3.12/dist-packages (from huggingface-hub<1.0,>=0.30.0->transformers==4.51.3) (1.1.7)\n",
            "Requirement already satisfied: charset_normalizer<4,>=2 in /usr/local/lib/python3.12/dist-packages (from requests->transformers==4.51.3) (3.4.3)\n",
            "Requirement already satisfied: idna<4,>=2.5 in /usr/local/lib/python3.12/dist-packages (from requests->transformers==4.51.3) (3.10)\n",
            "Requirement already satisfied: urllib3<3,>=1.21.1 in /usr/local/lib/python3.12/dist-packages (from requests->transformers==4.51.3) (2.5.0)\n",
            "Requirement already satisfied: certifi>=2017.4.17 in /usr/local/lib/python3.12/dist-packages (from requests->transformers==4.51.3) (2025.8.3)\n",
            "Downloading transformers-4.51.3-py3-none-any.whl (10.4 MB)\n",
            "\u001b[2K   \u001b[90m━━━━━━━━━━━━━━━━━━━━━━━━━━━━━━━━━━━━━━━━\u001b[0m \u001b[32m10.4/10.4 MB\u001b[0m \u001b[31m79.2 MB/s\u001b[0m eta \u001b[36m0:00:00\u001b[0m\n",
            "\u001b[?25hInstalling collected packages: transformers\n",
            "  Attempting uninstall: transformers\n",
            "    Found existing installation: transformers 4.55.2\n",
            "    Uninstalling transformers-4.55.2:\n",
            "      Successfully uninstalled transformers-4.55.2\n",
            "\u001b[31mERROR: pip's dependency resolver does not currently take into account all the packages that are installed. This behaviour is the source of the following dependency conflicts.\n",
            "unsloth-zoo 2025.8.8 requires msgspec, which is not installed.\n",
            "unsloth-zoo 2025.8.8 requires tyro, which is not installed.\n",
            "unsloth-zoo 2025.8.8 requires datasets<4.0.0,>=3.4.1, but you have datasets 4.0.0 which is incompatible.\u001b[0m\u001b[31m\n",
            "\u001b[0mSuccessfully installed transformers-4.51.3\n",
            "Collecting unsloth\n",
            "  Downloading unsloth-2025.8.9-py3-none-any.whl.metadata (52 kB)\n",
            "\u001b[2K     \u001b[90m━━━━━━━━━━━━━━━━━━━━━━━━━━━━━━━━━━━━━━━━\u001b[0m \u001b[32m52.3/52.3 kB\u001b[0m \u001b[31m2.1 MB/s\u001b[0m eta \u001b[36m0:00:00\u001b[0m\n",
            "\u001b[?25hDownloading unsloth-2025.8.9-py3-none-any.whl (311 kB)\n",
            "\u001b[2K   \u001b[90m━━━━━━━━━━━━━━━━━━━━━━━━━━━━━━━━━━━━━━━━\u001b[0m \u001b[32m311.7/311.7 kB\u001b[0m \u001b[31m8.5 MB/s\u001b[0m eta \u001b[36m0:00:00\u001b[0m\n",
            "\u001b[?25hInstalling collected packages: unsloth\n",
            "Successfully installed unsloth-2025.8.9\n",
            "\u001b[2K   \u001b[90m━━━━━━━━━━━━━━━━━━━━━━━━━━━━━━━━━━━━━━━━\u001b[0m \u001b[32m84.1/84.1 kB\u001b[0m \u001b[31m2.3 MB/s\u001b[0m eta \u001b[36m0:00:00\u001b[0m\n",
            "\u001b[2K   \u001b[90m━━━━━━━━━━━━━━━━━━━━━━━━━━━━━━━━━━━━━━━━\u001b[0m \u001b[32m61.1/61.1 kB\u001b[0m \u001b[31m4.5 MB/s\u001b[0m eta \u001b[36m0:00:00\u001b[0m\n",
            "\u001b[?25h"
          ]
        }
      ]
    },
    {
      "cell_type": "markdown",
      "source": [
        "**Note**:\n",
        "- After running the above cell, kindly restart the runtime (for Google Colab) or notebook kernel (for Jupyter Notebook), and run all cells sequentially from the next cell.\n",
        "- On executing the above line of code, you might see a warning regarding package dependencies. This error message can be ignored as the above code ensures that all necessary libraries and their dependencies are maintained to successfully execute the code in ***this notebook***."
      ],
      "metadata": {
        "id": "mDp-EYZH-69E"
      }
    },
    {
      "cell_type": "code",
      "source": [
        "from unsloth import FastLanguageModel          # Efficient fine-tuning and inference utilities for LLMs (optimized training).\n",
        "import torch                                   # Core deep learning library for tensor operations and model training.\n",
        "import evaluate                                # Hugging Face library for evaluating NLP models with standard metrics.\n",
        "from tqdm import tqdm                          # Progress bar utility for tracking loops and training progress.\n",
        "import pandas as pd                            # Data manipulation and analysis library (tabular data handling).\n",
        "from datasets import Dataset                   # Hugging Face library for creating and managing ML datasets.\n",
        "\n",
        "from trl import SFTTrainer                     # Trainer class for supervised fine-tuning of language models.\n",
        "from transformers import TrainingArguments, EarlyStoppingCallback, DataCollatorForSeq2Seq\n",
        "# - TrainingArguments: configuration for training (batch size, learning rate, etc.)\n",
        "# - EarlyStoppingCallback: stops training when validation performance stops improving.\n",
        "# - DataCollatorForSeq2Seq: prepares batches of data for sequence-to-sequence models.\n",
        "\n",
        "from unsloth import is_bfloat16_supported      # Utility to check if bfloat16 precision is supported on your hardware.\n"
      ],
      "metadata": {
        "id": "tgtsNS-UrQg9"
      },
      "execution_count": null,
      "outputs": []
    },
    {
      "cell_type": "markdown",
      "source": [
        "# **1. Evaluation of LLM before FineTuning**"
      ],
      "metadata": {
        "id": "YhyMoqjoq48A"
      }
    },
    {
      "cell_type": "markdown",
      "source": [
        "### Loading the Testing Data\n"
      ],
      "metadata": {
        "id": "Vp4LNGG30e8w"
      }
    },
    {
      "cell_type": "code",
      "source": [
        "# Read the testing CSV into a Pandas DataFrame\n",
        "testing_data = pd.read_csv(\"/content/finetuning_testing.csv\")\n",
        "\n",
        "# Extract all dialogues into a list for model input\n",
        "test_dialogues = [sample for sample in testing_data['Dialogues']]\n",
        "\n",
        "# Extract all human-written summaries into a list for evaluation\n",
        "test_summaries = [sample for sample in testing_data['Summary']]"
      ],
      "metadata": {
        "id": "Dat_l5MlrLkX"
      },
      "execution_count": null,
      "outputs": []
    },
    {
      "cell_type": "markdown",
      "source": [
        "### Loading the Mistral Model"
      ],
      "metadata": {
        "id": "mHaWozqI0hmW"
      }
    },
    {
      "cell_type": "code",
      "source": [
        "# Load the pre-trained Mistral model with 4-bit quantization for efficiency\n",
        "model, tokenizer = FastLanguageModel.from_pretrained(\n",
        "    model_name=\"unsloth/mistral-7b-instruct-v0.2-bnb-4bit\",  # Model checkpoint to load\n",
        "    max_seq_length=4096,  # Maximum sequence length the model can handle\n",
        "    dtype=None,            # Use default data type (automatic)\n",
        "    load_in_4bit=True      # Load the model in 4-bit precision to save memory\n",
        ")\n"
      ],
      "metadata": {
        "id": "HZWyFbFXsn_D",
        "colab": {
          "base_uri": "https://localhost:8080/"
        },
        "outputId": "aad2ff42-4bcc-4ad4-fd68-250a44388b8e"
      },
      "execution_count": null,
      "outputs": [
        {
          "output_type": "stream",
          "name": "stdout",
          "text": [
            "==((====))==  Unsloth 2025.8.9: Fast Mistral patching. Transformers: 4.51.3.\n",
            "   \\\\   /|    Tesla T4. Num GPUs = 1. Max memory: 14.741 GB. Platform: Linux.\n",
            "O^O/ \\_/ \\    Torch: 2.8.0+cu126. CUDA: 7.5. CUDA Toolkit: 12.6. Triton: 3.4.0\n",
            "\\        /    Bfloat16 = FALSE. FA [Xformers = 0.0.32.post2. FA2 = False]\n",
            " \"-____-\"     Free license: http://github.com/unslothai/unsloth\n",
            "Unsloth: Fast downloading is enabled - ignore downloading bars which are red colored!\n"
          ]
        }
      ]
    },
    {
      "cell_type": "code",
      "source": [
        "# Prepare the model for inference (generating predictions)\n",
        "FastLanguageModel.for_inference(model)"
      ],
      "metadata": {
        "id": "N3VYp0p7C794",
        "colab": {
          "base_uri": "https://localhost:8080/"
        },
        "outputId": "d0026067-05ac-48f5-e6db-002f298a1dc4"
      },
      "execution_count": null,
      "outputs": [
        {
          "output_type": "execute_result",
          "data": {
            "text/plain": [
              "MistralForCausalLM(\n",
              "  (model): MistralModel(\n",
              "    (embed_tokens): Embedding(32000, 4096, padding_idx=0)\n",
              "    (layers): ModuleList(\n",
              "      (0-31): 32 x MistralDecoderLayer(\n",
              "        (self_attn): MistralAttention(\n",
              "          (q_proj): Linear4bit(in_features=4096, out_features=4096, bias=False)\n",
              "          (k_proj): Linear4bit(in_features=4096, out_features=1024, bias=False)\n",
              "          (v_proj): Linear4bit(in_features=4096, out_features=1024, bias=False)\n",
              "          (o_proj): Linear4bit(in_features=4096, out_features=4096, bias=False)\n",
              "          (rotary_emb): LlamaRotaryEmbedding()\n",
              "        )\n",
              "        (mlp): MistralMLP(\n",
              "          (gate_proj): Linear4bit(in_features=4096, out_features=14336, bias=False)\n",
              "          (up_proj): Linear4bit(in_features=4096, out_features=14336, bias=False)\n",
              "          (down_proj): Linear4bit(in_features=14336, out_features=4096, bias=False)\n",
              "          (act_fn): SiLU()\n",
              "        )\n",
              "        (input_layernorm): MistralRMSNorm((4096,), eps=1e-05)\n",
              "        (post_attention_layernorm): MistralRMSNorm((4096,), eps=1e-05)\n",
              "      )\n",
              "    )\n",
              "    (norm): MistralRMSNorm((4096,), eps=1e-05)\n",
              "    (rotary_emb): LlamaRotaryEmbedding()\n",
              "  )\n",
              "  (lm_head): Linear(in_features=4096, out_features=32000, bias=False)\n",
              ")"
            ]
          },
          "metadata": {},
          "execution_count": 4
        }
      ]
    },
    {
      "cell_type": "markdown",
      "source": [
        "### Inference\n"
      ],
      "metadata": {
        "id": "b9sW9YYntYcs"
      }
    },
    {
      "cell_type": "markdown",
      "source": [
        "The Alpaca instruction prompt is a general purpose prompt template that can be adapted to any task."
      ],
      "metadata": {
        "id": "1U6zN9zd5YAs"
      }
    },
    {
      "cell_type": "code",
      "source": [
        "alpaca_prompt_template = \"\"\"Below is an instruction that describes a task, paired with an input that provides further context. Write a response that appropriately completes the request.\n",
        "\n",
        "### Instruction:\n",
        "Write a concise summary of the following dialogue.\n",
        "\n",
        "### Input:\n",
        "{}\n",
        "\n",
        "### Response:\n",
        "{}\n",
        "\"\"\""
      ],
      "metadata": {
        "id": "PHaAlmvZfTEp"
      },
      "execution_count": null,
      "outputs": []
    },
    {
      "cell_type": "code",
      "source": [
        "# Initialize an empty list to store the summaries generated by the model\n",
        "predicted_summaries = []"
      ],
      "metadata": {
        "id": "qp9Dtqvdtd6C"
      },
      "execution_count": null,
      "outputs": []
    },
    {
      "cell_type": "markdown",
      "source": [
        "We are generating summaries for each dialogue in our test set using the fine-tuned model.\n",
        "\n",
        "**Step-by-step Approach:**\n",
        "\n",
        "1. **Iterate through test dialogues** - `for dialogue in tqdm(test_dialogues):`\n",
        "\n",
        "   * Loops through each test dialogue while showing a progress bar (`tqdm`).\n",
        "\n",
        "2. **Format the prompt**\n",
        "\n",
        "   * Inserts the dialogue into the summarization template.\n",
        "\n",
        "3. **Tokenize input**\n",
        "\n",
        "   * Converts the text prompt into tokens (numbers) and moves them to the GPU (`.to(\"cuda\")`).\n",
        "\n",
        "4. **Generate output**\n",
        "\n",
        "   * The model predicts the summary using `.generate()`.\n",
        "   * `max_new_tokens=128`: limits summary length.\n",
        "   * `temperature=0`: makes output deterministic (no randomness).\n",
        "   * `pad_token_id`: ensures proper padding using EOS token.\n",
        "\n",
        "5. **Decode output**\n",
        "\n",
        "   * Converts model tokens back into human-readable text.\n",
        "   * Skips special tokens and cleans formatting.\n",
        "\n",
        "6. **Store prediction**\n",
        "\n",
        "   * Appends the generated summary to `predicted_summaries`.\n",
        "\n",
        "7. **Error handling**\n",
        "\n",
        "   * If an error occurs, it prints the error and continues with the next dialogue instead of stopping.\n",
        "\n",
        "This loop **takes each dialogue -> feeds it to the model -> generates a summary -> saves it for evaluation**."
      ],
      "metadata": {
        "id": "jEUx94TogsMJ"
      }
    },
    {
      "cell_type": "code",
      "source": [
        "# Loop through each dialogue in the test set and generate summaries\n",
        "for dialogue in tqdm(test_dialogues):\n",
        "\n",
        "    try:\n",
        "        # Format the dialogue into the Alpaca-style prompt template\n",
        "        prompt = alpaca_prompt_template.format(dialogue, \" \")\n",
        "\n",
        "        # Tokenize the prompt and move it to GPU\n",
        "        inputs = tokenizer(prompt, return_tensors=\"pt\").to(\"cuda\")\n",
        "\n",
        "        # Generate summary with the model\n",
        "        outputs = model.generate(\n",
        "            **inputs,\n",
        "            max_new_tokens=128,          # Limit summary length\n",
        "            use_cache=True,              # Speed up generation\n",
        "            temperature=0,               # Deterministic output\n",
        "            pad_token_id=tokenizer.eos_token_id\n",
        "        )\n",
        "\n",
        "        # Decode the generated tokens into human-readable text\n",
        "        prediction = tokenizer.decode(\n",
        "            outputs[0][inputs.input_ids.shape[-1]:],  # Skip prompt tokens\n",
        "            skip_special_tokens=True,\n",
        "            cleanup_tokenization_spaces=True\n",
        "        )\n",
        "\n",
        "        # Store the generated summary\n",
        "        predicted_summaries.append(prediction)\n",
        "\n",
        "    except Exception as e:\n",
        "        print(e)  # Log any errors and continue with next dialogue\n",
        "        continue\n"
      ],
      "metadata": {
        "id": "M96nqedgsn6Q",
        "colab": {
          "base_uri": "https://localhost:8080/"
        },
        "outputId": "ad87c78c-8163-4588-d879-222a8e992a5b"
      },
      "execution_count": null,
      "outputs": [
        {
          "output_type": "stream",
          "name": "stderr",
          "text": [
            "100%|██████████| 10/10 [01:16<00:00,  7.62s/it]\n"
          ]
        }
      ]
    },
    {
      "cell_type": "markdown",
      "source": [
        "### Evaluation\n"
      ],
      "metadata": {
        "id": "kC8DIfb80ULd"
      }
    },
    {
      "cell_type": "markdown",
      "source": [
        "Now we are evaluating our base model to check how well the generated summaries align with human-written summaries. For this, we are using BERTScore, which measures the semantic similarity between the two."
      ],
      "metadata": {
        "id": "UEb0o6jPc1C5"
      }
    },
    {
      "cell_type": "markdown",
      "source": [
        "**BERTScore** is a metric for evaluating text generation tasks, including summarization, translation, and captioning. Unlike traditional metrics like ROUGE or BLEU that rely on exact word overlaps, BERTScore uses embeddings from a pre-trained BERT model to measure **semantic similarity** between the generated text (predictions) and the human-written text (references). This makes it more robust in capturing meaning, even when different words are used.\n",
        "\n",
        "* **Precision** - Measures how much of the content in the generated text is actually relevant to the reference. High precision means the model is not adding irrelevant or “extra” information.\n",
        "\n",
        "* **Recall** - Measures how much of the important content from the reference is captured by the generated text. A high recall means the model covers most of the key points, even if it includes some extra details.\n",
        "\n",
        "* **F1 Score** - Combines both precision and recall into a balanced score. It demonstrates how well the generated text both covers the important content and remains relevant. This is usually reported as the main metric for BERTScore.\n",
        "\n",
        "In short, BERTScore helps evaluate not just word matching, but whether the **meaning** of the generated text aligns with the reference.\n"
      ],
      "metadata": {
        "id": "FLHAna-S78Li"
      }
    },
    {
      "cell_type": "markdown",
      "source": [
        "We are proceeding with the F1-Score, as it provides a balanced measure of the overall semantic similarity."
      ],
      "metadata": {
        "id": "GabjYgxsdw-i"
      }
    },
    {
      "cell_type": "code",
      "source": [
        "# Load the BERTScore evaluation metric from the Hugging Face 'evaluate' library\n",
        "bert_scorer = evaluate.load(\"bertscore\")"
      ],
      "metadata": {
        "id": "L_RZs84SuIZY"
      },
      "execution_count": null,
      "outputs": []
    },
    {
      "cell_type": "markdown",
      "source": [
        "Hyperparameters for `bert_scorer`\n",
        "\n",
        "* **`predictions`** - The summaries generated by our fine-tuned model.\n",
        "* **`references`** - The correct (gold-standard) summaries from the dataset.\n",
        "* **`lang`='en'** - Specifies the language as English.\n",
        "* **`rescale_with_baseline`=True** - Normalizes the scores so they are easier to interpret.\n",
        "\n"
      ],
      "metadata": {
        "id": "ZDt6VUebIzH2"
      }
    },
    {
      "cell_type": "code",
      "source": [
        "# Compute BERTScore for the model's generated summaries\n",
        "score = bert_scorer.compute(\n",
        "    predictions=predicted_summaries,   # Summaries generated by the model\n",
        "    references=test_summaries,         # Human-written reference summaries\n",
        "    lang='en',                         # Language of the summaries\n",
        "    rescale_with_baseline=True         # Normalize scores for easier interpretation\n",
        ")"
      ],
      "metadata": {
        "id": "Ery2CVncuIW1",
        "colab": {
          "base_uri": "https://localhost:8080/",
          "height": 136,
          "referenced_widgets": [
            "f483532192744e2c9a4eefb2567b02b6",
            "82ed1f8f01ba41d58e60732f502e2606",
            "703d0fe63c26440b9f251f760c9ef4ab",
            "f0af8c1d89704bd28d739a274869ad65",
            "03aedb3387ef4182a7eaab849fc21123",
            "ab6b2c906ff94da5a94201f409434574",
            "6424175902e045d1b30d3fa12ff73f32",
            "6fb638164b754e538e38492a9aa08204",
            "fc394f734d584b7d9315560b21640e5d",
            "5566162bc00d430b878336c23d24bdbf",
            "a547d8c63bb44f88a6522c7186b5e268",
            "553208bce9ea4ef69921389d09f807c5",
            "8afa630e5bc342e59807f0ea8c493f95",
            "80da8e51ccf64550ba5be2f58b28ac98",
            "c6a40368c70c427da29a8f56181ed5fa",
            "862b87382adf4c39b93e8f31e0ee6813",
            "a9925280086c420a89726da2b0a3b6d4",
            "e45a8ce6c93e4c069050076cfee78f09",
            "f329740b7b6441519c5dea729dd7d1ab",
            "22b6ba504e194e1183c963417f128677",
            "fe29dde9a1674024bd7a7fb46f1359f8",
            "fe5f10d9bd4d4db18c91be1612d7c4a8"
          ]
        },
        "outputId": "2bdb6709-f20f-4ff5-9bc5-8b7f7b570b9c"
      },
      "execution_count": null,
      "outputs": [
        {
          "output_type": "display_data",
          "data": {
            "text/plain": [
              "tokenizer.json:   0%|          | 0.00/1.36M [00:00<?, ?B/s]"
            ],
            "application/vnd.jupyter.widget-view+json": {
              "version_major": 2,
              "version_minor": 0,
              "model_id": "f483532192744e2c9a4eefb2567b02b6"
            }
          },
          "metadata": {}
        },
        {
          "output_type": "display_data",
          "data": {
            "text/plain": [
              "model.safetensors:   0%|          | 0.00/1.42G [00:00<?, ?B/s]"
            ],
            "application/vnd.jupyter.widget-view+json": {
              "version_major": 2,
              "version_minor": 0,
              "model_id": "553208bce9ea4ef69921389d09f807c5"
            }
          },
          "metadata": {}
        },
        {
          "output_type": "stream",
          "name": "stderr",
          "text": [
            "Some weights of RobertaModel were not initialized from the model checkpoint at roberta-large and are newly initialized: ['pooler.dense.bias', 'pooler.dense.weight']\n",
            "You should probably TRAIN this model on a down-stream task to be able to use it for predictions and inference.\n"
          ]
        }
      ]
    },
    {
      "cell_type": "markdown",
      "source": [
        "Now we calculate the **average F1 score** across all evaluated summaries, giving an overall performance measure of the model.\n"
      ],
      "metadata": {
        "id": "1-uqPBrseLv6"
      }
    },
    {
      "cell_type": "markdown",
      "source": [
        "**Note:** Since this is a generative model, the output may vary slightly each time. Additionally, because the evaluator is built on neural networks, its responses may also change."
      ],
      "metadata": {
        "id": "xoY9XI8YY0pE"
      }
    },
    {
      "cell_type": "code",
      "source": [
        "# Calculate the average F1 score across all generated summaries\n",
        "average_f1 = sum(score['f1']) / len(score['f1'])\n",
        "average_f1"
      ],
      "metadata": {
        "id": "DESywvMrug7X",
        "colab": {
          "base_uri": "https://localhost:8080/"
        },
        "outputId": "c604e1c5-d706-44fd-d634-645a95a9c42c"
      },
      "execution_count": null,
      "outputs": [
        {
          "output_type": "execute_result",
          "data": {
            "text/plain": [
              "0.21308062300086023"
            ]
          },
          "metadata": {},
          "execution_count": 12
        }
      ]
    },
    {
      "cell_type": "markdown",
      "source": [
        "**The BERT Score of Mistral LLM is 0.21**\n"
      ],
      "metadata": {
        "id": "tvZ1hPLCWwYt"
      }
    },
    {
      "cell_type": "markdown",
      "source": [
        "# **2. Fine Tuning LLM**"
      ],
      "metadata": {
        "id": "AFBNy7vSq42O"
      }
    },
    {
      "cell_type": "markdown",
      "source": [
        "## Data Preparation"
      ],
      "metadata": {
        "id": "Km_LXL5DaGBO"
      }
    },
    {
      "cell_type": "markdown",
      "source": [
        "We first read the CSV into a **Pandas DataFrame** because it is easy to inspect and manipulate tabular data. However, Hugging Face models and trainers do not work directly with DataFrames they expect data in the form of a **`Dataset` object** from the `datasets` library.\n",
        "\n",
        "That’s why we convert the DataFrame into a **dictionary of lists**. The `Dataset.from_dict()` method then turns this dictionary into a Hugging Face `Dataset`, which is optimized for:\n",
        "\n",
        "* fast tokenization, shuffling, and batching,\n",
        "* direct compatibility with `Trainer` / `SFTTrainer`,\n",
        "* efficient storage and processing on large datasets.\n",
        "\n",
        "DataFrame stores data like a table (rows × columns), while a Dataset stores data as a dictionary of columns (each column is an array/list), making it better suited for ML pipelines."
      ],
      "metadata": {
        "id": "18s8RG3i3ay5"
      }
    },
    {
      "cell_type": "markdown",
      "source": [
        "#### Load the Dataset"
      ],
      "metadata": {
        "id": "U6GqVK_ShZ2m"
      }
    },
    {
      "cell_type": "code",
      "source": [
        "# Read the fine-tuning training CSV into a Pandas DataFrame\n",
        "training = pd.read_csv(\"/content/finetuning_training.csv\")\n",
        "\n",
        "# Convert the DataFrame into a dictionary of lists (required for Hugging Face Dataset)\n",
        "training_dict = training.to_dict(orient='list')\n",
        "\n",
        "# Create a Hugging Face Dataset from the dictionary\n",
        "training_dataset = Dataset.from_dict(training_dict)"
      ],
      "metadata": {
        "id": "EjytqCN7rMBu"
      },
      "execution_count": null,
      "outputs": []
    },
    {
      "cell_type": "markdown",
      "source": [
        "Store the end-of-sequence token (used to mark the end of each input/output text)"
      ],
      "metadata": {
        "id": "xbNMLPPg3rk8"
      }
    },
    {
      "cell_type": "code",
      "source": [
        "# Get the end-of-sequence (EOS) token from the tokenizer\n",
        "EOS_TOKEN = tokenizer.eos_token"
      ],
      "metadata": {
        "id": "_TURs0KUrL9v"
      },
      "execution_count": null,
      "outputs": []
    },
    {
      "cell_type": "markdown",
      "source": [
        "#### Create a prompt template"
      ],
      "metadata": {
        "id": "n6rSZF3Qhdb2"
      }
    },
    {
      "cell_type": "code",
      "source": [
        "alpaca_prompt = \"\"\"Below is an instruction that describes a task, paired with an input that provides further context. Write a response that appropriately completes the request.\n",
        "\n",
        "### Instruction:\n",
        "{}\n",
        "\n",
        "### Input:\n",
        "{}\n",
        "\n",
        "### Response:\n",
        "{}\"\"\""
      ],
      "metadata": {
        "id": "pOAzduah_e_z"
      },
      "execution_count": null,
      "outputs": []
    },
    {
      "cell_type": "markdown",
      "source": [
        "### Prompt Formatting"
      ],
      "metadata": {
        "id": "NIqdC93Rhi0g"
      }
    },
    {
      "cell_type": "markdown",
      "source": [
        "**What `prompt_formatter` does?**\n",
        "\n",
        "* Takes a dataset row (Dialogues, Summary) and a prompt template (`prompt template`).\n",
        "* Adds an instruction: `\"Write a concise summary of the following dialogue.\"`\n",
        "* Fills the template with **instruction + dialogue + summary**.\n",
        "* Appends the **EOS token** to mark the end.\n",
        "* Returns the final prompt as `{'text': formatted_prompt}` for training.\n",
        "\n",
        "This ensures each example is structured like:\n",
        "**Instruction - Dialogue - Summary \\[EOS]**"
      ],
      "metadata": {
        "id": "513Rtfvx3-6d"
      }
    },
    {
      "cell_type": "code",
      "source": [
        "def prompt_formatter(example, prompt_template):\n",
        "    # Instruction for the model\n",
        "    instruction = 'Write a concise summary of the following dialogue.'\n",
        "\n",
        "    # Extract dialogue and reference summary from the dataset example\n",
        "    dialogue = example[\"Dialogues\"]\n",
        "    summary = example[\"Summary\"]\n",
        "\n",
        "    # Merge the instruction, dialogue, and summary into the prompt template\n",
        "    # Append EOS_TOKEN to mark the end of the sequence\n",
        "    formatted_prompt = prompt_template.format(instruction, dialogue, summary) + EOS_TOKEN\n",
        "\n",
        "    # Return as a dictionary in the format expected by the trainer\n",
        "    return {'text': formatted_prompt}\n"
      ],
      "metadata": {
        "id": "v0sjC8_Y_e9j"
      },
      "execution_count": null,
      "outputs": []
    },
    {
      "cell_type": "markdown",
      "source": [
        "Notice how we are adding the end-of-sequence token to the prompt i.e. we're adding a special marker at the end of the prompt to show it's finished"
      ],
      "metadata": {
        "id": "2ZFaxW79CctT"
      }
    },
    {
      "cell_type": "code",
      "source": [
        "# Apply the prompt_formatter function to each example in the training dataset\n",
        "# This formats dialogues and summaries into prompts suitable for model training\n",
        "formatted_training_dataset = training_dataset.map(\n",
        "    prompt_formatter,\n",
        "    fn_kwargs={'prompt_template': alpaca_prompt}  # Pass the Alpaca-style prompt template\n",
        ")\n"
      ],
      "metadata": {
        "id": "V74wlPa7_e71",
        "colab": {
          "base_uri": "https://localhost:8080/",
          "height": 49,
          "referenced_widgets": [
            "e2021eea82144517b2a89d67402f6296",
            "73726c48f256499daf6a7e5ff7c8d05d",
            "8595e39cc76842029c15847345922cdc",
            "70af7c7881c445d79d4ac28cf196c379",
            "bf846beed3634db78681d05271da7c01",
            "df5637d8d8e64c418e906500c4a925e6",
            "f2ead2bea789443692b70420e747fab4",
            "182044c6a2574c4cbf97810a098484c9",
            "e196b6f6012c4591bec9956bd1b5607b",
            "a733c57b43c04e749f6cb10ab3c5c647",
            "e452aa326751490485ba8437dadcc361"
          ]
        },
        "outputId": "1b6c68bb-aac7-498d-c21d-876604368756"
      },
      "execution_count": null,
      "outputs": [
        {
          "output_type": "display_data",
          "data": {
            "text/plain": [
              "Map:   0%|          | 0/50 [00:00<?, ? examples/s]"
            ],
            "application/vnd.jupyter.widget-view+json": {
              "version_major": 2,
              "version_minor": 0,
              "model_id": "e2021eea82144517b2a89d67402f6296"
            }
          },
          "metadata": {}
        }
      ]
    },
    {
      "cell_type": "code",
      "source": [
        "# Read the fine-tuning validation CSV into a Pandas DataFrame\n",
        "validation = pd.read_csv(\"/content/finetuning_validation.csv\")\n",
        "\n",
        "# Convert the DataFrame into a dictionary of lists (required for Hugging Face Dataset)\n",
        "validation_dict = validation.to_dict(orient='list')\n",
        "\n",
        "# Create a Hugging Face Dataset from the dictionary\n",
        "validation_dataset = Dataset.from_dict(validation_dict)"
      ],
      "metadata": {
        "id": "jvnCfQ9I_e5F"
      },
      "execution_count": null,
      "outputs": []
    },
    {
      "cell_type": "code",
      "source": [
        "# Apply the prompt_formatter function to each example in the validation dataset\n",
        "# This formats dialogues and summaries into prompts suitable for model evaluation\n",
        "formatted_validation_dataset = validation_dataset.map(\n",
        "    prompt_formatter,\n",
        "    fn_kwargs={'prompt_template': alpaca_prompt}  # Pass the Alpaca-style prompt template\n",
        ")\n"
      ],
      "metadata": {
        "id": "U2wTZleC_e2a",
        "colab": {
          "base_uri": "https://localhost:8080/",
          "height": 49,
          "referenced_widgets": [
            "d08975faef354735a691d3bc98894693",
            "9d50bfb3ceab4623875a8dc2045931f8",
            "b3b3980bff4a47ecb25f6da45fbbf6fc",
            "b00986e06e0e46e99419cc8db7de72e1",
            "f2daf4a9808d4746a8c9fb774cf3baea",
            "bc9aae332bad47faae3947721f8120d2",
            "cbf6ccaa7ed2469e92323f82ffed9af3",
            "60a9f2753a4c447fa1cedc9d43ff5b90",
            "c0337deda64f43eb9eef1c600a5e4270",
            "a28e4972fad143c09cc7618bc543f696",
            "c7746273b7624ecf8a8782eaf21582b8"
          ]
        },
        "outputId": "35e56e4f-5519-4951-ebe6-132e0dc97743"
      },
      "execution_count": null,
      "outputs": [
        {
          "output_type": "display_data",
          "data": {
            "text/plain": [
              "Map:   0%|          | 0/10 [00:00<?, ? examples/s]"
            ],
            "application/vnd.jupyter.widget-view+json": {
              "version_major": 2,
              "version_minor": 0,
              "model_id": "d08975faef354735a691d3bc98894693"
            }
          },
          "metadata": {}
        }
      ]
    },
    {
      "cell_type": "markdown",
      "source": [
        "## Fine-Tuning"
      ],
      "metadata": {
        "id": "wCmKWuZkBzzR"
      }
    },
    {
      "cell_type": "markdown",
      "source": [
        "We now patch in the adapter modules to the base model using the `get_peft_model` method.\n"
      ],
      "metadata": {
        "id": "AYRXt6WZBzlO"
      }
    },
    {
      "cell_type": "markdown",
      "source": [
        "We are adapting the large language model for our task using a technique called **LoRA (Low-Rank Adaptation)**. Instead of retraining the entire model (which would be very expensive), LoRA only updates a small number of parameters while keeping most of the model frozen.\n",
        "\n",
        "\n",
        "* **`r`** - Rank of low-rank matrices; higher = more adaptation, typical 4-64.\n",
        "* **`lora_alpha`** - Scaling factor for LoRA updates; higher = stronger effect, typical 8-32.\n",
        "* **`lora_dropout`** - Dropout on LoRA layers to prevent overfitting, 0-0.3.\n",
        "* **`target_modules`** - The specific parts of the model we allow to be updated.\n",
        "* **`use_gradient_checkpointing`** - Save memory by recomputing activations, `True`/`False`.\n",
        "* **`random_state`** - Seed for reproducibility, any integer.\n",
        "\n",
        "This step makes the model **lighter, faster, and cheaper to fine-tune**, while still learning how to summarize dialogues effectively."
      ],
      "metadata": {
        "id": "Goth8Q4O4dCJ"
      }
    },
    {
      "cell_type": "markdown",
      "source": [
        "For more information, please refer to the [Unsloth](https://github.com/unslothai/unsloth) repository."
      ],
      "metadata": {
        "id": "ja43AfZ3I8Nb"
      }
    },
    {
      "cell_type": "markdown",
      "source": [
        "**NOTE:** This is a LoRA model because we are only applying low-rank adapters on top of the frozen model weights. Although the base model is loaded in 4-bit precision, we are not using QLoRA’s specific quantization (NF4 + double quantization) or gradient handling required for QLoRA fine-tuning."
      ],
      "metadata": {
        "id": "_QAbRmouJgpo"
      }
    },
    {
      "cell_type": "code",
      "source": [
        "# Convert the base model into a LoRA (adapter) fine-tunable model\n",
        "model = FastLanguageModel.get_peft_model(\n",
        "    model,\n",
        "    r=16,                         # Rank of the LoRA update matrices\n",
        "    lora_alpha=16,                # Scaling factor for LoRA updates   #  `r=16` and `lora_alpha=16` provide a balanced trade-off, giving enough capacity\n",
        "                                                                      #    to learn task-specific patterns while keeping updates stable and efficient.\n",
        "    lora_dropout=0,               # Dropout rate for LoRA layers (set 0 for fast patching support)\n",
        "    bias=\"none\",                  # How biases are handled (none = leave them unchanged)\n",
        "    target_modules=[              # Model layers where LoRA adapters will be applied\n",
        "        \"q_proj\", \"k_proj\", \"v_proj\", \"o_proj\",\n",
        "        \"gate_proj\", \"up_proj\", \"down_proj\"\n",
        "    ],\n",
        "    use_gradient_checkpointing=True,  # Saves memory during training by recomputing activations\n",
        "    random_state=42                  # For reproducibility\n",
        ")\n"
      ],
      "metadata": {
        "id": "gnIsofeq_e0B",
        "colab": {
          "base_uri": "https://localhost:8080/"
        },
        "outputId": "a5aefd10-bd5b-4327-de72-1b2b93f43dd1"
      },
      "execution_count": null,
      "outputs": [
        {
          "output_type": "stream",
          "name": "stderr",
          "text": [
            "Unsloth: Already have LoRA adapters! We shall skip this step.\n"
          ]
        }
      ]
    },
    {
      "cell_type": "markdown",
      "source": [
        "The **architecture** of the Mistral model, specifically the MistralForCausalLM, consists of several key components:\n",
        "\n",
        "1) Embedding Layer: The model starts with an embedding layer that converts input tokens into a dense representation with an output size of 4096, supporting a vocabulary of 32,000 tokens.\n",
        "\n",
        "2) Decoder Layers: The core of the model comprises 32 MistralDecoderLayer instances, each containing:\n",
        "- Self-Attention Mechanism: This includes multiple projection layers for queries,\n",
        "keys, values, and output, all designed to handle 4-bit precision for efficient computation. Rotary embeddings are also employed for position encoding.\n",
        "- Feedforward Network (MLP): The MLP features gates and projections to expand the dimensionality to 14,336 before reducing it back to 4096, using the SiLU activation function.\n",
        "- Layer Normalization: Each decoder layer includes input and post-attention normalization using MistralRMSNorm.\n",
        "\n",
        "3) Final Normalization: The entire model concludes with an additional normalization layer.\n",
        "\n",
        "4) Linear Output Head: The model includes a linear layer that maps the 4096-dimensional output back to the token vocabulary size (32,000), enabling the generation of predictions."
      ],
      "metadata": {
        "id": "g05VpvboB9o7"
      }
    },
    {
      "cell_type": "code",
      "source": [
        "model"
      ],
      "metadata": {
        "id": "VCS6BYy-DkTw"
      },
      "execution_count": null,
      "outputs": []
    },
    {
      "cell_type": "markdown",
      "source": [
        "Notice how LoRA adapters are attached to the layers specified during instantiation."
      ],
      "metadata": {
        "id": "Da6_rFs77G78"
      }
    },
    {
      "cell_type": "markdown",
      "source": [
        "```\n",
        "PeftModelForCausalLM(\n",
        "  (base_model): LoraModel(\n",
        "    (model): MistralForCausalLM(\n",
        "      (model): MistralModel(\n",
        "        (embed_tokens): Embedding(32000, 4096, padding_idx=0)\n",
        "        (layers): ModuleList(\n",
        "          (0-31): 32 x MistralDecoderLayer(\n",
        "            (self_attn): MistralAttention(\n",
        "              (q_proj): lora.Linear4bit(\n",
        "                (base_layer): Linear4bit(in_features=4096, out_features=4096, bias=False)\n",
        "                zzz(lora_dropout): ModuleDict(\n",
        "                  (default): Identity()\n",
        "                )\n",
        "                (lora_A): ModuleDict(\n",
        "                  (default): Linear(in_features=4096, out_features=16, bias=False)\n",
        "                )\n",
        "                (lora_B): ModuleDict(\n",
        "                  (default): Linear(in_features=16, out_features=4096, bias=False)\n",
        "                )\n",
        "                (lora_embedding_A): ParameterDict()\n",
        "                (lora_embedding_B): ParameterDict()\n",
        "                (lora_magnitude_vector): ModuleDict()\n",
        "              )\n",
        "              (k_proj): lora.Linear4bit(\n",
        "                (base_layer): Linear4bit(in_features=4096, out_features=1024, bias=False)\n",
        "                (lora_dropout): ModuleDict(\n",
        "                  (default): Identity()\n",
        "                )\n",
        "                (lora_A): ModuleDict(\n",
        "                  (default): Linear(in_features=4096, out_features=16, bias=False)\n",
        "                )\n",
        "                (lora_B): ModuleDict(\n",
        "                  (default): Linear(in_features=16, out_features=1024, bias=False)\n",
        "                )\n",
        "                (lora_embedding_A): ParameterDict()\n",
        "                (lora_embedding_B): ParameterDict()\n",
        "                (lora_magnitude_vector): ModuleDict()\n",
        "              )\n",
        "              (v_proj): lora.Linear4bit(\n",
        "                (base_layer): Linear4bit(in_features=4096, out_features=1024, bias=False)\n",
        "                (lora_dropout): ModuleDict(\n",
        "                  (default): Identity()\n",
        "                )\n",
        "                (lora_A): ModuleDict(\n",
        "                  (default): Linear(in_features=4096, out_features=16, bias=False)\n",
        "                )\n",
        "                (lora_B): ModuleDict(\n",
        "                  (default): Linear(in_features=16, out_features=1024, bias=False)\n",
        "                )\n",
        "                (lora_embedding_A): ParameterDict()\n",
        "                (lora_embedding_B): ParameterDict()\n",
        "                (lora_magnitude_vector): ModuleDict()\n",
        "              )\n",
        "              (o_proj): lora.Linear4bit(\n",
        "                (base_layer): Linear4bit(in_features=4096, out_features=4096, bias=False)\n",
        "                (lora_dropout): ModuleDict(\n",
        "                  (default): Identity()\n",
        "                )\n",
        "                (lora_A): ModuleDict(\n",
        "                  (default): Linear(in_features=4096, out_features=16, bias=False)\n",
        "                )\n",
        "                (lora_B): ModuleDict(\n",
        "                  (default): Linear(in_features=16, out_features=4096, bias=False)\n",
        "                )\n",
        "                (lora_embedding_A): ParameterDict()\n",
        "                (lora_embedding_B): ParameterDict()\n",
        "                (lora_magnitude_vector): ModuleDict()\n",
        "              )\n",
        "              (rotary_emb): LlamaRotaryEmbedding()\n",
        "            )\n",
        "            (mlp): MistralMLP(\n",
        "              (gate_proj): lora.Linear4bit(\n",
        "                (base_layer): Linear4bit(in_features=4096, out_features=14336, bias=False)\n",
        "                (lora_dropout): ModuleDict(\n",
        "                  (default): Identity()\n",
        "                )\n",
        "                (lora_A): ModuleDict(\n",
        "                  (default): Linear(in_features=4096, out_features=16, bias=False)\n",
        "                )\n",
        "                (lora_B): ModuleDict(\n",
        "                  (default): Linear(in_features=16, out_features=14336, bias=False)\n",
        "                )\n",
        "                (lora_embedding_A): ParameterDict()\n",
        "                (lora_embedding_B): ParameterDict()\n",
        "                (lora_magnitude_vector): ModuleDict()\n",
        "              )\n",
        "              (up_proj): lora.Linear4bit(\n",
        "                (base_layer): Linear4bit(in_features=4096, out_features=14336, bias=False)\n",
        "                (lora_dropout): ModuleDict(\n",
        "                  (default): Identity()\n",
        "                )\n",
        "                (lora_A): ModuleDict(\n",
        "                  (default): Linear(in_features=4096, out_features=16, bias=False)\n",
        "                )\n",
        "                (lora_B): ModuleDict(\n",
        "                  (default): Linear(in_features=16, out_features=14336, bias=False)\n",
        "                )\n",
        "                (lora_embedding_A): ParameterDict()\n",
        "                (lora_embedding_B): ParameterDict()\n",
        "                (lora_magnitude_vector): ModuleDict()\n",
        "              )\n",
        "              (down_proj): lora.Linear4bit(\n",
        "                (base_layer): Linear4bit(in_features=14336, out_features=4096, bias=False)\n",
        "                (lora_dropout): ModuleDict(\n",
        "                  (default): Identity()\n",
        "                )\n",
        "                (lora_A): ModuleDict(\n",
        "                  (default): Linear(in_features=14336, out_features=16, bias=False)\n",
        "                )\n",
        "                (lora_B): ModuleDict(\n",
        "                  (default): Linear(in_features=16, out_features=4096, bias=False)\n",
        "                )\n",
        "                (lora_embedding_A): ParameterDict()\n",
        "                (lora_embedding_B): ParameterDict()\n",
        "                (lora_magnitude_vector): ModuleDict()\n",
        "              )\n",
        "              (act_fn): SiLU()\n",
        "            )\n",
        "            (input_layernorm): MistralRMSNorm((4096,), eps=1e-05)\n",
        "            (post_attention_layernorm): MistralRMSNorm((4096,), eps=1e-05)\n",
        "          )\n",
        "        )\n",
        "        (norm): MistralRMSNorm((4096,), eps=1e-05)\n",
        "        (rotary_emb): LlamaRotaryEmbedding()\n",
        "      )\n",
        "      (lm_head): Linear(in_features=4096, out_features=32000, bias=False)\n",
        "    )\n",
        "  )\n",
        ")\n",
        "```\n",
        "\n"
      ],
      "metadata": {
        "id": "9tB5eZxDp88t"
      }
    },
    {
      "cell_type": "markdown",
      "source": [
        "For training, we use the following nuances borrowed from the broader deep learning discipline.\n",
        "\n",
        "- Low learning rates for smooth parameter updates\n",
        "- Early stopping to monitor for validation loss (negative log likelihood in this case)\n",
        "- Checkpointing to enable resumption of training\n"
      ],
      "metadata": {
        "id": "LOLX05I97IzR"
      }
    },
    {
      "cell_type": "markdown",
      "source": [
        "We are creating a **trainer** that will handle the fine-tuning of our model. The trainer takes care of feeding the data into the model, running the training loop, tracking progress, and saving results.\n",
        "\n",
        "Key points in this setup:\n",
        "\n",
        "* **Model & Tokenizer** - The language model and its tokenizer we are fine-tuning.\n",
        "* **Training & Validation Data** - Split datasets so the model can learn on one set and be tested on another.\n",
        "* **Max Sequence Length (2048)** - How much text the model can read at once.\n",
        "* **Data Collator** - Groups the data into batches in the right format.\n",
        "* **Batch Size & Gradient Accumulation** - Train on small pieces at a time (due to memory limits) and combine updates to act like a larger batch.\n",
        "* **Learning Rate & Optimizer** - Control how fast the model learns and how updates are applied.\n",
        "* **Epochs / Steps** - How long the model trains.\n",
        "* **FP16 / BF16** - Use lower precision for faster and more memory-efficient training.\n",
        "* **Output Directory** - Where trained model checkpoints and logs are saved.\n",
        "\n",
        "\n",
        "This trainer automates the whole training process from sending data into the model to adjusting weights, logging progress, and saving results, making fine-tuning efficient and manageable.\n"
      ],
      "metadata": {
        "id": "zMGd9Kdc5B-a"
      }
    },
    {
      "cell_type": "code",
      "source": [
        "trainer = SFTTrainer(\n",
        "    model = model,  # LoRA-adapted model to fine-tune\n",
        "    tokenizer = tokenizer,  # Tokenizer corresponding to the model\n",
        "    train_dataset = formatted_training_dataset,  # Training dataset in prompt-ready format\n",
        "    eval_dataset = formatted_validation_dataset,  # Validation dataset for evaluation\n",
        "    dataset_text_field = \"text\",  # Field in dataset containing the input text\n",
        "    max_seq_length = 2048,  # Maximum sequence length for training\n",
        "    data_collator = DataCollatorForSeq2Seq(tokenizer=tokenizer),  # Handles batching\n",
        "    dataset_num_proc = 2,  # Number of processes for dataset preprocessing\n",
        "    packing = False,  # Packing short sequences can make training faster (disabled here)\n",
        "    args = TrainingArguments(\n",
        "        per_device_train_batch_size = 2,  # Batch size per GPU/CPU\n",
        "        gradient_accumulation_steps = 4,  # Accumulate gradients over steps to simulate larger batch\n",
        "        warmup_steps = 5,  # Learning rate warmup steps\n",
        "        max_steps = 30,  # Total training steps (used here for quick demonstration)\n",
        "        learning_rate = 2e-4,  # Learning rate for optimizer\n",
        "        fp16 = not is_bfloat16_supported(),  # Use 16-bit float if bfloat16 not supported\n",
        "        bf16 = is_bfloat16_supported(),  # Use bfloat16 if supported\n",
        "        logging_steps = 1,  # Log metrics every step\n",
        "        optim = \"adamw_8bit\",  # 8-bit AdamW optimizer for memory efficiency\n",
        "        weight_decay = 0.01,  # Regularization to prevent overfitting\n",
        "        lr_scheduler_type = \"linear\",  # Linear learning rate decay\n",
        "        seed = 3407,  # For reproducibility\n",
        "        output_dir = \"outputs\",  # Directory to save checkpoints and outputs\n",
        "        report_to = \"none\"  # No external logging (like WandB)\n",
        "    ),\n",
        ")\n"
      ],
      "metadata": {
        "id": "0EGcJ09z_exb"
      },
      "execution_count": null,
      "outputs": []
    },
    {
      "cell_type": "code",
      "source": [
        "training_history = trainer.train()"
      ],
      "metadata": {
        "id": "xH8cGYJJ_0Wh",
        "colab": {
          "base_uri": "https://localhost:8080/",
          "height": 1000
        },
        "outputId": "de4f4eb2-f2c9-442d-c2e5-a1df2adf4225"
      },
      "execution_count": null,
      "outputs": [
        {
          "output_type": "stream",
          "name": "stderr",
          "text": [
            "==((====))==  Unsloth - 2x faster free finetuning | Num GPUs used = 1\n",
            "   \\\\   /|    Num examples = 50 | Num Epochs = 5 | Total steps = 30\n",
            "O^O/ \\_/ \\    Batch size per device = 2 | Gradient accumulation steps = 4\n",
            "\\        /    Data Parallel GPUs = 1 | Total batch size (2 x 4 x 1) = 8\n",
            " \"-____-\"     Trainable parameters = 41,943,040 of 7,283,675,136 (0.58% trained)\n"
          ]
        },
        {
          "output_type": "stream",
          "name": "stdout",
          "text": [
            "Unsloth: Will smartly offload gradients to save VRAM!\n"
          ]
        },
        {
          "output_type": "display_data",
          "data": {
            "text/plain": [
              "<IPython.core.display.HTML object>"
            ],
            "text/html": [
              "\n",
              "    <div>\n",
              "      \n",
              "      <progress value='30' max='30' style='width:300px; height:20px; vertical-align: middle;'></progress>\n",
              "      [30/30 03:56, Epoch 4/5]\n",
              "    </div>\n",
              "    <table border=\"1\" class=\"dataframe\">\n",
              "  <thead>\n",
              " <tr style=\"text-align: left;\">\n",
              "      <th>Step</th>\n",
              "      <th>Training Loss</th>\n",
              "    </tr>\n",
              "  </thead>\n",
              "  <tbody>\n",
              "    <tr>\n",
              "      <td>1</td>\n",
              "      <td>2.388400</td>\n",
              "    </tr>\n",
              "    <tr>\n",
              "      <td>2</td>\n",
              "      <td>2.406600</td>\n",
              "    </tr>\n",
              "    <tr>\n",
              "      <td>3</td>\n",
              "      <td>2.202300</td>\n",
              "    </tr>\n",
              "    <tr>\n",
              "      <td>4</td>\n",
              "      <td>1.798700</td>\n",
              "    </tr>\n",
              "    <tr>\n",
              "      <td>5</td>\n",
              "      <td>1.481300</td>\n",
              "    </tr>\n",
              "    <tr>\n",
              "      <td>6</td>\n",
              "      <td>1.229600</td>\n",
              "    </tr>\n",
              "    <tr>\n",
              "      <td>7</td>\n",
              "      <td>1.176100</td>\n",
              "    </tr>\n",
              "    <tr>\n",
              "      <td>8</td>\n",
              "      <td>0.687000</td>\n",
              "    </tr>\n",
              "    <tr>\n",
              "      <td>9</td>\n",
              "      <td>0.298700</td>\n",
              "    </tr>\n",
              "    <tr>\n",
              "      <td>10</td>\n",
              "      <td>0.145400</td>\n",
              "    </tr>\n",
              "    <tr>\n",
              "      <td>11</td>\n",
              "      <td>0.104000</td>\n",
              "    </tr>\n",
              "    <tr>\n",
              "      <td>12</td>\n",
              "      <td>0.222300</td>\n",
              "    </tr>\n",
              "    <tr>\n",
              "      <td>13</td>\n",
              "      <td>0.090300</td>\n",
              "    </tr>\n",
              "    <tr>\n",
              "      <td>14</td>\n",
              "      <td>0.066400</td>\n",
              "    </tr>\n",
              "    <tr>\n",
              "      <td>15</td>\n",
              "      <td>0.171300</td>\n",
              "    </tr>\n",
              "    <tr>\n",
              "      <td>16</td>\n",
              "      <td>0.064000</td>\n",
              "    </tr>\n",
              "    <tr>\n",
              "      <td>17</td>\n",
              "      <td>0.060100</td>\n",
              "    </tr>\n",
              "    <tr>\n",
              "      <td>18</td>\n",
              "      <td>0.057800</td>\n",
              "    </tr>\n",
              "    <tr>\n",
              "      <td>19</td>\n",
              "      <td>0.148600</td>\n",
              "    </tr>\n",
              "    <tr>\n",
              "      <td>20</td>\n",
              "      <td>0.046200</td>\n",
              "    </tr>\n",
              "    <tr>\n",
              "      <td>21</td>\n",
              "      <td>0.044000</td>\n",
              "    </tr>\n",
              "    <tr>\n",
              "      <td>22</td>\n",
              "      <td>0.116800</td>\n",
              "    </tr>\n",
              "    <tr>\n",
              "      <td>23</td>\n",
              "      <td>0.040500</td>\n",
              "    </tr>\n",
              "    <tr>\n",
              "      <td>24</td>\n",
              "      <td>0.043700</td>\n",
              "    </tr>\n",
              "    <tr>\n",
              "      <td>25</td>\n",
              "      <td>0.035100</td>\n",
              "    </tr>\n",
              "    <tr>\n",
              "      <td>26</td>\n",
              "      <td>0.038600</td>\n",
              "    </tr>\n",
              "    <tr>\n",
              "      <td>27</td>\n",
              "      <td>0.087900</td>\n",
              "    </tr>\n",
              "    <tr>\n",
              "      <td>28</td>\n",
              "      <td>0.038000</td>\n",
              "    </tr>\n",
              "    <tr>\n",
              "      <td>29</td>\n",
              "      <td>0.073200</td>\n",
              "    </tr>\n",
              "    <tr>\n",
              "      <td>30</td>\n",
              "      <td>0.081400</td>\n",
              "    </tr>\n",
              "  </tbody>\n",
              "</table><p>"
            ]
          },
          "metadata": {}
        }
      ]
    },
    {
      "cell_type": "markdown",
      "source": [
        "## Saving the Trained Model"
      ],
      "metadata": {
        "id": "IwO05JGo3Egh"
      }
    },
    {
      "cell_type": "markdown",
      "source": [
        "\n",
        "We will be saving the **LoRA Parameters** of our fine-tuned model so that we can test/evaluate the model later. Since fine-tuning is an expensive process, it’s best to save these adapter files in case of crashes.\n"
      ],
      "metadata": {
        "id": "C45mg7AjBMTr"
      }
    },
    {
      "cell_type": "markdown",
      "source": [
        "### Setup to enable bash commands"
      ],
      "metadata": {
        "id": "H9EDRk6Zh-b7"
      }
    },
    {
      "cell_type": "markdown",
      "source": [
        "This code ensures that all file names and metadata are encoded in UTF-8, preventing errors when writing model files to disk or Google Drive."
      ],
      "metadata": {
        "id": "HyWEau0dneNw"
      }
    },
    {
      "cell_type": "code",
      "source": [
        "# Setup to ensure Python uses UTF-8 encoding for shell/batch commands\n",
        "import locale\n",
        "\n",
        "# Override the system's preferred encoding to always return \"UTF-8\"\n",
        "def getpreferredencoding():\n",
        "    return \"UTF-8\"\n",
        "\n",
        "locale.getpreferredencoding = getpreferredencoding"
      ],
      "metadata": {
        "id": "XsoPFnwi_0US"
      },
      "execution_count": null,
      "outputs": []
    },
    {
      "cell_type": "code",
      "source": [
        "lora_model_name = \"finetuned_mistral_llm\""
      ],
      "metadata": {
        "id": "1cmI1i5wm0UT"
      },
      "execution_count": null,
      "outputs": []
    },
    {
      "cell_type": "code",
      "source": [
        "model.save_pretrained(lora_model_name)"
      ],
      "metadata": {
        "id": "LBEche8koNV0"
      },
      "execution_count": null,
      "outputs": []
    },
    {
      "cell_type": "markdown",
      "source": [
        "`ls -lh {folder}`\n",
        "\n",
        "* **ls** - Lists files and folders.\n",
        "* **-l** - Shows detailed information like permissions, owner, size, and modification date.\n",
        "* **-h** - Makes file sizes human-readable (KB, MB, GB instead of bytes).\n",
        "* `{folder}` - The folder whose contents you want to see.\n",
        "\n",
        "Shows the **contents and sizes** of a folder in a readable format."
      ],
      "metadata": {
        "id": "k55cdXfSoXNv"
      }
    },
    {
      "cell_type": "code",
      "source": [
        "!ls -lh {lora_model_name}"
      ],
      "metadata": {
        "id": "OdMNXKQ5_0SA",
        "colab": {
          "base_uri": "https://localhost:8080/"
        },
        "outputId": "87e43571-d756-43b1-a001-eaa7a3108ab2"
      },
      "execution_count": null,
      "outputs": [
        {
          "output_type": "stream",
          "name": "stdout",
          "text": [
            "total 161M\n",
            "-rw-r--r-- 1 root root  950 Aug 20 18:11 adapter_config.json\n",
            "-rw-r--r-- 1 root root 161M Aug 20 18:11 adapter_model.safetensors\n",
            "-rw-r--r-- 1 root root 5.2K Aug 20 18:11 README.md\n"
          ]
        }
      ]
    },
    {
      "cell_type": "markdown",
      "source": [
        "`cp -r {source} {destination}`\n",
        "\n",
        "* **cp** - Stands for “copy”.\n",
        "* **-r** - Means “recursive”, which allows copying **folders and all their contents** (subfolders and files).\n",
        "* `{source}` - The folder you want to copy.\n",
        "* `{destination}` - Where you want to copy it to.\n",
        "\n",
        "Copies a folder and everything inside it to another location.\n",
        "\n",
        "\n"
      ],
      "metadata": {
        "id": "_NoPpKOFoVgZ"
      }
    },
    {
      "cell_type": "code",
      "source": [
        "# # Comment out this cell if you want to save the model to Google Drive\n",
        "\n",
        "# from google.colab import drive\n",
        "# drive.mount('/content/drive')\n",
        "\n",
        "# drive_model_path = \"/content/drive/MyDrive/finetuned_mistral_llm\"\n",
        "\n",
        "# !cp -r {lora_model_name} {drive_model_path}"
      ],
      "metadata": {
        "colab": {
          "base_uri": "https://localhost:8080/"
        },
        "id": "XjPmezvToOeH",
        "outputId": "bbc47017-e8c7-417f-b8e9-4c5d2a2aef59"
      },
      "execution_count": null,
      "outputs": [
        {
          "output_type": "stream",
          "name": "stdout",
          "text": [
            "Drive already mounted at /content/drive; to attempt to forcibly remount, call drive.mount(\"/content/drive\", force_remount=True).\n"
          ]
        }
      ]
    },
    {
      "cell_type": "markdown",
      "source": [
        "# **3. Evaluation of LLM after FineTuning**"
      ],
      "metadata": {
        "id": "-Sq_u6Mpq441"
      }
    },
    {
      "cell_type": "markdown",
      "source": [
        "### Loading the Fine-tuned Mistral LLM"
      ],
      "metadata": {
        "id": "qGV4lcz8FHa1"
      }
    },
    {
      "cell_type": "code",
      "source": [
        "model, tokenizer = FastLanguageModel.from_pretrained(\n",
        "    model_name=lora_model_name,                 # Replace the model name with \"drive_model_path\" if you are loading the model from Drive\n",
        "    max_seq_length=2048,\n",
        "    dtype=None,\n",
        "    load_in_4bit=True\n",
        ")"
      ],
      "metadata": {
        "id": "dXDLid2b0zLu",
        "colab": {
          "base_uri": "https://localhost:8080/"
        },
        "outputId": "2f1a67e7-9f85-4cd8-d24c-0e625bf22262"
      },
      "execution_count": null,
      "outputs": [
        {
          "output_type": "stream",
          "name": "stdout",
          "text": [
            "==((====))==  Unsloth 2025.8.9: Fast Mistral patching. Transformers: 4.51.3.\n",
            "   \\\\   /|    Tesla T4. Num GPUs = 1. Max memory: 14.741 GB. Platform: Linux.\n",
            "O^O/ \\_/ \\    Torch: 2.8.0+cu126. CUDA: 7.5. CUDA Toolkit: 12.6. Triton: 3.4.0\n",
            "\\        /    Bfloat16 = FALSE. FA [Xformers = 0.0.32.post2. FA2 = False]\n",
            " \"-____-\"     Free license: http://github.com/unslothai/unsloth\n",
            "Unsloth: Fast downloading is enabled - ignore downloading bars which are red colored!\n"
          ]
        }
      ]
    },
    {
      "cell_type": "markdown",
      "source": [
        "### Inferencing"
      ],
      "metadata": {
        "id": "Fb0DfllzFFmx"
      }
    },
    {
      "cell_type": "code",
      "source": [
        "alpaca_prompt_template = \"\"\"Below is an instruction that describes a task, paired with an input that provides further context. Write a response that appropriately completes the request.\n",
        "\n",
        "### Instruction:\n",
        "Write a concise summary of the following dialogue.\n",
        "\n",
        "### Input:\n",
        "{}\n",
        "\n",
        "### Response:\n",
        "{}\n",
        "\"\"\""
      ],
      "metadata": {
        "id": "c8oJluSXGvNu"
      },
      "execution_count": null,
      "outputs": []
    },
    {
      "cell_type": "code",
      "source": [
        "predicted_summaries = []"
      ],
      "metadata": {
        "id": "opvw9Yxp1lqR"
      },
      "execution_count": null,
      "outputs": []
    },
    {
      "cell_type": "code",
      "source": [
        "# Loop through each dialogue in the test set and generate summaries\n",
        "for dialogue in tqdm(test_dialogues):\n",
        "    try:\n",
        "        # Format the dialogue into the Alpaca-style prompt\n",
        "        prompt = alpaca_prompt_template.format(dialogue, '')\n",
        "\n",
        "        # Tokenize the prompt and move to GPU\n",
        "        inputs = tokenizer(prompt, return_tensors=\"pt\").to(\"cuda\")\n",
        "\n",
        "        # Generate model output (summary)\n",
        "        outputs = model.generate(\n",
        "            **inputs,\n",
        "            max_new_tokens=128,          # Limit summary length\n",
        "            use_cache=True,              # Reuse past key values for efficiency\n",
        "            temperature=0,               # Deterministic output\n",
        "            pad_token_id=tokenizer.eos_token_id\n",
        "        )\n",
        "\n",
        "        # Decode the generated tokens into text, skipping special tokens\n",
        "        prediction = tokenizer.decode(\n",
        "            outputs[0][inputs.input_ids.shape[-1]:],  # Remove input prompt tokens\n",
        "            skip_special_tokens=True,\n",
        "            cleanup_tokenization_spaces=True\n",
        "        )\n",
        "\n",
        "        # Store the generated summary\n",
        "        predicted_summaries.append(prediction)\n",
        "\n",
        "    except Exception as e:\n",
        "        print(e)  # Log error if generation fails and continue\n",
        "        continue"
      ],
      "metadata": {
        "id": "WiBUpkKHHGI8",
        "colab": {
          "base_uri": "https://localhost:8080/"
        },
        "outputId": "e02d1d4e-f844-477d-b957-47acbf73f9e7"
      },
      "execution_count": null,
      "outputs": [
        {
          "output_type": "stream",
          "name": "stderr",
          "text": [
            "100%|██████████| 10/10 [00:32<00:00,  3.24s/it]\n"
          ]
        }
      ]
    },
    {
      "cell_type": "markdown",
      "source": [
        "### Evaluation"
      ],
      "metadata": {
        "id": "3WvP1kbtFIcF"
      }
    },
    {
      "cell_type": "code",
      "source": [
        "predicted_summaries"
      ],
      "metadata": {
        "id": "2DNcZha8Vb7s",
        "colab": {
          "base_uri": "https://localhost:8080/"
        },
        "outputId": "1d96c2de-57a3-484f-974c-7c4e82368e44"
      },
      "execution_count": null,
      "outputs": [
        {
          "output_type": "execute_result",
          "data": {
            "text/plain": [
              "['Client inquired about coverage across multiple states and its impact on premiums and compliance. Action: Share case file and compliance checklist within 48 hours.',\n",
              " 'Client inquired about cyber insurance options that protect against data breaches and operational downtime. Action: Share sample policy and incident response playbook.',\n",
              " 'Client inquired about sustainability-linked incentives and its integration with employee benefit plans. Action: Share case study and usage analytics from a similar pilot program.',\n",
              " 'Client inquired about long-term care insurance as a benefit for aging workforce and its integration as a voluntary benefit. Action: Send sample plan designs and communications kit.',\n",
              " 'Client inquired about financial wellness support and its customizability. Action: Share case study, white-labeling options, and usage analytics.',\n",
              " 'Client inquired about global travel insurance and its restrictions. Action: Share pricing matrix and activation guide.',\n",
              " 'Client inquired about voluntary insurance options for new hires and its implementation. Action: Send onboarding materials and decision support tools.',\n",
              " 'Client inquired about optimizing deductibles to manage rising costs and its impact on employee sentiment. Action: Share deductible modeling report and its impact on employee satisfaction.',\n",
              " 'Client inquired about fraud detection solutions and its integration with current claims platform. Action: Share case study and platform specs.',\n",
              " 'Client inquired about inflation protection and its real-world impact. Action: Share case study and usage analytics.']"
            ]
          },
          "metadata": {},
          "execution_count": 30
        }
      ]
    },
    {
      "cell_type": "code",
      "source": [
        "# Evaluate the quality of generated summaries using BERTScore\n",
        "score = bert_scorer.compute(\n",
        "    predictions=predicted_summaries,  # Summaries generated by the model\n",
        "    references=test_summaries,        # Ground-truth summaries from the dataset\n",
        "    lang='en',                        # Specify English language\n",
        "    rescale_with_baseline=True        # Normalize scores for easier interpretation\n",
        ")\n"
      ],
      "metadata": {
        "id": "jTPGlwJP1llz"
      },
      "execution_count": null,
      "outputs": []
    },
    {
      "cell_type": "code",
      "source": [
        "# Compute the average F1 score across all test examples\n",
        "avg_f1 = sum(score['f1']) / len(score['f1'])\n",
        "avg_f1"
      ],
      "metadata": {
        "id": "S2-CFZ0X1ljj",
        "colab": {
          "base_uri": "https://localhost:8080/"
        },
        "outputId": "e6d6284b-728d-45a7-bbfc-27011de0a9b7"
      },
      "execution_count": null,
      "outputs": [
        {
          "output_type": "execute_result",
          "data": {
            "text/plain": [
              "0.5259339898824692"
            ]
          },
          "metadata": {},
          "execution_count": 32
        }
      ]
    },
    {
      "cell_type": "markdown",
      "source": [
        "**The BERT Score of Finetuned Mistral LLM is 0.53**\n"
      ],
      "metadata": {
        "id": "JPgLSo07YBo3"
      }
    },
    {
      "cell_type": "markdown",
      "source": [
        "# **Conclusion**"
      ],
      "metadata": {
        "id": "E_vdbuZ781RI"
      }
    },
    {
      "cell_type": "markdown",
      "source": [
        "**We observed a significant improvement in the BERTScore after fine-tuning the Mistral model, also an observation can be made on the Predicted Summaries**\n",
        "\n",
        "- Previously, the generated summaries of client interactions were overly verbose and lacked alignment with user preferences and domain-specific needs.\n",
        "- By fine-tuning a language model on task-relevant and insurance-specific communication data, we significantly improved the model's ability to generate concise, actionable, and context-aware summaries.\n",
        "- The fine-tuned model now produces outputs that are not only more relevant and structured but also tailored to user expectations, enhancing sales productivity and ensuring better client engagement in the insurance domain."
      ],
      "metadata": {
        "id": "5w_XdA-F8z7o"
      }
    },
    {
      "cell_type": "markdown",
      "metadata": {
        "id": "mfwgNZeOiRHT"
      },
      "source": [
        "<font size = 6 color=\"#4682B4\"><b> Power Ahead </font>\n",
        "___"
      ]
    }
  ]
}