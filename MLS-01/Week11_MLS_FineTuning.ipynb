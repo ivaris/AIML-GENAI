{
  "cells": [
    {
      "cell_type": "markdown",
      "metadata": {
        "id": "UmKLmjqmHMQM"
      },
      "source": [
        "<center><p float=\"center\">\n",
        "  <img src=\"https://upload.wikimedia.org/wikipedia/commons/e/e9/4_RGB_McCombs_School_Brand_Branded.png\" width=\"300\" height=\"100\"/>\n",
        "  <img src=\"https://mma.prnewswire.com/media/1458111/Great_Learning_Logo.jpg?p=facebook\" width=\"200\" height=\"100\"/>\n",
        "</p></center>\n",
        "\n",
        "<center><font size=10>Generative AI for Business Applications</center></font>\n",
        "<center><font size=6>Fine-Tunning LLMs - Week 1</center></font>"
      ]
    },
    {
      "cell_type": "markdown",
      "metadata": {
        "id": "azxWym9-HMpz"
      },
      "source": [
        "<center><p float=\"center\">\n",
        "  <img src=\"https://images.pexels.com/photos/5699431/pexels-photo-5699431.jpeg\" width=720></a>\n",
        "<center><font size=6>Fine-Tuned AI for Summarizing Medical Conversations</center></font>"
      ]
    },
    {
      "cell_type": "markdown",
      "metadata": {
        "id": "Aa1yXUesL7Zy"
      },
      "source": [
        "# **Problem Statement**"
      ]
    },
    {
      "cell_type": "markdown",
      "metadata": {
        "id": "zFN8LrodMR7w"
      },
      "source": [
        "## **Business Context**"
      ]
    },
    {
      "cell_type": "markdown",
      "metadata": {
        "id": "RVirgCoA7-yg"
      },
      "source": [
        "In today’s fast-paced healthcare environment, doctors often struggle with the time-consuming task of documenting patient consultations. These conversations are usually long, unstructured, and difficult to review later, which makes writing and editing notes a heavy burden. The inefficiencies carry over into follow-ups, as important details may be buried within lengthy transcripts. To address this challenge, a healthcare technology team is developing an LLM-powered assistant designed to streamline clinical documentation. This AI assistant will automatically generate structured summaries, highlight key patient details, and organize consultation notes for easy review. By applying this solution to real-world consultation data, the team aims to demonstrate how advanced language models can reduce administrative workload, minimize errors, and ultimately improve the quality of patient care."
      ]
    },
    {
      "cell_type": "markdown",
      "metadata": {
        "id": "qDG_248npouB"
      },
      "source": [
        "##  **Objective**"
      ]
    },
    {
      "cell_type": "markdown",
      "metadata": {
        "id": "_0tk7AzC8SpR"
      },
      "source": [
        "The goal is to develop an AI-powered system that demonstrates how Natural Language Processing (NLP) can support doctors by automatically generating clear and structured consultation notes from patient interactions.\n",
        "\n",
        "Specifically, the system aims to:\n",
        "\n",
        "* Capture patient concerns, including symptoms, medical history, and lifestyle factors.\n",
        "* Summarize the doctor’s findings and recommendations, such as diagnoses, prescriptions, tests, and follow-up actions.\n",
        "* Ensure that all notes maintain a consistent, professional clinical tone.\n",
        "* Improve accuracy and reliability by fine-tuning on domain-specific medical dialogues.\n",
        "\n",
        "This case study focuses on building a prototype that transforms unstructured doctor-patient conversations into concise, structured clinical summary. By doing so, it reduces the time spent on manual documentation, minimizes the risk of missed information, and enhances the overall quality of patient care.\n",
        "\n",
        "Through successful implementation, the organization seeks to reduce administrative workload, support more efficient follow-ups, and ultimately improve healthcare outcomes.\n"
      ]
    },
    {
      "cell_type": "markdown",
      "metadata": {
        "id": "IGxmR0XVwcAi"
      },
      "source": [
        "## **Data Description**"
      ]
    },
    {
      "cell_type": "markdown",
      "metadata": {
        "id": "QleaDsTqW7MC"
      },
      "source": [
        "The dataset is divided into three files: training, validation, and test. It consists of two primary columns:\n",
        "\n",
        "1. **Conversation** - Contains the raw transcripts of doctor-patient dialogues, which are often long and unstructured.\n",
        "\n",
        "2. **Summary** - Provides the corresponding concise and structured clinical summary, making it suitable for training supervised summarization models.\n"
      ]
    },
    {
      "cell_type": "markdown",
      "metadata": {
        "id": "lnwETBOE6Bz5"
      },
      "source": [
        "# **Installing and Importing Necessary Libraries**"
      ]
    },
    {
      "cell_type": "code",
      "execution_count": 1,
      "metadata": {
        "colab": {
          "base_uri": "https://localhost:8080/"
        },
        "id": "qa9hSbhM6MS-",
        "outputId": "6fc2eb5f-b09a-4318-fdd4-d73789a4cc02"
      },
      "outputs": [
        {
          "output_type": "stream",
          "name": "stdout",
          "text": [
            "Collecting bitsandbytes\n",
            "  Downloading bitsandbytes-0.48.1-py3-none-manylinux_2_24_x86_64.whl.metadata (10 kB)\n",
            "Requirement already satisfied: accelerate in /usr/local/lib/python3.12/dist-packages (1.10.1)\n",
            "Collecting xformers==0.0.32.post2\n",
            "  Downloading xformers-0.0.32.post2-cp39-abi3-manylinux_2_28_x86_64.whl.metadata (1.1 kB)\n",
            "Requirement already satisfied: peft in /usr/local/lib/python3.12/dist-packages (0.17.1)\n",
            "Collecting trl==0.15.2\n",
            "  Downloading trl-0.15.2-py3-none-any.whl.metadata (11 kB)\n",
            "Requirement already satisfied: triton in /usr/local/lib/python3.12/dist-packages (3.4.0)\n",
            "Collecting cut_cross_entropy\n",
            "  Downloading cut_cross_entropy-25.1.1-py3-none-any.whl.metadata (9.3 kB)\n",
            "Collecting unsloth_zoo\n",
            "  Downloading unsloth_zoo-2025.9.14-py3-none-any.whl.metadata (31 kB)\n",
            "Downloading xformers-0.0.32.post2-cp39-abi3-manylinux_2_28_x86_64.whl (117.2 MB)\n",
            "\u001b[2K   \u001b[90m━━━━━━━━━━━━━━━━━━━━━━━━━━━━━━━━━━━━━━━━\u001b[0m \u001b[32m117.2/117.2 MB\u001b[0m \u001b[31m6.9 MB/s\u001b[0m eta \u001b[36m0:00:00\u001b[0m\n",
            "\u001b[?25hDownloading trl-0.15.2-py3-none-any.whl (318 kB)\n",
            "\u001b[2K   \u001b[90m━━━━━━━━━━━━━━━━━━━━━━━━━━━━━━━━━━━━━━━━\u001b[0m \u001b[32m318.9/318.9 kB\u001b[0m \u001b[31m7.6 MB/s\u001b[0m eta \u001b[36m0:00:00\u001b[0m\n",
            "\u001b[?25hDownloading bitsandbytes-0.48.1-py3-none-manylinux_2_24_x86_64.whl (60.1 MB)\n",
            "\u001b[2K   \u001b[90m━━━━━━━━━━━━━━━━━━━━━━━━━━━━━━━━━━━━━━━━\u001b[0m \u001b[32m60.1/60.1 MB\u001b[0m \u001b[31m9.6 MB/s\u001b[0m eta \u001b[36m0:00:00\u001b[0m\n",
            "\u001b[?25hDownloading cut_cross_entropy-25.1.1-py3-none-any.whl (22 kB)\n",
            "Downloading unsloth_zoo-2025.9.14-py3-none-any.whl (256 kB)\n",
            "\u001b[2K   \u001b[90m━━━━━━━━━━━━━━━━━━━━━━━━━━━━━━━━━━━━━━━━\u001b[0m \u001b[32m256.5/256.5 kB\u001b[0m \u001b[31m9.7 MB/s\u001b[0m eta \u001b[36m0:00:00\u001b[0m\n",
            "\u001b[?25hInstalling collected packages: xformers, unsloth_zoo, trl, cut_cross_entropy, bitsandbytes\n",
            "Successfully installed bitsandbytes-0.48.1 cut_cross_entropy-25.1.1 trl-0.15.2 unsloth_zoo-2025.9.14 xformers-0.0.32.post2\n",
            "Requirement already satisfied: sentencepiece in /usr/local/lib/python3.12/dist-packages (0.2.1)\n",
            "Requirement already satisfied: protobuf in /usr/local/lib/python3.12/dist-packages (5.29.5)\n",
            "Requirement already satisfied: huggingface_hub in /usr/local/lib/python3.12/dist-packages (0.35.3)\n",
            "Requirement already satisfied: hf_transfer in /usr/local/lib/python3.12/dist-packages (0.1.9)\n",
            "Requirement already satisfied: filelock in /usr/local/lib/python3.12/dist-packages (from huggingface_hub) (3.19.1)\n",
            "Requirement already satisfied: fsspec>=2023.5.0 in /usr/local/lib/python3.12/dist-packages (from huggingface_hub) (2025.3.0)\n",
            "Requirement already satisfied: packaging>=20.9 in /usr/local/lib/python3.12/dist-packages (from huggingface_hub) (25.0)\n",
            "Requirement already satisfied: pyyaml>=5.1 in /usr/local/lib/python3.12/dist-packages (from huggingface_hub) (6.0.3)\n",
            "Requirement already satisfied: requests in /usr/local/lib/python3.12/dist-packages (from huggingface_hub) (2.32.4)\n",
            "Requirement already satisfied: tqdm>=4.42.1 in /usr/local/lib/python3.12/dist-packages (from huggingface_hub) (4.67.1)\n",
            "Requirement already satisfied: typing-extensions>=3.7.4.3 in /usr/local/lib/python3.12/dist-packages (from huggingface_hub) (4.15.0)\n",
            "Requirement already satisfied: hf-xet<2.0.0,>=1.1.3 in /usr/local/lib/python3.12/dist-packages (from huggingface_hub) (1.1.10)\n",
            "Requirement already satisfied: charset_normalizer<4,>=2 in /usr/local/lib/python3.12/dist-packages (from requests->huggingface_hub) (3.4.3)\n",
            "Requirement already satisfied: idna<4,>=2.5 in /usr/local/lib/python3.12/dist-packages (from requests->huggingface_hub) (3.10)\n",
            "Requirement already satisfied: urllib3<3,>=1.21.1 in /usr/local/lib/python3.12/dist-packages (from requests->huggingface_hub) (2.5.0)\n",
            "Requirement already satisfied: certifi>=2017.4.17 in /usr/local/lib/python3.12/dist-packages (from requests->huggingface_hub) (2025.8.3)\n",
            "Collecting transformers==4.51.3\n",
            "  Downloading transformers-4.51.3-py3-none-any.whl.metadata (38 kB)\n",
            "Requirement already satisfied: filelock in /usr/local/lib/python3.12/dist-packages (from transformers==4.51.3) (3.19.1)\n",
            "Requirement already satisfied: huggingface-hub<1.0,>=0.30.0 in /usr/local/lib/python3.12/dist-packages (from transformers==4.51.3) (0.35.3)\n",
            "Requirement already satisfied: numpy>=1.17 in /usr/local/lib/python3.12/dist-packages (from transformers==4.51.3) (2.0.2)\n",
            "Requirement already satisfied: packaging>=20.0 in /usr/local/lib/python3.12/dist-packages (from transformers==4.51.3) (25.0)\n",
            "Requirement already satisfied: pyyaml>=5.1 in /usr/local/lib/python3.12/dist-packages (from transformers==4.51.3) (6.0.3)\n",
            "Requirement already satisfied: regex!=2019.12.17 in /usr/local/lib/python3.12/dist-packages (from transformers==4.51.3) (2024.11.6)\n",
            "Requirement already satisfied: requests in /usr/local/lib/python3.12/dist-packages (from transformers==4.51.3) (2.32.4)\n",
            "Collecting tokenizers<0.22,>=0.21 (from transformers==4.51.3)\n",
            "  Downloading tokenizers-0.21.4-cp39-abi3-manylinux_2_17_x86_64.manylinux2014_x86_64.whl.metadata (6.7 kB)\n",
            "Requirement already satisfied: safetensors>=0.4.3 in /usr/local/lib/python3.12/dist-packages (from transformers==4.51.3) (0.6.2)\n",
            "Requirement already satisfied: tqdm>=4.27 in /usr/local/lib/python3.12/dist-packages (from transformers==4.51.3) (4.67.1)\n",
            "Requirement already satisfied: fsspec>=2023.5.0 in /usr/local/lib/python3.12/dist-packages (from huggingface-hub<1.0,>=0.30.0->transformers==4.51.3) (2025.3.0)\n",
            "Requirement already satisfied: typing-extensions>=3.7.4.3 in /usr/local/lib/python3.12/dist-packages (from huggingface-hub<1.0,>=0.30.0->transformers==4.51.3) (4.15.0)\n",
            "Requirement already satisfied: hf-xet<2.0.0,>=1.1.3 in /usr/local/lib/python3.12/dist-packages (from huggingface-hub<1.0,>=0.30.0->transformers==4.51.3) (1.1.10)\n",
            "Requirement already satisfied: charset_normalizer<4,>=2 in /usr/local/lib/python3.12/dist-packages (from requests->transformers==4.51.3) (3.4.3)\n",
            "Requirement already satisfied: idna<4,>=2.5 in /usr/local/lib/python3.12/dist-packages (from requests->transformers==4.51.3) (3.10)\n",
            "Requirement already satisfied: urllib3<3,>=1.21.1 in /usr/local/lib/python3.12/dist-packages (from requests->transformers==4.51.3) (2.5.0)\n",
            "Requirement already satisfied: certifi>=2017.4.17 in /usr/local/lib/python3.12/dist-packages (from requests->transformers==4.51.3) (2025.8.3)\n",
            "Downloading transformers-4.51.3-py3-none-any.whl (10.4 MB)\n",
            "\u001b[2K   \u001b[90m━━━━━━━━━━━━━━━━━━━━━━━━━━━━━━━━━━━━━━━━\u001b[0m \u001b[32m10.4/10.4 MB\u001b[0m \u001b[31m46.8 MB/s\u001b[0m eta \u001b[36m0:00:00\u001b[0m\n",
            "\u001b[?25hDownloading tokenizers-0.21.4-cp39-abi3-manylinux_2_17_x86_64.manylinux2014_x86_64.whl (3.1 MB)\n",
            "\u001b[2K   \u001b[90m━━━━━━━━━━━━━━━━━━━━━━━━━━━━━━━━━━━━━━━━\u001b[0m \u001b[32m3.1/3.1 MB\u001b[0m \u001b[31m54.1 MB/s\u001b[0m eta \u001b[36m0:00:00\u001b[0m\n",
            "\u001b[?25hInstalling collected packages: tokenizers, transformers\n",
            "  Attempting uninstall: tokenizers\n",
            "    Found existing installation: tokenizers 0.22.1\n",
            "    Uninstalling tokenizers-0.22.1:\n",
            "      Successfully uninstalled tokenizers-0.22.1\n",
            "  Attempting uninstall: transformers\n",
            "    Found existing installation: transformers 4.56.2\n",
            "    Uninstalling transformers-4.56.2:\n",
            "      Successfully uninstalled transformers-4.56.2\n",
            "\u001b[31mERROR: pip's dependency resolver does not currently take into account all the packages that are installed. This behaviour is the source of the following dependency conflicts.\n",
            "unsloth-zoo 2025.9.14 requires msgspec, which is not installed.\n",
            "unsloth-zoo 2025.9.14 requires tyro, which is not installed.\n",
            "unsloth-zoo 2025.9.14 requires datasets!=4.0.*,!=4.1.0,>=3.4.1, but you have datasets 4.0.0 which is incompatible.\u001b[0m\u001b[31m\n",
            "\u001b[0mSuccessfully installed tokenizers-0.21.4 transformers-4.51.3\n",
            "Collecting unsloth\n",
            "  Downloading unsloth-2025.9.11-py3-none-any.whl.metadata (55 kB)\n",
            "\u001b[2K     \u001b[90m━━━━━━━━━━━━━━━━━━━━━━━━━━━━━━━━━━━━━━━━\u001b[0m \u001b[32m55.1/55.1 kB\u001b[0m \u001b[31m2.2 MB/s\u001b[0m eta \u001b[36m0:00:00\u001b[0m\n",
            "\u001b[?25hDownloading unsloth-2025.9.11-py3-none-any.whl (317 kB)\n",
            "\u001b[2K   \u001b[90m━━━━━━━━━━━━━━━━━━━━━━━━━━━━━━━━━━━━━━━━\u001b[0m \u001b[32m317.5/317.5 kB\u001b[0m \u001b[31m9.3 MB/s\u001b[0m eta \u001b[36m0:00:00\u001b[0m\n",
            "\u001b[?25hInstalling collected packages: unsloth\n",
            "Successfully installed unsloth-2025.9.11\n",
            "\u001b[2K   \u001b[90m━━━━━━━━━━━━━━━━━━━━━━━━━━━━━━━━━━━━━━━━\u001b[0m \u001b[32m84.1/84.1 kB\u001b[0m \u001b[31m3.2 MB/s\u001b[0m eta \u001b[36m0:00:00\u001b[0m\n",
            "\u001b[2K   \u001b[90m━━━━━━━━━━━━━━━━━━━━━━━━━━━━━━━━━━━━━━━━\u001b[0m \u001b[32m61.1/61.1 kB\u001b[0m \u001b[31m4.6 MB/s\u001b[0m eta \u001b[36m0:00:00\u001b[0m\n",
            "\u001b[?25h"
          ]
        }
      ],
      "source": [
        "%pip install --no-deps bitsandbytes accelerate xformers==0.0.32.post2 peft trl==0.15.2 triton cut_cross_entropy unsloth_zoo\n",
        "%pip install sentencepiece protobuf huggingface_hub hf_transfer\n",
        "%pip install transformers==4.51.3\n",
        "%pip install --no-deps unsloth\n",
        "%pip install -q datasets evaluate bert-score"
      ]
    },
    {
      "cell_type": "markdown",
      "metadata": {
        "id": "mDp-EYZH-69E"
      },
      "source": [
        "**Note**:\n",
        "- After running the above cell, kindly restart the runtime (for Google Colab) or notebook kernel (for Jupyter Notebook), and run all cells sequentially from the next cell.\n",
        "- On executing the above line of code, you might see a warning regarding package dependencies. This error message can be ignored as the above code ensures that all necessary libraries and their dependencies are maintained to successfully execute the code in ***this notebook***."
      ]
    },
    {
      "cell_type": "code",
      "execution_count": 2,
      "metadata": {
        "colab": {
          "base_uri": "https://localhost:8080/"
        },
        "id": "tgtsNS-UrQg9",
        "outputId": "2e4755a8-22f4-4b86-a6ed-d8e3e830d872"
      },
      "outputs": [
        {
          "output_type": "stream",
          "name": "stdout",
          "text": [
            "🦥 Unsloth: Will patch your computer to enable 2x faster free finetuning.\n",
            "🦥 Unsloth Zoo will now patch everything to make training faster!\n"
          ]
        }
      ],
      "source": [
        "from unsloth import FastLanguageModel\n",
        "import torch\n",
        "import evaluate\n",
        "from tqdm import tqdm\n",
        "import pandas as pd\n",
        "from datasets import Dataset\n",
        "\n",
        "from trl import SFTTrainer\n",
        "from transformers import TrainingArguments, EarlyStoppingCallback, DataCollatorForSeq2Seq\n",
        "from unsloth import is_bfloat16_supported"
      ]
    },
    {
      "cell_type": "markdown",
      "metadata": {
        "id": "YhyMoqjoq48A"
      },
      "source": [
        "# **1. Evaluation of LLM before FineTuning**"
      ]
    },
    {
      "cell_type": "markdown",
      "metadata": {
        "id": "cNcxHGuc5Jj2"
      },
      "source": [
        "Before investing time and resources in fine-tuning, it is important to measure **how well the base model performs \"as is.\"**\n",
        "This gives us a baseline score, which we will later compare against fine-tuned performance to demonstrate improvement."
      ]
    },
    {
      "cell_type": "markdown",
      "metadata": {
        "id": "Vp4LNGG30e8w"
      },
      "source": [
        "### **Loading the Testing Data**\n"
      ]
    },
    {
      "cell_type": "code",
      "execution_count": 10,
      "metadata": {
        "id": "Qn9T8qBZ5dQ1",
        "colab": {
          "base_uri": "https://localhost:8080/",
          "height": 401
        },
        "outputId": "9af5b6d9-bf1e-4262-b0e3-c581c61631e1"
      },
      "outputs": [
        {
          "output_type": "error",
          "ename": "FileNotFoundError",
          "evalue": "[Errno 2] No such file or directory: 'finetuning_medical_testing.csv'",
          "traceback": [
            "\u001b[0;31m---------------------------------------------------------------------------\u001b[0m",
            "\u001b[0;31mFileNotFoundError\u001b[0m                         Traceback (most recent call last)",
            "\u001b[0;32m/tmp/ipython-input-2652738236.py\u001b[0m in \u001b[0;36m<cell line: 0>\u001b[0;34m()\u001b[0m\n\u001b[0;32m----> 1\u001b[0;31m \u001b[0mtesting_data\u001b[0m \u001b[0;34m=\u001b[0m \u001b[0mpd\u001b[0m\u001b[0;34m.\u001b[0m\u001b[0mread_csv\u001b[0m\u001b[0;34m(\u001b[0m\u001b[0;34m\"finetuning_medical_testing.csv\"\u001b[0m\u001b[0;34m)\u001b[0m           \u001b[0;31m# Load medical test dataset containing dialogues and gold summaries\u001b[0m\u001b[0;34m\u001b[0m\u001b[0;34m\u001b[0m\u001b[0m\n\u001b[0m\u001b[1;32m      2\u001b[0m \u001b[0;34m\u001b[0m\u001b[0m\n\u001b[1;32m      3\u001b[0m \u001b[0mtest_dialogues\u001b[0m \u001b[0;34m=\u001b[0m \u001b[0mtesting_data\u001b[0m\u001b[0;34m[\u001b[0m\u001b[0;34m'conversation'\u001b[0m\u001b[0;34m]\u001b[0m\u001b[0;34m.\u001b[0m\u001b[0mtolist\u001b[0m\u001b[0;34m(\u001b[0m\u001b[0;34m)\u001b[0m                          \u001b[0;31m# dialogues (inputs)\u001b[0m\u001b[0;34m\u001b[0m\u001b[0;34m\u001b[0m\u001b[0m\n\u001b[1;32m      4\u001b[0m \u001b[0mtest_summaries\u001b[0m \u001b[0;34m=\u001b[0m \u001b[0mtesting_data\u001b[0m\u001b[0;34m[\u001b[0m\u001b[0;34m'summary'\u001b[0m\u001b[0;34m]\u001b[0m\u001b[0;34m.\u001b[0m\u001b[0mtolist\u001b[0m\u001b[0;34m(\u001b[0m\u001b[0;34m)\u001b[0m                               \u001b[0;31m# human-written summaries (ground truth)\u001b[0m\u001b[0;34m\u001b[0m\u001b[0;34m\u001b[0m\u001b[0m\n",
            "\u001b[0;32m/usr/local/lib/python3.12/dist-packages/pandas/io/parsers/readers.py\u001b[0m in \u001b[0;36mread_csv\u001b[0;34m(filepath_or_buffer, sep, delimiter, header, names, index_col, usecols, dtype, engine, converters, true_values, false_values, skipinitialspace, skiprows, skipfooter, nrows, na_values, keep_default_na, na_filter, verbose, skip_blank_lines, parse_dates, infer_datetime_format, keep_date_col, date_parser, date_format, dayfirst, cache_dates, iterator, chunksize, compression, thousands, decimal, lineterminator, quotechar, quoting, doublequote, escapechar, comment, encoding, encoding_errors, dialect, on_bad_lines, delim_whitespace, low_memory, memory_map, float_precision, storage_options, dtype_backend)\u001b[0m\n\u001b[1;32m   1024\u001b[0m     \u001b[0mkwds\u001b[0m\u001b[0;34m.\u001b[0m\u001b[0mupdate\u001b[0m\u001b[0;34m(\u001b[0m\u001b[0mkwds_defaults\u001b[0m\u001b[0;34m)\u001b[0m\u001b[0;34m\u001b[0m\u001b[0;34m\u001b[0m\u001b[0m\n\u001b[1;32m   1025\u001b[0m \u001b[0;34m\u001b[0m\u001b[0m\n\u001b[0;32m-> 1026\u001b[0;31m     \u001b[0;32mreturn\u001b[0m \u001b[0m_read\u001b[0m\u001b[0;34m(\u001b[0m\u001b[0mfilepath_or_buffer\u001b[0m\u001b[0;34m,\u001b[0m \u001b[0mkwds\u001b[0m\u001b[0;34m)\u001b[0m\u001b[0;34m\u001b[0m\u001b[0;34m\u001b[0m\u001b[0m\n\u001b[0m\u001b[1;32m   1027\u001b[0m \u001b[0;34m\u001b[0m\u001b[0m\n\u001b[1;32m   1028\u001b[0m \u001b[0;34m\u001b[0m\u001b[0m\n",
            "\u001b[0;32m/usr/local/lib/python3.12/dist-packages/pandas/io/parsers/readers.py\u001b[0m in \u001b[0;36m_read\u001b[0;34m(filepath_or_buffer, kwds)\u001b[0m\n\u001b[1;32m    618\u001b[0m \u001b[0;34m\u001b[0m\u001b[0m\n\u001b[1;32m    619\u001b[0m     \u001b[0;31m# Create the parser.\u001b[0m\u001b[0;34m\u001b[0m\u001b[0;34m\u001b[0m\u001b[0m\n\u001b[0;32m--> 620\u001b[0;31m     \u001b[0mparser\u001b[0m \u001b[0;34m=\u001b[0m \u001b[0mTextFileReader\u001b[0m\u001b[0;34m(\u001b[0m\u001b[0mfilepath_or_buffer\u001b[0m\u001b[0;34m,\u001b[0m \u001b[0;34m**\u001b[0m\u001b[0mkwds\u001b[0m\u001b[0;34m)\u001b[0m\u001b[0;34m\u001b[0m\u001b[0;34m\u001b[0m\u001b[0m\n\u001b[0m\u001b[1;32m    621\u001b[0m \u001b[0;34m\u001b[0m\u001b[0m\n\u001b[1;32m    622\u001b[0m     \u001b[0;32mif\u001b[0m \u001b[0mchunksize\u001b[0m \u001b[0;32mor\u001b[0m \u001b[0miterator\u001b[0m\u001b[0;34m:\u001b[0m\u001b[0;34m\u001b[0m\u001b[0;34m\u001b[0m\u001b[0m\n",
            "\u001b[0;32m/usr/local/lib/python3.12/dist-packages/pandas/io/parsers/readers.py\u001b[0m in \u001b[0;36m__init__\u001b[0;34m(self, f, engine, **kwds)\u001b[0m\n\u001b[1;32m   1618\u001b[0m \u001b[0;34m\u001b[0m\u001b[0m\n\u001b[1;32m   1619\u001b[0m         \u001b[0mself\u001b[0m\u001b[0;34m.\u001b[0m\u001b[0mhandles\u001b[0m\u001b[0;34m:\u001b[0m \u001b[0mIOHandles\u001b[0m \u001b[0;34m|\u001b[0m \u001b[0;32mNone\u001b[0m \u001b[0;34m=\u001b[0m \u001b[0;32mNone\u001b[0m\u001b[0;34m\u001b[0m\u001b[0;34m\u001b[0m\u001b[0m\n\u001b[0;32m-> 1620\u001b[0;31m         \u001b[0mself\u001b[0m\u001b[0;34m.\u001b[0m\u001b[0m_engine\u001b[0m \u001b[0;34m=\u001b[0m \u001b[0mself\u001b[0m\u001b[0;34m.\u001b[0m\u001b[0m_make_engine\u001b[0m\u001b[0;34m(\u001b[0m\u001b[0mf\u001b[0m\u001b[0;34m,\u001b[0m \u001b[0mself\u001b[0m\u001b[0;34m.\u001b[0m\u001b[0mengine\u001b[0m\u001b[0;34m)\u001b[0m\u001b[0;34m\u001b[0m\u001b[0;34m\u001b[0m\u001b[0m\n\u001b[0m\u001b[1;32m   1621\u001b[0m \u001b[0;34m\u001b[0m\u001b[0m\n\u001b[1;32m   1622\u001b[0m     \u001b[0;32mdef\u001b[0m \u001b[0mclose\u001b[0m\u001b[0;34m(\u001b[0m\u001b[0mself\u001b[0m\u001b[0;34m)\u001b[0m \u001b[0;34m->\u001b[0m \u001b[0;32mNone\u001b[0m\u001b[0;34m:\u001b[0m\u001b[0;34m\u001b[0m\u001b[0;34m\u001b[0m\u001b[0m\n",
            "\u001b[0;32m/usr/local/lib/python3.12/dist-packages/pandas/io/parsers/readers.py\u001b[0m in \u001b[0;36m_make_engine\u001b[0;34m(self, f, engine)\u001b[0m\n\u001b[1;32m   1878\u001b[0m                 \u001b[0;32mif\u001b[0m \u001b[0;34m\"b\"\u001b[0m \u001b[0;32mnot\u001b[0m \u001b[0;32min\u001b[0m \u001b[0mmode\u001b[0m\u001b[0;34m:\u001b[0m\u001b[0;34m\u001b[0m\u001b[0;34m\u001b[0m\u001b[0m\n\u001b[1;32m   1879\u001b[0m                     \u001b[0mmode\u001b[0m \u001b[0;34m+=\u001b[0m \u001b[0;34m\"b\"\u001b[0m\u001b[0;34m\u001b[0m\u001b[0;34m\u001b[0m\u001b[0m\n\u001b[0;32m-> 1880\u001b[0;31m             self.handles = get_handle(\n\u001b[0m\u001b[1;32m   1881\u001b[0m                 \u001b[0mf\u001b[0m\u001b[0;34m,\u001b[0m\u001b[0;34m\u001b[0m\u001b[0;34m\u001b[0m\u001b[0m\n\u001b[1;32m   1882\u001b[0m                 \u001b[0mmode\u001b[0m\u001b[0;34m,\u001b[0m\u001b[0;34m\u001b[0m\u001b[0;34m\u001b[0m\u001b[0m\n",
            "\u001b[0;32m/usr/local/lib/python3.12/dist-packages/pandas/io/common.py\u001b[0m in \u001b[0;36mget_handle\u001b[0;34m(path_or_buf, mode, encoding, compression, memory_map, is_text, errors, storage_options)\u001b[0m\n\u001b[1;32m    871\u001b[0m         \u001b[0;32mif\u001b[0m \u001b[0mioargs\u001b[0m\u001b[0;34m.\u001b[0m\u001b[0mencoding\u001b[0m \u001b[0;32mand\u001b[0m \u001b[0;34m\"b\"\u001b[0m \u001b[0;32mnot\u001b[0m \u001b[0;32min\u001b[0m \u001b[0mioargs\u001b[0m\u001b[0;34m.\u001b[0m\u001b[0mmode\u001b[0m\u001b[0;34m:\u001b[0m\u001b[0;34m\u001b[0m\u001b[0;34m\u001b[0m\u001b[0m\n\u001b[1;32m    872\u001b[0m             \u001b[0;31m# Encoding\u001b[0m\u001b[0;34m\u001b[0m\u001b[0;34m\u001b[0m\u001b[0m\n\u001b[0;32m--> 873\u001b[0;31m             handle = open(\n\u001b[0m\u001b[1;32m    874\u001b[0m                 \u001b[0mhandle\u001b[0m\u001b[0;34m,\u001b[0m\u001b[0;34m\u001b[0m\u001b[0;34m\u001b[0m\u001b[0m\n\u001b[1;32m    875\u001b[0m                 \u001b[0mioargs\u001b[0m\u001b[0;34m.\u001b[0m\u001b[0mmode\u001b[0m\u001b[0;34m,\u001b[0m\u001b[0;34m\u001b[0m\u001b[0;34m\u001b[0m\u001b[0m\n",
            "\u001b[0;31mFileNotFoundError\u001b[0m: [Errno 2] No such file or directory: 'finetuning_medical_testing.csv'"
          ]
        }
      ],
      "source": [
        "testing_data = pd.read_csv(\"finetuning_medical_testing.csv\")           # Load medical test dataset containing dialogues and gold summaries\n",
        "\n",
        "test_dialogues = testing_data['conversation'].tolist()                          # dialogues (inputs)\n",
        "test_summaries = testing_data['summary'].tolist()                               # human-written summaries (ground truth)"
      ]
    },
    {
      "cell_type": "markdown",
      "metadata": {
        "id": "mHaWozqI0hmW"
      },
      "source": [
        "### **Loading the Mistral Model**"
      ]
    },
    {
      "cell_type": "markdown",
      "metadata": {
        "id": "sAdPYzVx9aaB"
      },
      "source": [
        "We use the **Mistral-7B Instruct model** (7 billion parameter model optimized for instructions).\n",
        "It is loaded with **4-bit quantization** - meaning it runs efficiently on limited GPU memory without losing much accuracy.\n"
      ]
    },
    {
      "cell_type": "code",
      "execution_count": null,
      "metadata": {
        "id": "HZWyFbFXsn_D"
      },
      "outputs": [],
      "source": [
        "# Load the instruction-tuned Mistral 7B model with 4-bit quantization\n",
        "model, tokenizer = FastLanguageModel.from_pretrained(\n",
        "    model_name=\"unsloth/mistral-7b-instruct-v0.2-bnb-4bit\",                     # model name\n",
        "    max_seq_length=4096,                                                        # maximum sequence length\n",
        "    dtype=None,                                                                 # auto-select data type\n",
        "    load_in_4bit=True                                                           # load in 4-bit for memory efficiency\n",
        ")"
      ]
    },
    {
      "cell_type": "code",
      "execution_count": null,
      "metadata": {
        "id": "N3VYp0p7C794"
      },
      "outputs": [],
      "source": [
        "FastLanguageModel.for_inference(model)"
      ]
    },
    {
      "cell_type": "markdown",
      "metadata": {
        "id": "b9sW9YYntYcs"
      },
      "source": [
        "### **Generate Summaries**\n"
      ]
    },
    {
      "cell_type": "markdown",
      "metadata": {
        "id": "E9GsCYhGB1EL"
      },
      "source": [
        "We now ask the model to summarize dialogues **without any fine-tuning**.\n",
        "A custom prompt template is used to ensure the model follows instructions consistently."
      ]
    },
    {
      "cell_type": "code",
      "execution_count": null,
      "metadata": {
        "id": "PHaAlmvZfTEp"
      },
      "outputs": [],
      "source": [
        "alpaca_prompt_template = \"\"\"Below is an instruction that describes a task, paired with an input that provides further context. Write a response that appropriately completes the request.\n",
        "\n",
        "### Instruction:\n",
        "Write a concise summary of the following dialogue.\n",
        "\n",
        "### Input:\n",
        "{}\n",
        "\n",
        "### Response:\n",
        "{}\n",
        "\"\"\""
      ]
    },
    {
      "cell_type": "markdown",
      "metadata": {
        "id": "5KLaPzHSUjIs"
      },
      "source": [
        "We will create a function to manage the entire prediction process, which includes the following steps:\n",
        "1. Structure the Prompt\n",
        "2. Tokenize the Prompt\n",
        "3. Generate the Output from Tokens\n",
        "4. Decode the Generated Output\n",
        "\n",
        "This function allows us to avoid code repetition and streamline the process. Whenever we need to test a model, we can simply call this function instead of rewriting these steps each time.\n"
      ]
    },
    {
      "cell_type": "code",
      "execution_count": null,
      "metadata": {
        "id": "v5veapxHUcGO"
      },
      "outputs": [],
      "source": [
        "def generate_summaries(dialogues, model, tokenizer, prompt_template, max_new_tokens=100):\n",
        "    summaries = []\n",
        "\n",
        "    for dialogue in dialogues:\n",
        "        # create a prompt for the dialogue\n",
        "        prompt = prompt_template.format(dialogue,\" \")\n",
        "\n",
        "        # tokenize the prompt\n",
        "        inputs = tokenizer(prompt, return_tensors=\"pt\").to(model.device)\n",
        "\n",
        "        # generate the output\n",
        "        outputs = model.generate(**inputs,\n",
        "                                 max_new_tokens=max_new_tokens,\n",
        "                                 pad_token_id=tokenizer.eos_token_id\n",
        "                                 )\n",
        "\n",
        "        # decode: skip input tokens, keep only generated part\n",
        "        input_len = inputs[\"input_ids\"].shape[-1]\n",
        "        summary = tokenizer.decode(outputs[0][input_len:],\n",
        "                                   skip_special_tokens=True,\n",
        "                                   cleanup_tokenization_spaces=True\n",
        "                                   )\n",
        "\n",
        "        summaries.append(summary.strip())\n",
        "\n",
        "    return summaries"
      ]
    },
    {
      "cell_type": "code",
      "execution_count": null,
      "metadata": {
        "id": "9nJPYlXZSx80"
      },
      "outputs": [],
      "source": [
        "# Calling the function to generate summaries\n",
        "predicted_summaries = generate_summaries(dialogues=test_dialogues,\n",
        "                                         model=model,\n",
        "                                         tokenizer=tokenizer,\n",
        "                                         prompt_template=alpaca_prompt_template\n",
        "                                         )"
      ]
    },
    {
      "cell_type": "markdown",
      "metadata": {
        "id": "kC8DIfb80ULd"
      },
      "source": [
        "### **Evaluate Using BERTScore**\n"
      ]
    },
    {
      "cell_type": "markdown",
      "metadata": {
        "id": "FLHAna-S78Li"
      },
      "source": [
        "**BERTScore** is an evaluation metric for text generation tasks such as summarization, translation, and captioning. Unlike traditional metrics like ROUGE or BLEU that rely on exact word overlaps, BERTScore uses embeddings from a pre-trained BERT model to measure **semantic similarity** between the generated text (predictions) and the human-written text (references). This makes it more robust in capturing meaning, even when different words are used.\n",
        "\n",
        "* **Precision** - Measures how much of the content in the generated text is actually relevant to the reference. A high precision means the model is not adding irrelevant or “extra” information.\n",
        "\n",
        "* **Recall** - Measures how much of the important content from the reference is captured by the generated text. A high recall means the model covers most of the key points, even if it includes some extra details.\n",
        "\n",
        "* **F1 Score** - Combines both precision and recall into a balanced score. It shows how well the generated text both *covers the important content* and *stays relevant*. This is usually reported as the main metric for BERTScore.\n",
        "\n",
        "In short, BERTScore helps evaluate not just word matching but whether the **meaning** of the generated text aligns with the reference.\n"
      ]
    },
    {
      "cell_type": "code",
      "execution_count": null,
      "metadata": {
        "id": "Z8KBgaUXDrY2"
      },
      "outputs": [],
      "source": [
        "bert_scorer = evaluate.load(\"bertscore\")                                        # Load BERTScore evaluation metric\n",
        "\n",
        "score = bert_scorer.compute(                                                    # Compute BERTScore between generated summaries and gold references\n",
        "    predictions=predicted_summaries,                                            # model-generated summaries\n",
        "    references=test_summaries,                                                  # ground-truth summaries\n",
        "    lang='en',                                                                  # language\n",
        "    rescale_with_baseline=True                                                  # normalize scores for fair comparison\n",
        ")\n",
        "\n",
        "\n",
        "baseline_score = sum(score['f1']) / len(score['f1'])                            # Compute the average F1 score across test set\n",
        "print(baseline_score)                                                           # Print the average F1 score"
      ]
    },
    {
      "cell_type": "markdown",
      "metadata": {
        "id": "tvZ1hPLCWwYt"
      },
      "source": [
        "**The BERT Score of Mistral LLM is 0.37**\n"
      ]
    },
    {
      "cell_type": "markdown",
      "metadata": {
        "id": "AFBNy7vSq42O"
      },
      "source": [
        "# **2. FineTuning an LLM**"
      ]
    },
    {
      "cell_type": "markdown",
      "metadata": {
        "id": "KEU3wx8jFUKP"
      },
      "source": [
        "Now that we have measured the **baseline performance** of the Mistral-7B model, the next step is to **fine-tune the model on our medical dataset.**\n",
        "\n",
        "Fine-tuning helps the model specialize in summarizing medical dialogues, improving relevance and accuracy beyond its general-purpose training."
      ]
    },
    {
      "cell_type": "markdown",
      "metadata": {
        "id": "Km_LXL5DaGBO"
      },
      "source": [
        "### **Load and Prepare Training Data**"
      ]
    },
    {
      "cell_type": "markdown",
      "metadata": {
        "id": "xrek6S-FFlPg"
      },
      "source": [
        "We begin with the **training dataset**, which contains doctor-patient conversations paired with gold-standard summaries.\n",
        "\n",
        "We then convert the dataset into a Hugging Face `Dataset` format for efficient handling."
      ]
    },
    {
      "cell_type": "code",
      "execution_count": null,
      "metadata": {
        "id": "EjytqCN7rMBu"
      },
      "outputs": [],
      "source": [
        "# Load training dataset\n",
        "training = pd.read_csv(\"/content/finetuning_medical_training.csv\")\n",
        "training_dict = training.to_dict(orient='list')\n",
        "\n",
        "# Create a dataset from the dictionary\n",
        "training_dataset = Dataset.from_dict(training_dict)"
      ]
    },
    {
      "cell_type": "code",
      "execution_count": null,
      "metadata": {
        "id": "pOAzduah_e_z"
      },
      "outputs": [],
      "source": [
        "# Instruction-tuned prompt template for summarization\n",
        "alpaca_prompt = \"\"\"Below is an instruction that describes a task, paired with an input that provides further context. Write a response that appropriately completes the request.\n",
        "\n",
        "### Instruction:\n",
        "{}\n",
        "\n",
        "### Input:\n",
        "{}\n",
        "\n",
        "### Response:\n",
        "{}\"\"\""
      ]
    },
    {
      "cell_type": "markdown",
      "metadata": {
        "id": "w-V22ZR9Hl0V"
      },
      "source": [
        "To make training effective, we format each example into this structure and append an EOS token to clearly signal the end of the response."
      ]
    },
    {
      "cell_type": "code",
      "execution_count": null,
      "metadata": {
        "id": "_TURs0KUrL9v"
      },
      "outputs": [],
      "source": [
        "EOS_TOKEN = tokenizer.eos_token"
      ]
    },
    {
      "cell_type": "code",
      "execution_count": null,
      "metadata": {
        "id": "v0sjC8_Y_e9j"
      },
      "outputs": [],
      "source": [
        "# Format each training example into the Alpaca prompt structure\n",
        "def prompt_formatter(example, prompt_template):\n",
        "    instruction='Write a concise summary of the following dialogue.'\n",
        "    dialogue=example[\"conversation\"]\n",
        "    summary=example[\"summary\"]\n",
        "\n",
        "    formatted_prompt = prompt_template.format(instruction, dialogue, summary) + EOS_TOKEN\n",
        "\n",
        "    return {'text': formatted_prompt}"
      ]
    },
    {
      "cell_type": "code",
      "execution_count": null,
      "metadata": {
        "id": "V74wlPa7_e71"
      },
      "outputs": [],
      "source": [
        "# Apply formatting to training dataset\n",
        "formatted_training_dataset = training_dataset.map(\n",
        "    prompt_formatter,\n",
        "    fn_kwargs={'prompt_template': alpaca_prompt}\n",
        ")"
      ]
    },
    {
      "cell_type": "markdown",
      "metadata": {
        "id": "mChybNltH-1-"
      },
      "source": [
        "### **Load and Prepare Validation Data**"
      ]
    },
    {
      "cell_type": "markdown",
      "metadata": {
        "id": "_j9eElqCID_R"
      },
      "source": [
        "We also prepare a **validation dataset** (unseen during training).\n",
        "This allows us to track the model's progress and prevent overfitting."
      ]
    },
    {
      "cell_type": "code",
      "execution_count": null,
      "metadata": {
        "id": "jvnCfQ9I_e5F"
      },
      "outputs": [],
      "source": [
        "# Load validation dataset\n",
        "validation=pd.read_csv(\"/content/finetuning_medical_validation.csv\")\n",
        "validation_dict =validation.to_dict(orient='list')\n",
        "\n",
        "# Create a dataset from the dictionary\n",
        "validation_dataset = Dataset.from_dict(validation_dict)"
      ]
    },
    {
      "cell_type": "code",
      "execution_count": null,
      "metadata": {
        "id": "U2wTZleC_e2a"
      },
      "outputs": [],
      "source": [
        "# Apply formatting to training dataset\n",
        "formatted_validation_dataset = validation_dataset.map(\n",
        "    prompt_formatter,\n",
        "    fn_kwargs={'prompt_template': alpaca_prompt}\n",
        ")"
      ]
    },
    {
      "cell_type": "markdown",
      "metadata": {
        "id": "wCmKWuZkBzzR"
      },
      "source": [
        "### **Apply Parameter-Efficient Fine-Tuning (LoRA)**"
      ]
    },
    {
      "cell_type": "markdown",
      "metadata": {
        "id": "AYRXt6WZBzlO"
      },
      "source": [
        "We now patch in the adapter modules to the base model using the `get_peft_model` method."
      ]
    },
    {
      "cell_type": "code",
      "execution_count": null,
      "metadata": {
        "id": "gnIsofeq_e0B"
      },
      "outputs": [],
      "source": [
        "# Apply LoRA fine-tuning (PEFT) to the base model\n",
        "model = FastLanguageModel.get_peft_model(\n",
        "    model,                                                                      # base model to fine-tune\n",
        "    r=16,                                                                       # rank of LoRA matrices\n",
        "    lora_alpha=16,                                                              # scaling factor for LoRA updates\n",
        "    lora_dropout=0,                                                             # dropout (0 means no dropout)\n",
        "    bias=\"none\",                                                                # don't fine-tune bias terms\n",
        "    target_modules=[                                                            # layers where LoRA is applied\n",
        "        \"q_proj\", \"k_proj\", \"v_proj\", \"o_proj\",\n",
        "        \"gate_proj\", \"up_proj\", \"down_proj\"\n",
        "    ],\n",
        "    use_gradient_checkpointing=True,                                            # saves memory by recomputing activations\n",
        "    random_state=42,                                                            # reproducibility\n",
        "    loftq_config=None                                                           # not using LoFTQ quantization here\n",
        ")"
      ]
    },
    {
      "cell_type": "markdown",
      "metadata": {
        "id": "HQHqCggd2jYh"
      },
      "source": [
        "First, we load the model using `FastLanguageModel`. After initializing the base model, we patch the adapter models using `get_peft_model`. This allows us to enhance the model by integrating LoRA (Low-Rank Adaptation) weights, which are now displayed as part of the model's configuration. This setup facilitates improved customization and adaptability of the model for specialized tasks."
      ]
    },
    {
      "cell_type": "code",
      "execution_count": null,
      "metadata": {
        "id": "te1_HsoJB7Es"
      },
      "outputs": [],
      "source": [
        "model"
      ]
    },
    {
      "cell_type": "markdown",
      "metadata": {
        "id": "vQ_Bz_NQKCtV"
      },
      "source": [
        "### **Configure Training**"
      ]
    },
    {
      "cell_type": "markdown",
      "metadata": {
        "id": "T4UQ-4nPKF_g"
      },
      "source": [
        "We now define training arguments for **supervised fine-tuning (SFT)** using Hugging Face's `SFTTrainer`.\n",
        "The setup ensures training runs efficiently on Colab GPUs."
      ]
    },
    {
      "cell_type": "code",
      "execution_count": null,
      "metadata": {
        "id": "0EGcJ09z_exb"
      },
      "outputs": [],
      "source": [
        "# Supervised Fine-Tuning (SFT) trainer setup\n",
        "trainer = SFTTrainer(\n",
        "    model = model,\n",
        "    tokenizer = tokenizer,\n",
        "    train_dataset = formatted_training_dataset,\n",
        "    eval_dataset = formatted_validation_dataset,\n",
        "    dataset_text_field = \"text\",                                                # column containing the text\n",
        "    max_seq_length = 2048,                                                      # max sequence length\n",
        "    data_collator = DataCollatorForSeq2Seq(tokenizer=tokenizer),                # handles padding, batching\n",
        "    dataset_num_proc = 2,                                                       # parallel dataset processing\n",
        "    packing = False,                                                            # set True to pack short sequences (faster)\n",
        "\n",
        "    # Training hyperparameters\n",
        "    args = TrainingArguments(\n",
        "        per_device_train_batch_size = 2,                                        # batch size per GPU\n",
        "        gradient_accumulation_steps = 4,                                        # simulate larger batch via accumulation\n",
        "        warmup_steps = 5,                                                       # warmup before LR schedule\n",
        "        max_steps = 60,                                                         # limit training steps (overrides epochs)\n",
        "        learning_rate = 2e-4,                                                   # base learning rate\n",
        "        fp16 = not is_bfloat16_supported(),                                     # use fp16 if bf16 not available\n",
        "        bf16 = is_bfloat16_supported(),                                         # use bf16 if supported (better precision)\n",
        "        logging_steps = 1,                                                      # log every step\n",
        "        optim = \"adamw_8bit\",                                                   # memory-efficient optimizer\n",
        "        weight_decay = 0.01,                                                    # weight decay for regularization\n",
        "        lr_scheduler_type = \"linear\",                                           # linear learning rate decay\n",
        "        seed = 3407,                                                            # reproducibility\n",
        "        output_dir = \"outputs\",                                                 # save model outputs\n",
        "        report_to = \"none\"                                                      # disable logging to external services\n",
        "    ),\n",
        ")\n"
      ]
    },
    {
      "cell_type": "code",
      "execution_count": null,
      "metadata": {
        "id": "xH8cGYJJ_0Wh"
      },
      "outputs": [],
      "source": [
        "# Begin fine-tuning\n",
        "training_history = trainer.train()"
      ]
    },
    {
      "cell_type": "markdown",
      "metadata": {
        "id": "C45mg7AjBMTr"
      },
      "source": [
        "### **Save Fine-Tuned Model**\n"
      ]
    },
    {
      "cell_type": "markdown",
      "metadata": {
        "id": "tucu4Hp6LNVn"
      },
      "source": [
        "After training, we save the **LoRA fine-tuned model** for future inference."
      ]
    },
    {
      "cell_type": "code",
      "execution_count": null,
      "metadata": {
        "id": "QdJmXe09MEpH"
      },
      "outputs": [],
      "source": [
        "# Save locally\n",
        "lora_model_name = \"finetuned_mistral_llm\"\n",
        "model.save_pretrained(lora_model_name)                                          # Save LoRA-finetuned model\n",
        "\n",
        "# Verify saved files\n",
        "!ls -lh {lora_model_name}                                                       # List files inside the saved model folder"
      ]
    },
    {
      "cell_type": "code",
      "execution_count": null,
      "metadata": {
        "id": "XjPmezvToOeH"
      },
      "outputs": [],
      "source": [
        "# # Comment out this cell if you want to save the model to Drive\n",
        "\n",
        "# from google.colab import drive\n",
        "# drive.mount('/content/drive')\n",
        "\n",
        "# drive_model_path = \"/content/drive/MyDrive/finetuned_mistral_llm\"\n",
        "\n",
        "# !cp -r {lora_model_name} {drive_model_path}"
      ]
    },
    {
      "cell_type": "markdown",
      "metadata": {
        "id": "-Sq_u6Mpq441"
      },
      "source": [
        "# **3. Evaluation of LLM after FineTuning**"
      ]
    },
    {
      "cell_type": "markdown",
      "metadata": {
        "id": "ieQO8m5UMlEx"
      },
      "source": [
        "Once the model has been fine-tuned, the next step is to **measure its effectiveness**. In business terms, this is like checking whether the training investment has paid off and whether the system can generate outputs that align with expectations."
      ]
    },
    {
      "cell_type": "markdown",
      "metadata": {
        "id": "qGV4lcz8FHa1"
      },
      "source": [
        "### **Loading the Finetuned Mistral Model**"
      ]
    },
    {
      "cell_type": "code",
      "execution_count": null,
      "metadata": {
        "id": "dXDLid2b0zLu"
      },
      "outputs": [],
      "source": [
        "finetuned_model, finetuned_tokenizer = FastLanguageModel.from_pretrained(\n",
        "    model_name=lora_model_name,                                                 # Replace the model name with \"drive_model_path\" if you are loading the model from Drive\n",
        "    max_seq_length=2048,\n",
        "    dtype=None,\n",
        "    load_in_4bit=True\n",
        ")"
      ]
    },
    {
      "cell_type": "markdown",
      "metadata": {
        "id": "OaJ5bmUoN6c_"
      },
      "source": [
        "> **Note** <br> It is not strictly necessary to save and reload the model if you are evaluating it in the same Colab session - the model is still in memory. **However, as a best practice,** we save the fine-tuned model and then reload it for evaluation."
      ]
    },
    {
      "cell_type": "markdown",
      "metadata": {
        "id": "Fb0DfllzFFmx"
      },
      "source": [
        "### **Generate Summaries**"
      ]
    },
    {
      "cell_type": "code",
      "execution_count": null,
      "metadata": {
        "id": "Q1wHlgN7VEbh"
      },
      "outputs": [],
      "source": [
        "# Calling the function to generate summaries\n",
        "predicted_summaries = generate_summaries(dialogues=test_dialogues,\n",
        "                                         model=finetuned_model,\n",
        "                                         tokenizer=finetuned_tokenizer,\n",
        "                                         prompt_template=alpaca_prompt_template\n",
        "                                         )"
      ]
    },
    {
      "cell_type": "markdown",
      "metadata": {
        "id": "3WvP1kbtFIcF"
      },
      "source": [
        "### **Evaluate Using BERTScore**"
      ]
    },
    {
      "cell_type": "code",
      "execution_count": null,
      "metadata": {
        "id": "jTPGlwJP1llz"
      },
      "outputs": [],
      "source": [
        "score = bert_scorer.compute(\n",
        "    predictions=predicted_summaries,\n",
        "    references=test_summaries,\n",
        "    lang='en',\n",
        "    rescale_with_baseline=True\n",
        ")\n",
        "finetune_score = sum(score['f1']) / len(score['f1'])\n",
        "print(finetune_score)"
      ]
    },
    {
      "cell_type": "markdown",
      "metadata": {
        "id": "qFbvHrEQjsDb"
      },
      "source": [
        "**The BERT Score of Finetuned Mistral LLM is 0.67**\n",
        "\n",
        "- This suggests that the model is producing reasonably good summaries that align well with human expectations.\n",
        "\n",
        "- While not perfect, it demonstrates that fine-tuning has meaningfully improved the model's ability to perform the summarization task."
      ]
    },
    {
      "cell_type": "markdown",
      "metadata": {
        "id": "JPgLSo07YBo3"
      },
      "source": [
        "# **Conclusion**\n"
      ]
    },
    {
      "cell_type": "markdown",
      "metadata": {
        "id": "hYSz_oGD5U6e"
      },
      "source": [
        "* The fine-tuned model generates concise and clinically accurate summaries, enhancing the quality of documentation and supporting improved patient care.\n",
        "\n",
        "* Summaries now align closely with clinical communication needs, allowing medical practitioners quick access to relevant and structured information.\n",
        "\n",
        "* This approach establishes a foundation for developing intelligent healthcare support systems that are context-aware, scalable, and tailored to the needs of medical professionals.\n",
        "\n",
        "* The system's effectiveness is contingent on the availability of high-quality task-relevant consultation data and may require further refinement for diverse healthcare contexts.\n",
        "\n",
        "* While the model produces clinically relevant summaries, continuous evaluation and possible adjustments are necessary to maintain alignment with evolving healthcare standards and practices."
      ]
    },
    {
      "cell_type": "markdown",
      "metadata": {
        "id": "mQvaNDqQ3BJa"
      },
      "source": [
        "<font size = 6 color=\"#4682B4\"><b> Power Ahead </font>\n",
        "___"
      ]
    }
  ],
  "metadata": {
    "accelerator": "GPU",
    "colab": {
      "collapsed_sections": [
        "Aa1yXUesL7Zy",
        "lnwETBOE6Bz5",
        "YhyMoqjoq48A",
        "AFBNy7vSq42O",
        "wCmKWuZkBzzR",
        "-Sq_u6Mpq441",
        "JPgLSo07YBo3"
      ],
      "gpuType": "T4",
      "provenance": []
    },
    "kernelspec": {
      "display_name": "Python 3",
      "name": "python3"
    },
    "language_info": {
      "codemirror_mode": {
        "name": "ipython",
        "version": 3
      },
      "file_extension": ".py",
      "mimetype": "text/x-python",
      "name": "python",
      "nbconvert_exporter": "python",
      "pygments_lexer": "ipython3",
      "version": "3.9.23"
    }
  },
  "nbformat": 4,
  "nbformat_minor": 0
}