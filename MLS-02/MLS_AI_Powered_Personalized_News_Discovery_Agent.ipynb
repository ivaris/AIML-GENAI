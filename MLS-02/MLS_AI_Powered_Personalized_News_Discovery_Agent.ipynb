{
  "nbformat": 4,
  "nbformat_minor": 0,
  "metadata": {
    "colab": {
      "provenance": [],
      "collapsed_sections": [
        "JwggHbqvcnvC",
        "6OH3tYHeyknw",
        "QN3t6kZpAnA6",
        "RR00vGhXCYhW",
        "gcR5I4PESe1X",
        "2b_72xINJPdG",
        "1sMbW9IufN3U"
      ]
    },
    "kernelspec": {
      "name": "python3",
      "display_name": "Python 3"
    },
    "language_info": {
      "name": "python"
    }
  },
  "cells": [
    {
      "cell_type": "markdown",
      "metadata": {
        "id": "UmKLmjqmHMQM"
      },
      "source": [
        "<center><p float=\"center\">\n",
        "  <img src=\"https://upload.wikimedia.org/wikipedia/commons/e/e9/4_RGB_McCombs_School_Brand_Branded.png\" width=\"300\" height=\"100\"/>\n",
        "  <img src=\"https://mma.prnewswire.com/media/1458111/Great_Learning_Logo.jpg?p=facebook\" width=\"200\" height=\"100\"/>\n",
        "</p></center>\n",
        "\n",
        "<center><font size=10>Generative AI for Business Applications</center></font>\n",
        "<center><font size=6>Agentic AI Workflows - Week 2</center></font>"
      ]
    },
    {
      "cell_type": "markdown",
      "metadata": {
        "id": "azxWym9-HMpz"
      },
      "source": [
        "<center><p float=\"center\">\n",
        "  <img src=\"https://images.pexels.com/photos/17706646/pexels-photo-17706646.jpeg\" width=720></a>\n",
        "<center><font size=6>NewsFindr: AI-Powered Personalized News Discovery Agent</center></font>"
      ]
    },
    {
      "cell_type": "markdown",
      "source": [
        "#**Problem Statement**"
      ],
      "metadata": {
        "id": "keS00aIfPsKA"
      }
    },
    {
      "cell_type": "markdown",
      "source": [
        "## Business Context"
      ],
      "metadata": {
        "id": "EPQ65biPM2V2"
      }
    },
    {
      "cell_type": "markdown",
      "source": [
        "In today’s fast-paced digital environment, users are inundated with endless streams of news from traditional feeds and search engines. This often results in information overload, difficulty in identifying trustworthy sources, and inefficiencies in discovering relevant updates. To address this challenge, NewsFindr is building an AI-powered news retrieval agent that leverages Agentic AI to deliver personalized, credible, and real-time news recommendations. By applying a structured multi-step approach, the system ensures secure, fair, and explainable recommendations that improve user experience, engagement, and trust in news discovery."
      ],
      "metadata": {
        "id": "VKqbjARXegOp"
      }
    },
    {
      "cell_type": "markdown",
      "source": [
        "## Objective"
      ],
      "metadata": {
        "id": "AIFFQl3wM2YQ"
      }
    },
    {
      "cell_type": "markdown",
      "source": [
        "The goal is to develop a prototype that demonstrates how Agentic AI can transform the way users access timely news while ensuring credibility and reducing misinformation.\n",
        "\n",
        "Specifically, the system aims to:\n",
        "\n",
        "* Provide real-time, personalized news retrieval tailored to user interests.\n",
        "* Ensure accuracy and credibility by sourcing from trusted platforms and minimizing misinformation.\n",
        "* Improve user engagement through seamless content discovery and reduced information overload.\n",
        "* Streamline news consumption by eliminating outdated and irrelevant content, offering a refined reading experience.\n",
        "\n",
        "This case study focuses on building a small part of that broader solution, a system that expands user interests into search queries, retrieves credible news links, and generates concise, trustworthy summaries. By successfully implementing this approach, NewsFindr seeks to redefine news discovery, enhance user satisfaction, and improve access to reliable information in an era of rapid content generation.\n"
      ],
      "metadata": {
        "id": "vqwmNt9Fekyg"
      }
    },
    {
      "cell_type": "markdown",
      "source": [
        "## Data Description\n"
      ],
      "metadata": {
        "id": "kcOzydwQcS7r"
      }
    },
    {
      "cell_type": "markdown",
      "source": [
        "The database consists of the following columns:\n",
        "\n",
        "* **Customer ID** - A unique identifier assigned to each customer.\n",
        "* **Name** - The customer’s full name.\n",
        "* **Email** - The customer’s registered email address.\n",
        "* **Interests** - Key topics or domains the customer is interested in (e.g., startups, travel).\n",
        "* **Last Updated** - Timestamp indicating the most recent update of the customer’s information.\n"
      ],
      "metadata": {
        "id": "apQzelpNcS3r"
      }
    },
    {
      "cell_type": "markdown",
      "source": [
        "#**Installing and Importing Necessary Libraries**"
      ],
      "metadata": {
        "id": "oyAYFkGZM2bV"
      }
    },
    {
      "cell_type": "code",
      "source": [
        "!pip install -q openai==1.93.0 \\\n",
        "             langchain==0.3.26 \\\n",
        "             langchain-openai==0.3.27 \\\n",
        "             langchainhub==0.1.21 \\\n",
        "             langchain-experimental==0.3.4 \\\n",
        "             pandas==2.2.2 \\\n",
        "             numpy==2.0.2 \\\n",
        "             ddgs==9.5.5\n"
      ],
      "metadata": {
        "colab": {
          "base_uri": "https://localhost:8080/"
        },
        "id": "rb_gU_WHOv5T",
        "outputId": "b13c88aa-4abe-4c8c-edfe-6aa1dd41e20c"
      },
      "execution_count": null,
      "outputs": [
        {
          "output_type": "stream",
          "name": "stdout",
          "text": [
            "\u001b[?25l   \u001b[90m━━━━━━━━━━━━━━━━━━━━━━━━━━━━━━━━━━━━━━━━\u001b[0m \u001b[32m0.0/755.0 kB\u001b[0m \u001b[31m?\u001b[0m eta \u001b[36m-:--:--\u001b[0m\r\u001b[2K   \u001b[90m━━━━━━━━━━━━━━━━━━━━━━━━━━━━━━━━━━━━━━━━\u001b[0m \u001b[32m755.0/755.0 kB\u001b[0m \u001b[31m22.5 MB/s\u001b[0m eta \u001b[36m0:00:00\u001b[0m\n",
            "\u001b[?25h\u001b[?25l   \u001b[90m━━━━━━━━━━━━━━━━━━━━━━━━━━━━━━━━━━━━━━━━\u001b[0m \u001b[32m0.0/1.0 MB\u001b[0m \u001b[31m?\u001b[0m eta \u001b[36m-:--:--\u001b[0m\r\u001b[2K   \u001b[90m━━━━━━━━━━━━━━━━━━━━━━━━━━━━━━━━━━━━━━━━\u001b[0m \u001b[32m1.0/1.0 MB\u001b[0m \u001b[31m58.5 MB/s\u001b[0m eta \u001b[36m0:00:00\u001b[0m\n",
            "\u001b[2K   \u001b[90m━━━━━━━━━━━━━━━━━━━━━━━━━━━━━━━━━━━━━━━━\u001b[0m \u001b[32m70.4/70.4 kB\u001b[0m \u001b[31m6.0 MB/s\u001b[0m eta \u001b[36m0:00:00\u001b[0m\n",
            "\u001b[2K   \u001b[90m━━━━━━━━━━━━━━━━━━━━━━━━━━━━━━━━━━━━━━━━\u001b[0m \u001b[32m209.2/209.2 kB\u001b[0m \u001b[31m8.2 MB/s\u001b[0m eta \u001b[36m0:00:00\u001b[0m\n",
            "\u001b[2K   \u001b[90m━━━━━━━━━━━━━━━━━━━━━━━━━━━━━━━━━━━━━━━━\u001b[0m \u001b[32m2.5/2.5 MB\u001b[0m \u001b[31m88.0 MB/s\u001b[0m eta \u001b[36m0:00:00\u001b[0m\n",
            "\u001b[2K   \u001b[90m━━━━━━━━━━━━━━━━━━━━━━━━━━━━━━━━━━━━━━━━\u001b[0m \u001b[32m5.3/5.3 MB\u001b[0m \u001b[31m87.1 MB/s\u001b[0m eta \u001b[36m0:00:00\u001b[0m\n",
            "\u001b[2K   \u001b[90m━━━━━━━━━━━━━━━━━━━━━━━━━━━━━━━━━━━━━━━━\u001b[0m \u001b[32m65.5/65.5 kB\u001b[0m \u001b[31m5.4 MB/s\u001b[0m eta \u001b[36m0:00:00\u001b[0m\n",
            "\u001b[2K   \u001b[90m━━━━━━━━━━━━━━━━━━━━━━━━━━━━━━━━━━━━━━━━\u001b[0m \u001b[32m3.3/3.3 MB\u001b[0m \u001b[31m82.9 MB/s\u001b[0m eta \u001b[36m0:00:00\u001b[0m\n",
            "\u001b[2K   \u001b[90m━━━━━━━━━━━━━━━━━━━━━━━━━━━━━━━━━━━━━━━━\u001b[0m \u001b[32m50.9/50.9 kB\u001b[0m \u001b[31m4.6 MB/s\u001b[0m eta \u001b[36m0:00:00\u001b[0m\n",
            "\u001b[?25h"
          ]
        }
      ]
    },
    {
      "cell_type": "markdown",
      "source": [
        "**Note:**\n",
        "\n",
        "- After running the above cell, kindly restart the runtime (for Google Colab) or notebook kernel (for Jupyter Notebook), and run all cells sequentially from the next cell.\n",
        "- On executing the above line of code, you might see a warning regarding package dependencies. This error message can be ignored as the above code ensures that all necessary libraries and their dependencies are maintained to successfully execute the code in this notebook."
      ],
      "metadata": {
        "id": "sXmpt2EluGxV"
      }
    },
    {
      "cell_type": "code",
      "source": [
        "# Import standard libraries for JSON handling, OS operations, and data manipulation\n",
        "import json\n",
        "import os\n",
        "import pandas as pd\n",
        "\n",
        "# Import LangChain tools for creating agents, initializing tools, and defining agent types\n",
        "from langchain.agents import create_sql_agent, initialize_agent, Tool, AgentType\n",
        "from langchain.agents.agent_types import AgentType\n",
        "from langchain.chat_models import ChatOpenAI\n",
        "from langchain.schema import SystemMessage, HumanMessage\n",
        "\n",
        "# Import SQLite support for database operations\n",
        "import sqlite3\n",
        "from langchain.sql_database import SQLDatabase\n",
        "\n",
        "# Import DDGS for DuckDuckGo search queries\n",
        "from ddgs import DDGS\n"
      ],
      "metadata": {
        "id": "8bXCAc98s2x3"
      },
      "execution_count": 1,
      "outputs": []
    },
    {
      "cell_type": "markdown",
      "source": [
        "# **Loading and Setting Up the LLM**"
      ],
      "metadata": {
        "id": "JwggHbqvcnvC"
      }
    },
    {
      "cell_type": "code",
      "source": [
        "# Load the JSON file and extract values\n",
        "file_name = 'config.json'\n",
        "with open(file_name, 'r') as file:\n",
        "    config = json.load(file)\n",
        "    OPENAI_API_KEY = config.get(\"OPENAI_API_KEY\") # Loading the API Key\n",
        "    OPENAI_API_BASE = config.get(\"OPENAI_API_BASE\") # Loading the API Base Url\n",
        "\n",
        "\n",
        "# Storing API credentials in environment variables\n",
        "os.environ['OPENAI_API_KEY'] = OPENAI_API_KEY\n",
        "os.environ[\"OPENAI_BASE_URL\"] = OPENAI_API_BASE"
      ],
      "metadata": {
        "id": "auD1tdnx85io"
      },
      "execution_count": 2,
      "outputs": []
    },
    {
      "cell_type": "code",
      "source": [
        "# Initialise the LLM\n",
        "llm = ChatOpenAI(model_name=\"gpt-4o-mini\", temperature=0)"
      ],
      "metadata": {
        "colab": {
          "base_uri": "https://localhost:8080/"
        },
        "id": "4is-NTWycuhk",
        "outputId": "051779c3-1674-4785-e026-c5cb15699d20"
      },
      "execution_count": 3,
      "outputs": [
        {
          "output_type": "stream",
          "name": "stderr",
          "text": [
            "/tmp/ipython-input-1651733205.py:2: LangChainDeprecationWarning: The class `ChatOpenAI` was deprecated in LangChain 0.0.10 and will be removed in 1.0. An updated version of the class exists in the :class:`~langchain-openai package and should be used instead. To use it run `pip install -U :class:`~langchain-openai` and import as `from :class:`~langchain_openai import ChatOpenAI``.\n",
            "  llm = ChatOpenAI(model_name=\"gpt-4o-mini\", temperature=0)\n"
          ]
        }
      ]
    },
    {
      "cell_type": "markdown",
      "source": [
        "#**SQL Agent for Data Retrieval**"
      ],
      "metadata": {
        "id": "6OH3tYHeyknw"
      }
    },
    {
      "cell_type": "code",
      "source": [
        "# Connect to the customer SQLite database using LangChain's SQLDatabase wrapper\n",
        "customer_db = SQLDatabase.from_uri(\"sqlite:////content/customer.db\")"
      ],
      "metadata": {
        "id": "rXHKU5sOXS4-"
      },
      "execution_count": 4,
      "outputs": []
    },
    {
      "cell_type": "code",
      "source": [
        "# Initialize a SQL agent to interact with the customer database using the LLM\n",
        "sqlite_agent = create_sql_agent(\n",
        "    llm,\n",
        "    db=customer_db,\n",
        "    agent_type=\"openai-tools\",\n",
        "    verbose=False\n",
        ")\n"
      ],
      "metadata": {
        "id": "JCbkrdK6QqCg"
      },
      "execution_count": 5,
      "outputs": []
    },
    {
      "cell_type": "markdown",
      "source": [
        "## Testing SQL Agent on some prompts"
      ],
      "metadata": {
        "id": "KuP2xAnwc1AQ"
      }
    },
    {
      "cell_type": "code",
      "source": [
        "# Define the user's email and create a query to fetch all records for that email\n",
        "email = \"ian.203631a0-b@gmail.com\"\n",
        "query = f\"Fetch all records with email_id {email}\"\n",
        "\n",
        "# Execute the query using the SQL agent and store the output\n",
        "output = sqlite_agent.invoke(query)\n",
        "\n",
        "# Display the retrieved records\n",
        "output\n"
      ],
      "metadata": {
        "colab": {
          "base_uri": "https://localhost:8080/"
        },
        "id": "VIbeKT7XQ1x_",
        "outputId": "c01e8b9a-e3a1-4bc7-924a-7af8071daf0a"
      },
      "execution_count": 6,
      "outputs": [
        {
          "output_type": "execute_result",
          "data": {
            "text/plain": [
              "{'input': 'Fetch all records with email_id ian.203631a0-b@gmail.com',\n",
              " 'output': 'Here is the record for the email id `ian.203631a0-b@gmail.com`:\\n\\n- **Customer ID:** 203631A0-B\\n- **Name:** Ian\\n- **Email:** ian.203631a0-b@gmail.com\\n- **Interests:** Startups, Travel\\n- **Last Updated:** 2025-03-26 06:46:15'}"
            ]
          },
          "metadata": {},
          "execution_count": 6
        }
      ]
    },
    {
      "cell_type": "code",
      "source": [
        "query= f\"Fetch all the unique email_id\"\n",
        "\n",
        "output=sqlite_agent.invoke(query)\n",
        "\n",
        "output"
      ],
      "metadata": {
        "colab": {
          "base_uri": "https://localhost:8080/"
        },
        "id": "KJBHVxGKFnT1",
        "outputId": "a2fb824f-54aa-4756-8be3-a1107ab78ad9"
      },
      "execution_count": 7,
      "outputs": [
        {
          "output_type": "execute_result",
          "data": {
            "text/plain": [
              "{'input': 'Fetch all the unique email_id',\n",
              " 'output': 'Here are some unique email IDs from the database:\\n\\n1. alice.6eb33c45-5@gmail.com\\n2. alice.d56e53b6-1@gmail.com\\n3. emma.a88fec03-c@gmail.com\\n4. george.5483cb53-8@gmail.com\\n5. hannah.4770b814-2@gmail.com\\n6. ian.203631a0-b@gmail.com\\n7. ian.aee37571-7@gmail.com\\n8. julia.b5a14512-c@gmail.com\\n9. julia.cf4d1edb-9@gmail.com\\n10. julia.d77d96f3-3@gmail.com\\n\\nIf you need more information or additional examples, let me know!'}"
            ]
          },
          "metadata": {},
          "execution_count": 7
        }
      ]
    },
    {
      "cell_type": "code",
      "source": [
        "email=\"ian.203631a0-b@gmail.com\"\n",
        "\n",
        "query= f\"Fetch all the Interests with email_id {email} in a list\"\n",
        "\n",
        "output=sqlite_agent.invoke(query)\n",
        "\n",
        "output"
      ],
      "metadata": {
        "colab": {
          "base_uri": "https://localhost:8080/"
        },
        "id": "rMGbKLggRMIG",
        "outputId": "c929eb07-d33f-4fc6-fc2b-608401c4582d"
      },
      "execution_count": 8,
      "outputs": [
        {
          "output_type": "execute_result",
          "data": {
            "text/plain": [
              "{'input': 'Fetch all the Interests with email_id ian.203631a0-b@gmail.com in a list',\n",
              " 'output': 'The interests for the email id ian.203631a0-b@gmail.com are: Startups, Travel.'}"
            ]
          },
          "metadata": {},
          "execution_count": 8
        }
      ]
    },
    {
      "cell_type": "markdown",
      "source": [
        "#**Tool: Expanded Search Queries**"
      ],
      "metadata": {
        "id": "QN3t6kZpAnA6"
      }
    },
    {
      "cell_type": "markdown",
      "source": [
        "The `expand_search_queries` function creates up-to-date queries from user interests (`state.interests`). Using an LLM with a system prompt focused on current events, it generates precise queries for breaking news and trending topics, storing them in `expanded_search` for later article retrieval.\n"
      ],
      "metadata": {
        "id": "k04ZsQawCI3z"
      }
    },
    {
      "cell_type": "code",
      "source": [
        "# Function to expand user interests into current, time-sensitive news search queries\n",
        "def expand_search_queries(interests: str) -> str:\n",
        "\n",
        "    # Generate relevant and up-to-date search queries for each interest.\n",
        "    system_prompt = \"\"\"You are an expert news analyst specializing in crafting precise search queries\n",
        "    to retrieve the most recent, up-to-date information. Focus only on breaking news, trending topics,\n",
        "    or recent developments without specifying any year.\"\"\"\n",
        "\n",
        "    expanded_queries = []\n",
        "    for interest in interests.split(\", \"):\n",
        "        prompt = f\"Generate one search query related to: '{interest}'\"\n",
        "        response = llm.predict_messages(\n",
        "            [\n",
        "                SystemMessage(content=system_prompt),\n",
        "                HumanMessage(content=prompt)\n",
        "            ]\n",
        "        )\n",
        "        query = response.content.strip()\n",
        "        if query:\n",
        "            expanded_queries.append(query)\n",
        "\n",
        "    return \"\\n\".join(expanded_queries)\n",
        "\n",
        "# Wrap the function as a LangChain tool\n",
        "expand_tool = Tool(\n",
        "    name=\"ExpandSearchQueries\",\n",
        "    func=expand_search_queries,\n",
        "    description=\"Generates precise, time-sensitive news search queries from user interests.\"\n",
        ")\n"
      ],
      "metadata": {
        "id": "zSP2s_EOXv1V"
      },
      "execution_count": 9,
      "outputs": []
    },
    {
      "cell_type": "markdown",
      "source": [
        "#**Tool: Fetch News Results Using DuckDuckGo**\n"
      ],
      "metadata": {
        "id": "RR00vGhXCYhW"
      }
    },
    {
      "cell_type": "markdown",
      "source": [
        "\n",
        "This function retrieves news results from DuckDuckGo based on the user's expanded search queries."
      ],
      "metadata": {
        "id": "vNsilzq5dKkw"
      }
    },
    {
      "cell_type": "code",
      "source": [
        "# Function to search DuckDuckGo for recent news based on a query\n",
        "def ddg_search(query: str) -> str:\n",
        "    \"\"\"\n",
        "    Perform a DuckDuckGo search and return top 5 results with title, URL, and snippet.\n",
        "    \"\"\"\n",
        "    results = []\n",
        "    with DDGS() as ddgs:\n",
        "        for r in ddgs.text(query, max_results=5):\n",
        "            title = r.get(\"title\", \"\")\n",
        "            url = r.get(\"href\", \"\")\n",
        "            body = r.get(\"body\", \"\")\n",
        "            res = {\"title\": title, \"url\": url, \"body\": body}\n",
        "            results.append(res)\n",
        "    return results\n",
        "\n",
        "# Wrap the search function as a LangChain tool\n",
        "ddg_search_tool = Tool(\n",
        "    name=\"DuckDuckGoSearch\",\n",
        "    func=ddg_search,\n",
        "    description=\"Searches DuckDuckGo for recent news and returns top 5 results with URLs.\"\n",
        ")\n"
      ],
      "metadata": {
        "id": "FghzbDQfYCqq"
      },
      "execution_count": 10,
      "outputs": []
    },
    {
      "cell_type": "markdown",
      "source": [
        "#**Tool: Filter URLs**"
      ],
      "metadata": {
        "id": "gcR5I4PESe1X"
      }
    },
    {
      "cell_type": "markdown",
      "source": [
        "\n",
        "This function filters search result URLs to keep only those relevant to the user's interests.\n",
        "\n",
        "Extracts URLs and their body content from the search results.\n",
        "\n",
        "Updates the state with the refined list of relevant URLs and their descriptions."
      ],
      "metadata": {
        "id": "MdanJycvddAC"
      }
    },
    {
      "cell_type": "code",
      "source": [
        "# Function to filter news results by credibility using an LLM\n",
        "def filter_with_llm(search_results: list) -> list:\n",
        "    \"\"\"\n",
        "    Analyze a list of news results and return only credible sources.\n",
        "    Ensures diversity by including at least two links per topic (if available).\n",
        "    Each returned item includes the URL and its snippet/body.\n",
        "    \"\"\"\n",
        "    # Convert the list of results to JSON for LLM input\n",
        "    search_results = json.dumps(search_results, indent=2)\n",
        "\n",
        "    # System prompt instructing the LLM on how to evaluate credibility\n",
        "    system_prompt = \"\"\"You are a news credibility analyst. Review the provided news URLs and evaluate\n",
        "    their trustworthiness. Select and return only credible sources, ensuring diversity\n",
        "    by including at least two different links for each topic (if available).\n",
        "    For each credible link, provide the URL along with its body.\"\"\"\n",
        "\n",
        "    # Combine prompt and data for LLM\n",
        "    prompt = \"Evaluate the following URLs for credibility:\\n\" + \"\\n\".join(search_results)\n",
        "\n",
        "    # Get LLM response\n",
        "    response = llm.predict_messages(\n",
        "        [\n",
        "            SystemMessage(content=system_prompt),\n",
        "            HumanMessage(content=prompt)\n",
        "        ]\n",
        "    )\n",
        "\n",
        "    return response.content\n",
        "\n",
        "# Wrap the credibility function as a LangChain tool\n",
        "credibility_tool = Tool(\n",
        "    name=\"CredibilityFilter\",\n",
        "    func=filter_with_llm,\n",
        "    description=\"Filters search results by evaluating URL credibility using LLM.\"\n",
        ")"
      ],
      "metadata": {
        "id": "0XFCxjvBuqmr"
      },
      "execution_count": 11,
      "outputs": []
    },
    {
      "cell_type": "markdown",
      "source": [
        "#**Tool: Generate Summary for the URLs**"
      ],
      "metadata": {
        "id": "2b_72xINJPdG"
      }
    },
    {
      "cell_type": "markdown",
      "source": [
        "This function generates summaries for the credible URLs\n",
        "\n",
        "Returns the URLs and the Summary based on the users interest"
      ],
      "metadata": {
        "id": "MhyMcCj9d7hY"
      }
    },
    {
      "cell_type": "code",
      "source": [
        "# Function to summarize news articles from a list of URLs using an LLM\n",
        "def summarize_news(url_list) -> str:\n",
        "    \"\"\"\n",
        "    Generate high-level summaries of news sources given their URLs.\n",
        "    Uses the LLM to infer main topics and general coverage for each link.\n",
        "    \"\"\"\n",
        "\n",
        "    system_prompt = \"\"\"You are a professional news summarizer.\n",
        "    Summarize the following news sources, focusing on the general news coverage\n",
        "    and main topics likely reported by each source with their links.\"\"\"\n",
        "\n",
        "    prompt = \"Summarize the following news \\n\\n\" + \"\\n\\n\".join(url_list)\n",
        "\n",
        "    response = llm.predict_messages(\n",
        "        [\n",
        "            SystemMessage(content=system_prompt),\n",
        "            HumanMessage(content=prompt)\n",
        "        ]\n",
        "    )\n",
        "\n",
        "    return \"Final Answer: \" + response.content\n",
        "\n",
        "# Wrap summarization function as a LangChain tool\n",
        "summarize_tool = Tool(\n",
        "    name=\"SummarizeNews\",\n",
        "    func=summarize_news,\n",
        "    description=\"Generates summaries from news URLs with links of the news\"\n",
        ")\n"
      ],
      "metadata": {
        "id": "ecZSnKlEX_JG"
      },
      "execution_count": 12,
      "outputs": []
    },
    {
      "cell_type": "markdown",
      "source": [
        "#**Building the Agent Using Tools**"
      ],
      "metadata": {
        "id": "uzQs1Y5_HI5z"
      }
    },
    {
      "cell_type": "code",
      "source": [
        "def agent_call(tools_list, user_email, verbose=True):\n",
        "    # Combine all custom tools and initialize a zero-shot agent with LLM\n",
        "    tools = [expand_tool, ddg_search_tool, credibility_tool, summarize_tool]\n",
        "\n",
        "    agent = initialize_agent(\n",
        "        tools=tools_list,  # Tools the agent can use\n",
        "        llm=llm,      # Language model for reasoning and tool usage\n",
        "        agent_type=AgentType.ZERO_SHOT_REACT_DESCRIPTION,  # Uses reasoning + tool descriptions\n",
        "        verbose=verbose\n",
        "    )\n",
        "\n",
        "    interest_result = sqlite_agent.run(f\"Fetch all the Interests with email_id {user_email} in a list\")\n",
        "\n",
        "    agent_prompt = f\"\"\"\n",
        "    The user's interest is: {interest_result}\n",
        "    1. Expand the user's interest into news search queries using 'ExpandSearchQueries'.\n",
        "    2. Search for recent news on all queries using 'DuckDuckGoSearch'.\n",
        "    3. Combine results from all queries and filter them with 'CredibilityFilter'.\n",
        "    4. Summarize all credible results using 'SummarizeNews'.\n",
        "    5. Provide the final summary to the user.\n",
        "    \"\"\"\n",
        "\n",
        "    # Execute the agent workflow and print the final summarized news\n",
        "    response = agent.run(agent_prompt)\n",
        "\n",
        "    return response"
      ],
      "metadata": {
        "id": "KDgCQlfFc92I"
      },
      "execution_count": 13,
      "outputs": []
    },
    {
      "cell_type": "code",
      "source": [
        "tools_list = [expand_tool, ddg_search_tool, credibility_tool, summarize_tool]\n",
        "user_email = \"ian.203631a0-b@gmail.com\"\n",
        "\n",
        "response = agent_call(tools_list, user_email)\n",
        "print(\"\\n======= FINAL RESPONSE =======\")\n",
        "print(response)"
      ],
      "metadata": {
        "id": "5lVDbytDdo0T",
        "colab": {
          "base_uri": "https://localhost:8080/"
        },
        "outputId": "c5d94a0b-e138-4a7c-9fef-98eeaad55cdc"
      },
      "execution_count": 14,
      "outputs": [
        {
          "output_type": "stream",
          "name": "stderr",
          "text": [
            "/tmp/ipython-input-1505148585.py:5: LangChainDeprecationWarning: LangChain agents will continue to be supported, but it is recommended for new use cases to be built with LangGraph. LangGraph offers a more flexible and full-featured framework for building agents, including support for tool-calling, persistence of state, and human-in-the-loop workflows. For details, refer to the `LangGraph documentation <https://langchain-ai.github.io/langgraph/>`_ as well as guides for `Migrating from AgentExecutor <https://python.langchain.com/docs/how_to/migrate_agent/>`_ and LangGraph's `Pre-built ReAct agent <https://langchain-ai.github.io/langgraph/how-tos/create-react-agent/>`_.\n",
            "  agent = initialize_agent(\n",
            "/tmp/ipython-input-1505148585.py:12: LangChainDeprecationWarning: The method `Chain.run` was deprecated in langchain 0.1.0 and will be removed in 1.0. Use :meth:`~invoke` instead.\n",
            "  interest_result = sqlite_agent.run(f\"Fetch all the Interests with email_id {user_email} in a list\")\n"
          ]
        },
        {
          "output_type": "stream",
          "name": "stdout",
          "text": [
            "\n",
            "\n",
            "\u001b[1m> Entering new AgentExecutor chain...\u001b[0m\n",
            "\u001b[32;1m\u001b[1;3mI need to expand the user's interests into specific news search queries related to startups and travel. After that, I will search for recent news articles based on those queries, filter the results for credibility, and summarize the credible articles.\n",
            "\n",
            "Action: ExpandSearchQueries  \n",
            "Action Input: \"Startups, Travel\"  \u001b[0m"
          ]
        },
        {
          "output_type": "stream",
          "name": "stderr",
          "text": [
            "/tmp/ipython-input-2473464417.py:12: LangChainDeprecationWarning: The method `BaseChatModel.predict_messages` was deprecated in langchain-core 0.1.7 and will be removed in 1.0. Use :meth:`~invoke` instead.\n",
            "  response = llm.predict_messages(\n"
          ]
        },
        {
          "output_type": "stream",
          "name": "stdout",
          "text": [
            "\n",
            "Observation: \u001b[36;1m\u001b[1;3m\"latest startup funding news October 2023\"\n",
            "\"latest travel restrictions updates October 2023\"\u001b[0m\n",
            "Thought:\u001b[32;1m\u001b[1;3mI have expanded the user's interests into specific news search queries related to startups and travel. The queries generated are focused on the latest startup funding news and travel restrictions updates for October 2023.\n",
            "\n",
            "Action: DuckDuckGoSearch  \n",
            "Action Input: \"latest startup funding news October 2023\"  \u001b[0m\n",
            "Observation: \u001b[33;1m\u001b[1;3m[{'title': 'Breaking News, Latest News and Videos | CNN', 'url': 'https://www.cnn.com/', 'body': 'View the latest news and breaking news today for U.S., world, weather, entertainment, politics and health at CNN.com.'}, {'title': 'Fox News - Breaking News Updates | Latest News Headlines ...', 'url': 'https://www.foxnews.com/?msockid=138bf22ec101636e37eee44cc08e628d', 'body': 'Latest Current News: U.S., World, Entertainment, Health, Business, Technology, Politics, Sports.'}, {'title': 'NBC News - Breaking Headlines and Video Reports on World, …', 'url': 'https://www.nbcnews.com/', 'body': 'Go to NBCNews.com for breaking news, videos, and the latest top stories in world news, business, politics, health and pop culture.'}, {'title': 'Associated Press News: Breaking News, Latest Headlines and ...', 'url': 'https://apnews.com/', 'body': 'Read the latest headlines, breaking news, and videos at APNews.com, the definitive source for independent journalism from every corner of the globe.'}, {'title': 'AOL.com - News, Sports, Weather, Entertainment, Local & Lifestyle', 'url': 'https://www.aol.com/', 'body': 'AOL latest headlines, entertainment, sports, articles for business, health and world news.'}]\u001b[0m\n",
            "Thought:\u001b[32;1m\u001b[1;3mThe search for \"latest startup funding news October 2023\" did not yield relevant articles specifically about startup funding. I will now search for the second query related to travel restrictions.\n",
            "\n",
            "Action: DuckDuckGoSearch  \n",
            "Action Input: \"latest travel restrictions updates October 2023\"  \u001b[0m\n",
            "Observation: \u001b[33;1m\u001b[1;3m[{'title': 'Schengen Area - Wikipedia', 'url': 'https://en.wikipedia.org/wiki/Schengen_Area', 'body': 'Temporary restriction on the entry of persons without the right of free movement for non-essential travel .\"World Economic Outlook Database, October 2023 \". IMF.org. International Monetary Fund.'}, {'title': 'China Visa-Free Travel - A Complete Guide', 'url': 'https://www.china-briefing.com/news/china-visa-free-travel-policies-complete-guide/', 'body': 'China’s Visa-Free Policies: Latest Updates . UPDATE (December 7, 2023 ): China and Singapore are seeking to establish a mutual 30-day visa-free travel arrangement to boost people exchanges between the two countries, according to Reuters.'}, {'title': '[Withdrawn] Travel to England from another country... - GOV.UK', 'url': 'https://www.gov.uk/guidance/travel-to-england-from-another-country-during-coronavirus-covid-19', 'body': '17 March 2023 . Updated rules for people travelling from mainland China announced. 5 January 2023 . New rules for travel from China come into force today.'}, {'title': 'Morocco to Mauritius COVID-19 Travel Restrictions & Bans | Trip.com', 'url': 'https://www.trip.com/travel-restrictions-covid-19/morocco-to-mauritius/', 'body': 'Trip.com has compiled the latest updates related to COVID-19 travel restrictions , travel advisories, and travel bans for trips from Morocco to Mauritius.'}, {'title': 'Travel to Thailand from China | ThaiEmbassy.com', 'url': 'https://www.thaiembassy.com/travel-to-thailand/travel-to-thailand-from-china', 'body': 'Travel Restrictions Updates . Thailand Lifestyle.Chinese travelers can travel to Thailand and organize a “Visa on Arrival” as long as it is for the purpose of tourism. They may stay for a maximum of 15 days with this visa or up to 30 days when you arrive on or before March 31, 2023 .'}]\u001b[0m\n",
            "Thought:\u001b[32;1m\u001b[1;3mThe search for \"latest travel restrictions updates October 2023\" yielded some relevant articles, but I need to filter these results for credibility before summarizing them.\n",
            "\n",
            "Action: CredibilityFilter  \n",
            "Action Input: [{'title': 'Schengen Area - Wikipedia', 'url': 'https://en.wikipedia.org/wiki/Schengen_Area'}, {'title': 'China Visa-Free Travel - A Complete Guide', 'url': 'https://www.china-briefing.com/news/china-visa-free-travel-policies-complete-guide/'}, {'title': '[Withdrawn] Travel to England from another country... - GOV.UK', 'url': 'https://www.gov.uk/guidance/travel-to-england-from-another-country-during-coronavirus-covid-19'}, {'title': 'Morocco to Mauritius COVID-19 Travel Restrictions & Bans | Trip.com', 'url': 'https://www.trip.com/travel-restrictions-covid-19/morocco-to-mauritius/'}, {'title': 'Travel to Thailand from China | ThaiEmbassy.com', 'url': 'https://www.thaiembassy.com/travel-to-thailand/travel-to-thailand-from-china'}]  \u001b[0m\n",
            "Observation: \u001b[38;5;200m\u001b[1;3mHere are the credible sources from the provided URLs, ensuring diversity in topics:\n",
            "\n",
            "1. **Schengen Area - Wikipedia**\n",
            "   - **URL:** [https://en.wikipedia.org/wiki/Schengen_Area](https://en.wikipedia.org/wiki/Schengen_Area)\n",
            "   - **Body:** The Schengen Area is a group of 27 European countries that have abolished passport and other types of border control at their mutual borders. It operates as a single jurisdiction for international travel purposes, with a common visa policy.\n",
            "\n",
            "2. **Travel to England from another country - GOV.UK**\n",
            "   - **URL:** [https://www.gov.uk/guidance/travel-to-england-from-another-country-during-coronavirus-covid-19](https://www.gov.uk/guidance/travel-to-england-from-another-country-during-coronavirus-covid-19)\n",
            "   - **Body:** This official government guidance provides information on the rules and regulations for traveling to England from other countries during the COVID-19 pandemic, including quarantine requirements and testing protocols.\n",
            "\n",
            "3. **Travel to Thailand from China | ThaiEmbassy.com**\n",
            "   - **URL:** [https://www.thaiembassy.com/travel-to-thailand/travel-to-thailand-from-china](https://www.thaiembassy.com/travel-to-thailand/travel-to-thailand-from-china)\n",
            "   - **Body:** This page provides essential information for travelers from China to Thailand, including visa requirements, health regulations, and travel advisories.\n",
            "\n",
            "These sources are credible as they come from established platforms, including government websites and reputable informational resources.\u001b[0m\n",
            "Thought:\u001b[32;1m\u001b[1;3mI have identified credible sources related to travel restrictions. Now, I will summarize the information from these sources to provide a comprehensive overview for the user.\n",
            "\n",
            "Action: SummarizeNews  \n",
            "Action Input: ['https://en.wikipedia.org/wiki/Schengen_Area', 'https://www.gov.uk/guidance/travel-to-england-from-another-country-during-coronavirus-covid-19', 'https://www.thaiembassy.com/travel-to-thailand/travel-to-thailand-from-china']  \u001b[0m\n",
            "Observation: \u001b[36;1m\u001b[1;3mFinal Answer: Here’s a summary of the provided news sources, focusing on their general coverage and main topics:\n",
            "\n",
            "1. **Schengen Area (Wikipedia)**:\n",
            "   - The Schengen Area is a group of European countries that have abolished passport and other types of border control at their mutual borders. The article likely covers the history, member countries, and the implications of the Schengen Agreement on travel and immigration within Europe. It may also discuss the impact of the COVID-19 pandemic on travel regulations within the Schengen Area.\n",
            "   - Link: [Schengen Area - Wikipedia](https://en.wikipedia.org/wiki/Schengen_Area)\n",
            "\n",
            "2. **UK Government Guidance on Travel to England During COVID-19**:\n",
            "   - This source provides official guidance for travelers coming to England from other countries during the COVID-19 pandemic. It likely includes information on entry requirements, quarantine rules, testing protocols, and any restrictions that may be in place for international travelers. The guidance is aimed at ensuring public health and safety while facilitating travel.\n",
            "   - Link: [UK Government Guidance](https://www.gov.uk/guidance/travel-to-england-from-another-country-during-coronavirus-covid-19)\n",
            "\n",
            "3. **Thai Embassy Travel Information**:\n",
            "   - This source offers travel guidance for individuals traveling to Thailand, particularly from China. It likely includes details on visa requirements, health and safety protocols, and any travel restrictions due to the COVID-19 pandemic. The embassy's information is crucial for ensuring that travelers are aware of the necessary steps to enter Thailand safely and legally.\n",
            "   - Link: [Thai Embassy Travel Information](https://www.thaiembassy.com/travel-to-thailand/travel-to-thailand-from-china)\n",
            "\n",
            "These sources collectively provide insights into travel regulations and guidelines in the context of the ongoing COVID-19 pandemic, focusing on the Schengen Area, travel to England, and travel to Thailand.\u001b[0m\n",
            "Thought:\u001b[32;1m\u001b[1;3mI now know the final answer.  \n",
            "Final Answer: Here’s a summary of the provided news sources, focusing on their general coverage and main topics:\n",
            "\n",
            "1. **Schengen Area (Wikipedia)**:\n",
            "   - The Schengen Area is a group of European countries that have abolished passport and other types of border control at their mutual borders. The article likely covers the history, member countries, and the implications of the Schengen Agreement on travel and immigration within Europe. It may also discuss the impact of the COVID-19 pandemic on travel regulations within the Schengen Area.  \n",
            "   - Link: [Schengen Area - Wikipedia](https://en.wikipedia.org/wiki/Schengen_Area)\n",
            "\n",
            "2. **UK Government Guidance on Travel to England During COVID-19**:\n",
            "   - This source provides official guidance for travelers coming to England from other countries during the COVID-19 pandemic. It likely includes information on entry requirements, quarantine rules, testing protocols, and any restrictions that may be in place for international travelers. The guidance is aimed at ensuring public health and safety while facilitating travel.  \n",
            "   - Link: [UK Government Guidance](https://www.gov.uk/guidance/travel-to-england-from-another-country-during-coronavirus-covid-19)\n",
            "\n",
            "3. **Thai Embassy Travel Information**:\n",
            "   - This source offers travel guidance for individuals traveling to Thailand, particularly from China. It likely includes details on visa requirements, health and safety protocols, and any travel restrictions due to the COVID-19 pandemic. The embassy's information is crucial for ensuring that travelers are aware of the necessary steps to enter Thailand safely and legally.  \n",
            "   - Link: [Thai Embassy Travel Information](https://www.thaiembassy.com/travel-to-thailand/travel-to-thailand-from-china)\n",
            "\n",
            "These sources collectively provide insights into travel regulations and guidelines in the context of the ongoing COVID-19 pandemic, focusing on the Schengen Area, travel to England, and travel to Thailand.\u001b[0m\n",
            "\n",
            "\u001b[1m> Finished chain.\u001b[0m\n",
            "\n",
            "======= FINAL RESPONSE =======\n",
            "Here’s a summary of the provided news sources, focusing on their general coverage and main topics:\n",
            "\n",
            "1. **Schengen Area (Wikipedia)**:\n",
            "   - The Schengen Area is a group of European countries that have abolished passport and other types of border control at their mutual borders. The article likely covers the history, member countries, and the implications of the Schengen Agreement on travel and immigration within Europe. It may also discuss the impact of the COVID-19 pandemic on travel regulations within the Schengen Area.  \n",
            "   - Link: [Schengen Area - Wikipedia](https://en.wikipedia.org/wiki/Schengen_Area)\n",
            "\n",
            "2. **UK Government Guidance on Travel to England During COVID-19**:\n",
            "   - This source provides official guidance for travelers coming to England from other countries during the COVID-19 pandemic. It likely includes information on entry requirements, quarantine rules, testing protocols, and any restrictions that may be in place for international travelers. The guidance is aimed at ensuring public health and safety while facilitating travel.  \n",
            "   - Link: [UK Government Guidance](https://www.gov.uk/guidance/travel-to-england-from-another-country-during-coronavirus-covid-19)\n",
            "\n",
            "3. **Thai Embassy Travel Information**:\n",
            "   - This source offers travel guidance for individuals traveling to Thailand, particularly from China. It likely includes details on visa requirements, health and safety protocols, and any travel restrictions due to the COVID-19 pandemic. The embassy's information is crucial for ensuring that travelers are aware of the necessary steps to enter Thailand safely and legally.  \n",
            "   - Link: [Thai Embassy Travel Information](https://www.thaiembassy.com/travel-to-thailand/travel-to-thailand-from-china)\n",
            "\n",
            "These sources collectively provide insights into travel regulations and guidelines in the context of the ongoing COVID-19 pandemic, focusing on the Schengen Area, travel to England, and travel to Thailand.\n"
          ]
        }
      ]
    },
    {
      "cell_type": "code",
      "source": [
        "tools_list = [expand_tool, ddg_search_tool, credibility_tool, summarize_tool]\n",
        "\n",
        "user_email = \"alice.6eb33c45-5@gmail.com\"\n",
        "\n",
        "response = agent_call(tools_list, user_email,verbose=False)\n",
        "print(\"\\n======= FINAL RESPONSE =======\")\n",
        "print(response)"
      ],
      "metadata": {
        "colab": {
          "base_uri": "https://localhost:8080/"
        },
        "outputId": "9d4974a3-c053-463a-d602-c839c7b02c01",
        "id": "tsylqXXnZn2Y"
      },
      "execution_count": 15,
      "outputs": [
        {
          "output_type": "stream",
          "name": "stdout",
          "text": [
            "\n",
            "======= FINAL RESPONSE =======\n",
            "Here’s a summary of the general news coverage and main topics likely reported by each of the provided sources:\n",
            "\n",
            "1. **AP News (Politics)**: \n",
            "   - Focuses on national and international political news, including elections, legislative developments, and significant political events. Coverage often includes analysis of political trends and implications for governance.\n",
            "   - Link: [AP News Politics](https://apnews.com/politics)\n",
            "\n",
            "2. **CNN**: \n",
            "   - Offers a wide range of news, including breaking news, politics, health, and technology. CNN is known for its in-depth reporting and analysis of current events, often featuring interviews with key figures and experts.\n",
            "   - Link: [CNN](https://www.cnn.com)\n",
            "\n",
            "3. **Washington Post**: \n",
            "   - Provides comprehensive coverage of U.S. and global news, with a strong emphasis on political reporting, investigative journalism, and opinion pieces. The Washington Post often delves into the implications of political decisions and societal issues.\n",
            "   - Link: [Washington Post](https://www.washingtonpost.com)\n",
            "\n",
            "4. **ABC News (Business)**: \n",
            "   - Covers business news, economic trends, and financial markets. ABC News focuses on how economic developments affect consumers and businesses, including corporate news and market analysis.\n",
            "   - Link: [ABC News Business](https://abcnews.go.com/business)\n",
            "\n",
            "5. **CNN (Business)**: \n",
            "   - Similar to its general news coverage, CNN's business section reports on economic news, market trends, and corporate developments. It often features expert analysis and insights into how global events impact the economy.\n",
            "   - Link: [CNN Business](https://www.cnn.com/business)\n",
            "\n",
            "6. **Axios**: \n",
            "   - Known for its concise and straightforward reporting, Axios covers a variety of topics including politics, business, technology, and health. The site emphasizes the \"why it matters\" aspect of news, providing context and implications for readers.\n",
            "   - Link: [Axios](https://www.axios.com)\n",
            "\n",
            "These sources collectively provide a broad spectrum of news coverage, from political developments to business and economic reporting, catering to diverse audience interests.\n"
          ]
        }
      ]
    },
    {
      "cell_type": "code",
      "source": [
        "tools_list = [expand_tool, ddg_search_tool, credibility_tool, summarize_tool]\n",
        "\n",
        "user_email = \"nora.c63fa237-e@gmail.com\"\n",
        "\n",
        "response = agent_call(tools_list, user_email,verbose=False)\n",
        "print(\"\\n======= FINAL RESPONSE =======\")\n",
        "print(response)"
      ],
      "metadata": {
        "colab": {
          "base_uri": "https://localhost:8080/"
        },
        "id": "6FoSJsQYZ9pA",
        "outputId": "a5945d75-85fb-4e55-ba77-aba42a780dde"
      },
      "execution_count": 16,
      "outputs": [
        {
          "output_type": "stream",
          "name": "stdout",
          "text": [
            "\n",
            "======= FINAL RESPONSE =======\n",
            "Here’s a summary of the general news coverage and main topics likely reported by each of the specified sources:\n",
            "\n",
            "1. **CNN** (https://www.cnn.com/)\n",
            "   - **General Coverage**: CNN provides comprehensive news coverage, including breaking news, politics, world events, and health.\n",
            "   - **Main Topics**: Current political developments, international relations, social issues, and major events in the U.S. and globally. They often feature in-depth analysis and opinion pieces.\n",
            "\n",
            "2. **NBC News** (https://www.nbcnews.com/)\n",
            "   - **General Coverage**: NBC News covers a wide range of topics including national and international news, politics, and human interest stories.\n",
            "   - **Main Topics**: Focus on major political events, social justice issues, health updates, and significant cultural stories. They also provide investigative journalism and feature segments.\n",
            "\n",
            "3. **Associated Press (AP) News** (https://apnews.com/)\n",
            "   - **General Coverage**: AP News is known for its straightforward reporting and is a primary source for news outlets worldwide.\n",
            "   - **Main Topics**: Breaking news, politics, business, technology, and sports. They emphasize factual reporting and often provide updates on ongoing stories.\n",
            "\n",
            "4. **BBC Business** (https://www.bbc.com/business)\n",
            "   - **General Coverage**: BBC Business focuses on economic news, market trends, and business-related stories.\n",
            "   - **Main Topics**: Global economic developments, corporate news, financial markets, and analysis of business trends. They also cover technology's impact on business.\n",
            "\n",
            "5. **McKinsey & Company Insights** (https://www.mckinsey.com/capabilities/mckinsey-digital/our-insights/the-top-trends-in-tech)\n",
            "   - **General Coverage**: McKinsey provides insights and research on business strategies, management, and technology trends.\n",
            "   - **Main Topics**: Analysis of technology trends, digital transformation, and strategic business insights. They often publish reports on industry trends and future forecasts.\n",
            "\n",
            "These sources collectively cover a broad spectrum of news, from hard news and politics to business insights and technology trends, catering to diverse audience interests.\n"
          ]
        }
      ]
    },
    {
      "cell_type": "markdown",
      "source": [
        "# **Conclusion**"
      ],
      "metadata": {
        "id": "1sMbW9IufN3U"
      }
    },
    {
      "cell_type": "markdown",
      "source": [
        "- NewsFindr leverages Agentic AI to deliver personalized, real-time news updates tailored to individual user interests.\n",
        "- The system ensures accuracy and credibility by filtering content from trusted sources, reducing misinformation.\n",
        "- Automated query expansion, search, and summarization help users access relevant information efficiently, minimizing information overload.\n",
        "- Users benefit from a refined news consumption experience, focusing only on timely and meaningful developments.\n",
        "- Overall, NewsFindr demonstrates how AI can enhance engagement, improve productivity, and streamline the discovery of important news.\n"
      ],
      "metadata": {
        "id": "3sxWohQkjZt3"
      }
    }
  ]
}